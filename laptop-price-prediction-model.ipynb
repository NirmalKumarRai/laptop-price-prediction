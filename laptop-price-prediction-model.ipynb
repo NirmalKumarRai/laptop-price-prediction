{
 "cells": [
  {
   "cell_type": "code",
   "execution_count": 1,
   "id": "a092ffa6",
   "metadata": {
    "execution": {
     "iopub.execute_input": "2023-04-07T18:06:31.648473Z",
     "iopub.status.busy": "2023-04-07T18:06:31.647623Z",
     "iopub.status.idle": "2023-04-07T18:06:32.850320Z",
     "shell.execute_reply": "2023-04-07T18:06:32.848908Z"
    },
    "papermill": {
     "duration": 1.232269,
     "end_time": "2023-04-07T18:06:32.853566",
     "exception": false,
     "start_time": "2023-04-07T18:06:31.621297",
     "status": "completed"
    },
    "tags": []
   },
   "outputs": [],
   "source": [
    "import numpy as np\n",
    "import matplotlib.pyplot as plt\n",
    "import seaborn as sns\n",
    "import pandas as pd\n",
    "\n",
    "\n",
    "import warnings\n",
    "warnings.filterwarnings('ignore')"
   ]
  },
  {
   "cell_type": "code",
   "execution_count": 2,
   "id": "74fbf819",
   "metadata": {
    "execution": {
     "iopub.execute_input": "2023-04-07T18:06:32.900581Z",
     "iopub.status.busy": "2023-04-07T18:06:32.900095Z",
     "iopub.status.idle": "2023-04-07T18:06:32.936742Z",
     "shell.execute_reply": "2023-04-07T18:06:32.935395Z"
    },
    "papermill": {
     "duration": 0.064122,
     "end_time": "2023-04-07T18:06:32.939828",
     "exception": false,
     "start_time": "2023-04-07T18:06:32.875706",
     "status": "completed"
    },
    "tags": []
   },
   "outputs": [],
   "source": [
    "train = pd.read_csv('D:/laptop price prediction/archive (3)/laptops_train.csv')\n",
    "test = pd.read_csv('D:/laptop price prediction/archive (3)/laptops_test.csv')"
   ]
  },
  {
   "cell_type": "code",
   "execution_count": 3,
   "id": "53efa861",
   "metadata": {
    "execution": {
     "iopub.execute_input": "2023-04-07T18:06:32.984918Z",
     "iopub.status.busy": "2023-04-07T18:06:32.984473Z",
     "iopub.status.idle": "2023-04-07T18:06:33.022027Z",
     "shell.execute_reply": "2023-04-07T18:06:33.020568Z"
    },
    "papermill": {
     "duration": 0.063443,
     "end_time": "2023-04-07T18:06:33.024901",
     "exception": false,
     "start_time": "2023-04-07T18:06:32.961458",
     "status": "completed"
    },
    "tags": []
   },
   "outputs": [
    {
     "data": {
      "text/html": [
       "<div>\n",
       "<style scoped>\n",
       "    .dataframe tbody tr th:only-of-type {\n",
       "        vertical-align: middle;\n",
       "    }\n",
       "\n",
       "    .dataframe tbody tr th {\n",
       "        vertical-align: top;\n",
       "    }\n",
       "\n",
       "    .dataframe thead th {\n",
       "        text-align: right;\n",
       "    }\n",
       "</style>\n",
       "<table border=\"1\" class=\"dataframe\">\n",
       "  <thead>\n",
       "    <tr style=\"text-align: right;\">\n",
       "      <th></th>\n",
       "      <th>Manufacturer</th>\n",
       "      <th>Model Name</th>\n",
       "      <th>Category</th>\n",
       "      <th>Screen Size</th>\n",
       "      <th>Screen</th>\n",
       "      <th>CPU</th>\n",
       "      <th>RAM</th>\n",
       "      <th>Storage</th>\n",
       "      <th>GPU</th>\n",
       "      <th>Operating System</th>\n",
       "      <th>Operating System Version</th>\n",
       "      <th>Weight</th>\n",
       "      <th>Price</th>\n",
       "    </tr>\n",
       "  </thead>\n",
       "  <tbody>\n",
       "    <tr>\n",
       "      <th>0</th>\n",
       "      <td>Apple</td>\n",
       "      <td>MacBook Pro</td>\n",
       "      <td>Ultrabook</td>\n",
       "      <td>13.3\"</td>\n",
       "      <td>IPS Panel Retina Display 2560x1600</td>\n",
       "      <td>Intel Core i5 2.3GHz</td>\n",
       "      <td>8GB</td>\n",
       "      <td>128GB SSD</td>\n",
       "      <td>Intel Iris Plus Graphics 640</td>\n",
       "      <td>macOS</td>\n",
       "      <td>NaN</td>\n",
       "      <td>1.37kg</td>\n",
       "      <td>11912523.48</td>\n",
       "    </tr>\n",
       "    <tr>\n",
       "      <th>1</th>\n",
       "      <td>Apple</td>\n",
       "      <td>Macbook Air</td>\n",
       "      <td>Ultrabook</td>\n",
       "      <td>13.3\"</td>\n",
       "      <td>1440x900</td>\n",
       "      <td>Intel Core i5 1.8GHz</td>\n",
       "      <td>8GB</td>\n",
       "      <td>128GB Flash Storage</td>\n",
       "      <td>Intel HD Graphics 6000</td>\n",
       "      <td>macOS</td>\n",
       "      <td>NaN</td>\n",
       "      <td>1.34kg</td>\n",
       "      <td>7993374.48</td>\n",
       "    </tr>\n",
       "    <tr>\n",
       "      <th>2</th>\n",
       "      <td>HP</td>\n",
       "      <td>250 G6</td>\n",
       "      <td>Notebook</td>\n",
       "      <td>15.6\"</td>\n",
       "      <td>Full HD 1920x1080</td>\n",
       "      <td>Intel Core i5 7200U 2.5GHz</td>\n",
       "      <td>8GB</td>\n",
       "      <td>256GB SSD</td>\n",
       "      <td>Intel HD Graphics 620</td>\n",
       "      <td>No OS</td>\n",
       "      <td>NaN</td>\n",
       "      <td>1.86kg</td>\n",
       "      <td>5112900.00</td>\n",
       "    </tr>\n",
       "    <tr>\n",
       "      <th>3</th>\n",
       "      <td>Apple</td>\n",
       "      <td>MacBook Pro</td>\n",
       "      <td>Ultrabook</td>\n",
       "      <td>15.4\"</td>\n",
       "      <td>IPS Panel Retina Display 2880x1800</td>\n",
       "      <td>Intel Core i7 2.7GHz</td>\n",
       "      <td>16GB</td>\n",
       "      <td>512GB SSD</td>\n",
       "      <td>AMD Radeon Pro 455</td>\n",
       "      <td>macOS</td>\n",
       "      <td>NaN</td>\n",
       "      <td>1.83kg</td>\n",
       "      <td>22563005.40</td>\n",
       "    </tr>\n",
       "    <tr>\n",
       "      <th>4</th>\n",
       "      <td>Apple</td>\n",
       "      <td>MacBook Pro</td>\n",
       "      <td>Ultrabook</td>\n",
       "      <td>13.3\"</td>\n",
       "      <td>IPS Panel Retina Display 2560x1600</td>\n",
       "      <td>Intel Core i5 3.1GHz</td>\n",
       "      <td>8GB</td>\n",
       "      <td>256GB SSD</td>\n",
       "      <td>Intel Iris Plus Graphics 650</td>\n",
       "      <td>macOS</td>\n",
       "      <td>NaN</td>\n",
       "      <td>1.37kg</td>\n",
       "      <td>16037611.20</td>\n",
       "    </tr>\n",
       "  </tbody>\n",
       "</table>\n",
       "</div>"
      ],
      "text/plain": [
       "  Manufacturer   Model Name   Category Screen Size  \\\n",
       "0        Apple  MacBook Pro  Ultrabook       13.3\"   \n",
       "1        Apple  Macbook Air  Ultrabook       13.3\"   \n",
       "2           HP       250 G6   Notebook       15.6\"   \n",
       "3        Apple  MacBook Pro  Ultrabook       15.4\"   \n",
       "4        Apple  MacBook Pro  Ultrabook       13.3\"   \n",
       "\n",
       "                               Screen                         CPU   RAM  \\\n",
       "0  IPS Panel Retina Display 2560x1600        Intel Core i5 2.3GHz   8GB   \n",
       "1                            1440x900        Intel Core i5 1.8GHz   8GB   \n",
       "2                   Full HD 1920x1080  Intel Core i5 7200U 2.5GHz   8GB   \n",
       "3  IPS Panel Retina Display 2880x1800        Intel Core i7 2.7GHz  16GB   \n",
       "4  IPS Panel Retina Display 2560x1600        Intel Core i5 3.1GHz   8GB   \n",
       "\n",
       "               Storage                           GPU Operating System  \\\n",
       "0            128GB SSD  Intel Iris Plus Graphics 640            macOS   \n",
       "1  128GB Flash Storage        Intel HD Graphics 6000            macOS   \n",
       "2            256GB SSD         Intel HD Graphics 620            No OS   \n",
       "3            512GB SSD            AMD Radeon Pro 455            macOS   \n",
       "4            256GB SSD  Intel Iris Plus Graphics 650            macOS   \n",
       "\n",
       "  Operating System Version  Weight        Price  \n",
       "0                      NaN  1.37kg  11912523.48  \n",
       "1                      NaN  1.34kg   7993374.48  \n",
       "2                      NaN  1.86kg   5112900.00  \n",
       "3                      NaN  1.83kg  22563005.40  \n",
       "4                      NaN  1.37kg  16037611.20  "
      ]
     },
     "execution_count": 3,
     "metadata": {},
     "output_type": "execute_result"
    }
   ],
   "source": [
    "train.head()"
   ]
  },
  {
   "cell_type": "code",
   "execution_count": 4,
   "id": "9d72f9dc",
   "metadata": {
    "execution": {
     "iopub.execute_input": "2023-04-07T18:06:33.071072Z",
     "iopub.status.busy": "2023-04-07T18:06:33.070568Z",
     "iopub.status.idle": "2023-04-07T18:06:33.079127Z",
     "shell.execute_reply": "2023-04-07T18:06:33.077721Z"
    },
    "papermill": {
     "duration": 0.034968,
     "end_time": "2023-04-07T18:06:33.081998",
     "exception": false,
     "start_time": "2023-04-07T18:06:33.047030",
     "status": "completed"
    },
    "tags": []
   },
   "outputs": [],
   "source": [
    "data = train.append(test)"
   ]
  },
  {
   "cell_type": "code",
   "execution_count": 5,
   "id": "b662f30e",
   "metadata": {
    "execution": {
     "iopub.execute_input": "2023-04-07T18:06:33.128498Z",
     "iopub.status.busy": "2023-04-07T18:06:33.128014Z",
     "iopub.status.idle": "2023-04-07T18:06:33.135001Z",
     "shell.execute_reply": "2023-04-07T18:06:33.133625Z"
    },
    "papermill": {
     "duration": 0.033874,
     "end_time": "2023-04-07T18:06:33.137945",
     "exception": false,
     "start_time": "2023-04-07T18:06:33.104071",
     "status": "completed"
    },
    "tags": []
   },
   "outputs": [
    {
     "name": "stdout",
     "output_type": "stream",
     "text": [
      "(977, 13) (325, 13) (1302, 13)\n"
     ]
    }
   ],
   "source": [
    "print(train.shape,test.shape,data.shape)"
   ]
  },
  {
   "cell_type": "markdown",
   "id": "186ddf51",
   "metadata": {
    "papermill": {
     "duration": 0.021572,
     "end_time": "2023-04-07T18:06:33.181229",
     "exception": false,
     "start_time": "2023-04-07T18:06:33.159657",
     "status": "completed"
    },
    "tags": []
   },
   "source": [
    "<center><h3> Data Preprocessing </h3></center>"
   ]
  },
  {
   "cell_type": "code",
   "execution_count": 6,
   "id": "7321d1da",
   "metadata": {
    "execution": {
     "iopub.execute_input": "2023-04-07T18:06:33.227158Z",
     "iopub.status.busy": "2023-04-07T18:06:33.226697Z",
     "iopub.status.idle": "2023-04-07T18:06:33.252402Z",
     "shell.execute_reply": "2023-04-07T18:06:33.250949Z"
    },
    "papermill": {
     "duration": 0.051905,
     "end_time": "2023-04-07T18:06:33.254951",
     "exception": false,
     "start_time": "2023-04-07T18:06:33.203046",
     "status": "completed"
    },
    "tags": []
   },
   "outputs": [
    {
     "name": "stdout",
     "output_type": "stream",
     "text": [
      "<class 'pandas.core.frame.DataFrame'>\n",
      "Int64Index: 1302 entries, 0 to 324\n",
      "Data columns (total 13 columns):\n",
      " #   Column                    Non-Null Count  Dtype  \n",
      "---  ------                    --------------  -----  \n",
      " 0   Manufacturer              1302 non-null   object \n",
      " 1   Model Name                1302 non-null   object \n",
      " 2   Category                  1302 non-null   object \n",
      " 3   Screen Size               1302 non-null   object \n",
      " 4   Screen                    1302 non-null   object \n",
      " 5   CPU                       1302 non-null   object \n",
      " 6   RAM                       1302 non-null   object \n",
      " 7    Storage                  1302 non-null   object \n",
      " 8   GPU                       1302 non-null   object \n",
      " 9   Operating System          1302 non-null   object \n",
      " 10  Operating System Version  1132 non-null   object \n",
      " 11  Weight                    1302 non-null   object \n",
      " 12  Price                     1302 non-null   float64\n",
      "dtypes: float64(1), object(12)\n",
      "memory usage: 142.4+ KB\n"
     ]
    }
   ],
   "source": [
    "data.info()"
   ]
  },
  {
   "cell_type": "code",
   "execution_count": 7,
   "id": "8e6f2b41",
   "metadata": {
    "execution": {
     "iopub.execute_input": "2023-04-07T18:06:33.301425Z",
     "iopub.status.busy": "2023-04-07T18:06:33.300665Z",
     "iopub.status.idle": "2023-04-07T18:06:33.306782Z",
     "shell.execute_reply": "2023-04-07T18:06:33.305699Z"
    },
    "papermill": {
     "duration": 0.032633,
     "end_time": "2023-04-07T18:06:33.309348",
     "exception": false,
     "start_time": "2023-04-07T18:06:33.276715",
     "status": "completed"
    },
    "tags": []
   },
   "outputs": [],
   "source": [
    "data = data.drop('Operating System Version',axis=1)"
   ]
  },
  {
   "cell_type": "code",
   "execution_count": 8,
   "id": "1c1091a3",
   "metadata": {
    "execution": {
     "iopub.execute_input": "2023-04-07T18:06:33.356330Z",
     "iopub.status.busy": "2023-04-07T18:06:33.355389Z",
     "iopub.status.idle": "2023-04-07T18:06:33.370357Z",
     "shell.execute_reply": "2023-04-07T18:06:33.368923Z"
    },
    "papermill": {
     "duration": 0.041916,
     "end_time": "2023-04-07T18:06:33.373503",
     "exception": false,
     "start_time": "2023-04-07T18:06:33.331587",
     "status": "completed"
    },
    "tags": []
   },
   "outputs": [
    {
     "name": "stdout",
     "output_type": "stream",
     "text": [
      "<class 'pandas.core.frame.DataFrame'>\n",
      "Int64Index: 1302 entries, 0 to 324\n",
      "Data columns (total 12 columns):\n",
      " #   Column            Non-Null Count  Dtype  \n",
      "---  ------            --------------  -----  \n",
      " 0   Manufacturer      1302 non-null   object \n",
      " 1   Model Name        1302 non-null   object \n",
      " 2   Category          1302 non-null   object \n",
      " 3   Screen Size       1302 non-null   object \n",
      " 4   Screen            1302 non-null   object \n",
      " 5   CPU               1302 non-null   object \n",
      " 6   RAM               1302 non-null   object \n",
      " 7    Storage          1302 non-null   object \n",
      " 8   GPU               1302 non-null   object \n",
      " 9   Operating System  1302 non-null   object \n",
      " 10  Weight            1302 non-null   object \n",
      " 11  Price             1302 non-null   float64\n",
      "dtypes: float64(1), object(11)\n",
      "memory usage: 132.2+ KB\n"
     ]
    }
   ],
   "source": [
    "data.info()"
   ]
  },
  {
   "cell_type": "code",
   "execution_count": 9,
   "id": "b6d223f0",
   "metadata": {
    "execution": {
     "iopub.execute_input": "2023-04-07T18:06:33.420043Z",
     "iopub.status.busy": "2023-04-07T18:06:33.419627Z",
     "iopub.status.idle": "2023-04-07T18:06:33.439190Z",
     "shell.execute_reply": "2023-04-07T18:06:33.437802Z"
    },
    "papermill": {
     "duration": 0.046199,
     "end_time": "2023-04-07T18:06:33.441937",
     "exception": false,
     "start_time": "2023-04-07T18:06:33.395738",
     "status": "completed"
    },
    "tags": []
   },
   "outputs": [
    {
     "data": {
      "text/html": [
       "<div>\n",
       "<style scoped>\n",
       "    .dataframe tbody tr th:only-of-type {\n",
       "        vertical-align: middle;\n",
       "    }\n",
       "\n",
       "    .dataframe tbody tr th {\n",
       "        vertical-align: top;\n",
       "    }\n",
       "\n",
       "    .dataframe thead th {\n",
       "        text-align: right;\n",
       "    }\n",
       "</style>\n",
       "<table border=\"1\" class=\"dataframe\">\n",
       "  <thead>\n",
       "    <tr style=\"text-align: right;\">\n",
       "      <th></th>\n",
       "      <th>Manufacturer</th>\n",
       "      <th>Model Name</th>\n",
       "      <th>Category</th>\n",
       "      <th>Screen Size</th>\n",
       "      <th>Screen</th>\n",
       "      <th>CPU</th>\n",
       "      <th>RAM</th>\n",
       "      <th>Storage</th>\n",
       "      <th>GPU</th>\n",
       "      <th>Operating System</th>\n",
       "      <th>Weight</th>\n",
       "      <th>Price</th>\n",
       "    </tr>\n",
       "  </thead>\n",
       "  <tbody>\n",
       "    <tr>\n",
       "      <th>0</th>\n",
       "      <td>Apple</td>\n",
       "      <td>MacBook Pro</td>\n",
       "      <td>Ultrabook</td>\n",
       "      <td>13.3\"</td>\n",
       "      <td>IPS Panel Retina Display 2560x1600</td>\n",
       "      <td>Intel Core i5 2.3GHz</td>\n",
       "      <td>8GB</td>\n",
       "      <td>128GB SSD</td>\n",
       "      <td>Intel Iris Plus Graphics 640</td>\n",
       "      <td>macOS</td>\n",
       "      <td>1.37kg</td>\n",
       "      <td>11912523.48</td>\n",
       "    </tr>\n",
       "    <tr>\n",
       "      <th>1</th>\n",
       "      <td>Apple</td>\n",
       "      <td>Macbook Air</td>\n",
       "      <td>Ultrabook</td>\n",
       "      <td>13.3\"</td>\n",
       "      <td>1440x900</td>\n",
       "      <td>Intel Core i5 1.8GHz</td>\n",
       "      <td>8GB</td>\n",
       "      <td>128GB Flash Storage</td>\n",
       "      <td>Intel HD Graphics 6000</td>\n",
       "      <td>macOS</td>\n",
       "      <td>1.34kg</td>\n",
       "      <td>7993374.48</td>\n",
       "    </tr>\n",
       "    <tr>\n",
       "      <th>2</th>\n",
       "      <td>HP</td>\n",
       "      <td>250 G6</td>\n",
       "      <td>Notebook</td>\n",
       "      <td>15.6\"</td>\n",
       "      <td>Full HD 1920x1080</td>\n",
       "      <td>Intel Core i5 7200U 2.5GHz</td>\n",
       "      <td>8GB</td>\n",
       "      <td>256GB SSD</td>\n",
       "      <td>Intel HD Graphics 620</td>\n",
       "      <td>No OS</td>\n",
       "      <td>1.86kg</td>\n",
       "      <td>5112900.00</td>\n",
       "    </tr>\n",
       "    <tr>\n",
       "      <th>3</th>\n",
       "      <td>Apple</td>\n",
       "      <td>MacBook Pro</td>\n",
       "      <td>Ultrabook</td>\n",
       "      <td>15.4\"</td>\n",
       "      <td>IPS Panel Retina Display 2880x1800</td>\n",
       "      <td>Intel Core i7 2.7GHz</td>\n",
       "      <td>16GB</td>\n",
       "      <td>512GB SSD</td>\n",
       "      <td>AMD Radeon Pro 455</td>\n",
       "      <td>macOS</td>\n",
       "      <td>1.83kg</td>\n",
       "      <td>22563005.40</td>\n",
       "    </tr>\n",
       "    <tr>\n",
       "      <th>4</th>\n",
       "      <td>Apple</td>\n",
       "      <td>MacBook Pro</td>\n",
       "      <td>Ultrabook</td>\n",
       "      <td>13.3\"</td>\n",
       "      <td>IPS Panel Retina Display 2560x1600</td>\n",
       "      <td>Intel Core i5 3.1GHz</td>\n",
       "      <td>8GB</td>\n",
       "      <td>256GB SSD</td>\n",
       "      <td>Intel Iris Plus Graphics 650</td>\n",
       "      <td>macOS</td>\n",
       "      <td>1.37kg</td>\n",
       "      <td>16037611.20</td>\n",
       "    </tr>\n",
       "  </tbody>\n",
       "</table>\n",
       "</div>"
      ],
      "text/plain": [
       "  Manufacturer   Model Name   Category Screen Size  \\\n",
       "0        Apple  MacBook Pro  Ultrabook       13.3\"   \n",
       "1        Apple  Macbook Air  Ultrabook       13.3\"   \n",
       "2           HP       250 G6   Notebook       15.6\"   \n",
       "3        Apple  MacBook Pro  Ultrabook       15.4\"   \n",
       "4        Apple  MacBook Pro  Ultrabook       13.3\"   \n",
       "\n",
       "                               Screen                         CPU   RAM  \\\n",
       "0  IPS Panel Retina Display 2560x1600        Intel Core i5 2.3GHz   8GB   \n",
       "1                            1440x900        Intel Core i5 1.8GHz   8GB   \n",
       "2                   Full HD 1920x1080  Intel Core i5 7200U 2.5GHz   8GB   \n",
       "3  IPS Panel Retina Display 2880x1800        Intel Core i7 2.7GHz  16GB   \n",
       "4  IPS Panel Retina Display 2560x1600        Intel Core i5 3.1GHz   8GB   \n",
       "\n",
       "               Storage                           GPU Operating System  Weight  \\\n",
       "0            128GB SSD  Intel Iris Plus Graphics 640            macOS  1.37kg   \n",
       "1  128GB Flash Storage        Intel HD Graphics 6000            macOS  1.34kg   \n",
       "2            256GB SSD         Intel HD Graphics 620            No OS  1.86kg   \n",
       "3            512GB SSD            AMD Radeon Pro 455            macOS  1.83kg   \n",
       "4            256GB SSD  Intel Iris Plus Graphics 650            macOS  1.37kg   \n",
       "\n",
       "         Price  \n",
       "0  11912523.48  \n",
       "1   7993374.48  \n",
       "2   5112900.00  \n",
       "3  22563005.40  \n",
       "4  16037611.20  "
      ]
     },
     "execution_count": 9,
     "metadata": {},
     "output_type": "execute_result"
    }
   ],
   "source": [
    "data.head()"
   ]
  },
  {
   "cell_type": "code",
   "execution_count": 10,
   "id": "cbf035bc",
   "metadata": {
    "execution": {
     "iopub.execute_input": "2023-04-07T18:06:33.488909Z",
     "iopub.status.busy": "2023-04-07T18:06:33.487975Z",
     "iopub.status.idle": "2023-04-07T18:06:33.500110Z",
     "shell.execute_reply": "2023-04-07T18:06:33.498687Z"
    },
    "papermill": {
     "duration": 0.038919,
     "end_time": "2023-04-07T18:06:33.503283",
     "exception": false,
     "start_time": "2023-04-07T18:06:33.464364",
     "status": "completed"
    },
    "tags": []
   },
   "outputs": [],
   "source": [
    "data['Wt'] = data['Weight'].apply(lambda x: x.split('k')[0])\n",
    "data['R'] = data['RAM'].apply(lambda x: x.split('G')[0])\n",
    "data['SS'] = data['Screen Size'].apply(lambda x: x.split('\\\"')[0])"
   ]
  },
  {
   "cell_type": "code",
   "execution_count": 11,
   "id": "10be7a14",
   "metadata": {
    "execution": {
     "iopub.execute_input": "2023-04-07T18:06:33.552219Z",
     "iopub.status.busy": "2023-04-07T18:06:33.551684Z",
     "iopub.status.idle": "2023-04-07T18:06:33.577660Z",
     "shell.execute_reply": "2023-04-07T18:06:33.576691Z"
    },
    "papermill": {
     "duration": 0.053243,
     "end_time": "2023-04-07T18:06:33.580315",
     "exception": false,
     "start_time": "2023-04-07T18:06:33.527072",
     "status": "completed"
    },
    "tags": []
   },
   "outputs": [
    {
     "data": {
      "text/html": [
       "<div>\n",
       "<style scoped>\n",
       "    .dataframe tbody tr th:only-of-type {\n",
       "        vertical-align: middle;\n",
       "    }\n",
       "\n",
       "    .dataframe tbody tr th {\n",
       "        vertical-align: top;\n",
       "    }\n",
       "\n",
       "    .dataframe thead th {\n",
       "        text-align: right;\n",
       "    }\n",
       "</style>\n",
       "<table border=\"1\" class=\"dataframe\">\n",
       "  <thead>\n",
       "    <tr style=\"text-align: right;\">\n",
       "      <th></th>\n",
       "      <th>Manufacturer</th>\n",
       "      <th>Model Name</th>\n",
       "      <th>Category</th>\n",
       "      <th>Screen</th>\n",
       "      <th>CPU</th>\n",
       "      <th>Storage</th>\n",
       "      <th>GPU</th>\n",
       "      <th>Operating System</th>\n",
       "      <th>Price</th>\n",
       "      <th>Weight</th>\n",
       "      <th>RAM</th>\n",
       "      <th>Screen Size</th>\n",
       "    </tr>\n",
       "  </thead>\n",
       "  <tbody>\n",
       "    <tr>\n",
       "      <th>0</th>\n",
       "      <td>Apple</td>\n",
       "      <td>MacBook Pro</td>\n",
       "      <td>Ultrabook</td>\n",
       "      <td>IPS Panel Retina Display 2560x1600</td>\n",
       "      <td>Intel Core i5 2.3GHz</td>\n",
       "      <td>128GB SSD</td>\n",
       "      <td>Intel Iris Plus Graphics 640</td>\n",
       "      <td>macOS</td>\n",
       "      <td>11912523.48</td>\n",
       "      <td>1.37</td>\n",
       "      <td>8</td>\n",
       "      <td>13.3</td>\n",
       "    </tr>\n",
       "    <tr>\n",
       "      <th>1</th>\n",
       "      <td>Apple</td>\n",
       "      <td>Macbook Air</td>\n",
       "      <td>Ultrabook</td>\n",
       "      <td>1440x900</td>\n",
       "      <td>Intel Core i5 1.8GHz</td>\n",
       "      <td>128GB Flash Storage</td>\n",
       "      <td>Intel HD Graphics 6000</td>\n",
       "      <td>macOS</td>\n",
       "      <td>7993374.48</td>\n",
       "      <td>1.34</td>\n",
       "      <td>8</td>\n",
       "      <td>13.3</td>\n",
       "    </tr>\n",
       "    <tr>\n",
       "      <th>2</th>\n",
       "      <td>HP</td>\n",
       "      <td>250 G6</td>\n",
       "      <td>Notebook</td>\n",
       "      <td>Full HD 1920x1080</td>\n",
       "      <td>Intel Core i5 7200U 2.5GHz</td>\n",
       "      <td>256GB SSD</td>\n",
       "      <td>Intel HD Graphics 620</td>\n",
       "      <td>No OS</td>\n",
       "      <td>5112900.00</td>\n",
       "      <td>1.86</td>\n",
       "      <td>8</td>\n",
       "      <td>15.6</td>\n",
       "    </tr>\n",
       "    <tr>\n",
       "      <th>3</th>\n",
       "      <td>Apple</td>\n",
       "      <td>MacBook Pro</td>\n",
       "      <td>Ultrabook</td>\n",
       "      <td>IPS Panel Retina Display 2880x1800</td>\n",
       "      <td>Intel Core i7 2.7GHz</td>\n",
       "      <td>512GB SSD</td>\n",
       "      <td>AMD Radeon Pro 455</td>\n",
       "      <td>macOS</td>\n",
       "      <td>22563005.40</td>\n",
       "      <td>1.83</td>\n",
       "      <td>16</td>\n",
       "      <td>15.4</td>\n",
       "    </tr>\n",
       "    <tr>\n",
       "      <th>4</th>\n",
       "      <td>Apple</td>\n",
       "      <td>MacBook Pro</td>\n",
       "      <td>Ultrabook</td>\n",
       "      <td>IPS Panel Retina Display 2560x1600</td>\n",
       "      <td>Intel Core i5 3.1GHz</td>\n",
       "      <td>256GB SSD</td>\n",
       "      <td>Intel Iris Plus Graphics 650</td>\n",
       "      <td>macOS</td>\n",
       "      <td>16037611.20</td>\n",
       "      <td>1.37</td>\n",
       "      <td>8</td>\n",
       "      <td>13.3</td>\n",
       "    </tr>\n",
       "  </tbody>\n",
       "</table>\n",
       "</div>"
      ],
      "text/plain": [
       "  Manufacturer   Model Name   Category                              Screen  \\\n",
       "0        Apple  MacBook Pro  Ultrabook  IPS Panel Retina Display 2560x1600   \n",
       "1        Apple  Macbook Air  Ultrabook                            1440x900   \n",
       "2           HP       250 G6   Notebook                   Full HD 1920x1080   \n",
       "3        Apple  MacBook Pro  Ultrabook  IPS Panel Retina Display 2880x1800   \n",
       "4        Apple  MacBook Pro  Ultrabook  IPS Panel Retina Display 2560x1600   \n",
       "\n",
       "                          CPU              Storage  \\\n",
       "0        Intel Core i5 2.3GHz            128GB SSD   \n",
       "1        Intel Core i5 1.8GHz  128GB Flash Storage   \n",
       "2  Intel Core i5 7200U 2.5GHz            256GB SSD   \n",
       "3        Intel Core i7 2.7GHz            512GB SSD   \n",
       "4        Intel Core i5 3.1GHz            256GB SSD   \n",
       "\n",
       "                            GPU Operating System        Price Weight RAM  \\\n",
       "0  Intel Iris Plus Graphics 640            macOS  11912523.48   1.37   8   \n",
       "1        Intel HD Graphics 6000            macOS   7993374.48   1.34   8   \n",
       "2         Intel HD Graphics 620            No OS   5112900.00   1.86   8   \n",
       "3            AMD Radeon Pro 455            macOS  22563005.40   1.83  16   \n",
       "4  Intel Iris Plus Graphics 650            macOS  16037611.20   1.37   8   \n",
       "\n",
       "  Screen Size  \n",
       "0        13.3  \n",
       "1        13.3  \n",
       "2        15.6  \n",
       "3        15.4  \n",
       "4        13.3  "
      ]
     },
     "execution_count": 11,
     "metadata": {},
     "output_type": "execute_result"
    }
   ],
   "source": [
    "data = data.drop(['Weight','Screen Size','RAM'],axis=1)\n",
    "data = data.rename(columns={'SS':'Screen Size'})\n",
    "data = data.rename(columns={'R':'RAM'})\n",
    "data = data.rename(columns={'Wt':'Weight'})\n",
    "data.head()"
   ]
  },
  {
   "cell_type": "code",
   "execution_count": 12,
   "id": "20d938bc",
   "metadata": {
    "execution": {
     "iopub.execute_input": "2023-04-07T18:06:33.630914Z",
     "iopub.status.busy": "2023-04-07T18:06:33.630428Z",
     "iopub.status.idle": "2023-04-07T18:06:33.647428Z",
     "shell.execute_reply": "2023-04-07T18:06:33.645433Z"
    },
    "papermill": {
     "duration": 0.047253,
     "end_time": "2023-04-07T18:06:33.650638",
     "exception": false,
     "start_time": "2023-04-07T18:06:33.603385",
     "status": "completed"
    },
    "tags": []
   },
   "outputs": [
    {
     "name": "stdout",
     "output_type": "stream",
     "text": [
      "<class 'pandas.core.frame.DataFrame'>\n",
      "Int64Index: 1302 entries, 0 to 324\n",
      "Data columns (total 12 columns):\n",
      " #   Column            Non-Null Count  Dtype  \n",
      "---  ------            --------------  -----  \n",
      " 0   Manufacturer      1302 non-null   object \n",
      " 1   Model Name        1302 non-null   object \n",
      " 2   Category          1302 non-null   object \n",
      " 3   Screen            1302 non-null   object \n",
      " 4   CPU               1302 non-null   object \n",
      " 5    Storage          1302 non-null   object \n",
      " 6   GPU               1302 non-null   object \n",
      " 7   Operating System  1302 non-null   object \n",
      " 8   Price             1302 non-null   float64\n",
      " 9   Weight            1302 non-null   object \n",
      " 10  RAM               1302 non-null   object \n",
      " 11  Screen Size       1302 non-null   object \n",
      "dtypes: float64(1), object(11)\n",
      "memory usage: 132.2+ KB\n"
     ]
    }
   ],
   "source": [
    "data.info()"
   ]
  },
  {
   "cell_type": "code",
   "execution_count": 13,
   "id": "488d1a85",
   "metadata": {
    "execution": {
     "iopub.execute_input": "2023-04-07T18:06:33.702383Z",
     "iopub.status.busy": "2023-04-07T18:06:33.701914Z",
     "iopub.status.idle": "2023-04-07T18:06:33.721950Z",
     "shell.execute_reply": "2023-04-07T18:06:33.720029Z"
    },
    "papermill": {
     "duration": 0.047897,
     "end_time": "2023-04-07T18:06:33.724999",
     "exception": false,
     "start_time": "2023-04-07T18:06:33.677102",
     "status": "completed"
    },
    "tags": []
   },
   "outputs": [
    {
     "name": "stdout",
     "output_type": "stream",
     "text": [
      "<class 'pandas.core.frame.DataFrame'>\n",
      "Int64Index: 1302 entries, 0 to 324\n",
      "Data columns (total 12 columns):\n",
      " #   Column            Non-Null Count  Dtype  \n",
      "---  ------            --------------  -----  \n",
      " 0   Manufacturer      1302 non-null   object \n",
      " 1   Model Name        1302 non-null   object \n",
      " 2   Category          1302 non-null   object \n",
      " 3   Screen            1302 non-null   object \n",
      " 4   CPU               1302 non-null   object \n",
      " 5    Storage          1302 non-null   object \n",
      " 6   GPU               1302 non-null   object \n",
      " 7   Operating System  1302 non-null   object \n",
      " 8   Price             1302 non-null   float64\n",
      " 9   Weight            1302 non-null   float64\n",
      " 10  RAM               1302 non-null   int64  \n",
      " 11  Screen Size       1302 non-null   float64\n",
      "dtypes: float64(3), int64(1), object(8)\n",
      "memory usage: 132.2+ KB\n"
     ]
    }
   ],
   "source": [
    "data['RAM'] = data['RAM'].astype('int64')\n",
    "data['Screen Size'] = data['Screen Size'].astype('float64')\n",
    "data['Weight'] = data['Weight'].astype('float64')\n",
    "data.info()"
   ]
  },
  {
   "cell_type": "code",
   "execution_count": 14,
   "id": "eb4e588c",
   "metadata": {
    "execution": {
     "iopub.execute_input": "2023-04-07T18:06:33.774802Z",
     "iopub.status.busy": "2023-04-07T18:06:33.773959Z",
     "iopub.status.idle": "2023-04-07T18:06:34.234028Z",
     "shell.execute_reply": "2023-04-07T18:06:34.232670Z"
    },
    "papermill": {
     "duration": 0.487941,
     "end_time": "2023-04-07T18:06:34.237017",
     "exception": false,
     "start_time": "2023-04-07T18:06:33.749076",
     "status": "completed"
    },
    "tags": []
   },
   "outputs": [
    {
     "data": {
      "text/plain": [
       "<Axes: xlabel='Price', ylabel='Density'>"
      ]
     },
     "execution_count": 14,
     "metadata": {},
     "output_type": "execute_result"
    },
    {
     "data": {
      "image/png": "[encoded data removed]",
      "text/plain": [
       "<Figure size 1000x800 with 1 Axes>"
      ]
     },
     "metadata": {},
     "output_type": "display_data"
    }
   ],
   "source": [
    "plt.figure(figsize=(10,8))\n",
    "sns.distplot(data['Price'])"
   ]
  },
  {
   "cell_type": "code",
   "execution_count": 15,
   "id": "92edd50e",
   "metadata": {
    "execution": {
     "iopub.execute_input": "2023-04-07T18:06:34.287463Z",
     "iopub.status.busy": "2023-04-07T18:06:34.286532Z",
     "iopub.status.idle": "2023-04-07T18:06:34.715309Z",
     "shell.execute_reply": "2023-04-07T18:06:34.714003Z"
    },
    "papermill": {
     "duration": 0.457353,
     "end_time": "2023-04-07T18:06:34.718026",
     "exception": false,
     "start_time": "2023-04-07T18:06:34.260673",
     "status": "completed"
    },
    "tags": []
   },
   "outputs": [
    {
     "data": {
      "text/plain": [
       "<Axes: >"
      ]
     },
     "execution_count": 15,
     "metadata": {},
     "output_type": "execute_result"
    },
    {
     "data": {
      "image/png": "[encoded data removed]",
      "text/plain": [
       "<Figure size 1500x800 with 1 Axes>"
      ]
     },
     "metadata": {},
     "output_type": "display_data"
    }
   ],
   "source": [
    "plt.figure(figsize=(15,8))\n",
    "data['Manufacturer'].value_counts().plot(kind='bar')"
   ]
  },
  {
   "cell_type": "code",
   "execution_count": 16,
   "id": "4b9ab3a6",
   "metadata": {
    "execution": {
     "iopub.execute_input": "2023-04-07T18:06:34.769022Z",
     "iopub.status.busy": "2023-04-07T18:06:34.768590Z",
     "iopub.status.idle": "2023-04-07T18:06:35.616605Z",
     "shell.execute_reply": "2023-04-07T18:06:35.615376Z"
    },
    "papermill": {
     "duration": 0.876644,
     "end_time": "2023-04-07T18:06:35.619250",
     "exception": false,
     "start_time": "2023-04-07T18:06:34.742606",
     "status": "completed"
    },
    "tags": []
   },
   "outputs": [
    {
     "data": {
      "image/png": "[encoded data removed]",
      "text/plain": [
       "<Figure size 1500x800 with 1 Axes>"
      ]
     },
     "metadata": {},
     "output_type": "display_data"
    }
   ],
   "source": [
    "plt.figure(figsize=(15,8))\n",
    "sns.barplot(x = data['Manufacturer'], y = data['Price'])\n",
    "plt.xticks(rotation='vertical')\n",
    "plt.show()"
   ]
  },
  {
   "cell_type": "code",
   "execution_count": 17,
   "id": "fc59f521",
   "metadata": {
    "execution": {
     "iopub.execute_input": "2023-04-07T18:06:35.671052Z",
     "iopub.status.busy": "2023-04-07T18:06:35.670624Z",
     "iopub.status.idle": "2023-04-07T18:06:35.913328Z",
     "shell.execute_reply": "2023-04-07T18:06:35.911973Z"
    },
    "papermill": {
     "duration": 0.272127,
     "end_time": "2023-04-07T18:06:35.916017",
     "exception": false,
     "start_time": "2023-04-07T18:06:35.643890",
     "status": "completed"
    },
    "tags": []
   },
   "outputs": [
    {
     "data": {
      "text/plain": [
       "<Axes: >"
      ]
     },
     "execution_count": 17,
     "metadata": {},
     "output_type": "execute_result"
    },
    {
     "data": {
      "image/png": "[encoded data removed]",
      "text/plain": [
       "<Figure size 1000x500 with 1 Axes>"
      ]
     },
     "metadata": {},
     "output_type": "display_data"
    }
   ],
   "source": [
    "plt.figure(figsize=(10,5))\n",
    "data['Category'].value_counts().plot(kind='bar')"
   ]
  },
  {
   "cell_type": "code",
   "execution_count": 18,
   "id": "87998cdd",
   "metadata": {
    "execution": {
     "iopub.execute_input": "2023-04-07T18:06:35.969888Z",
     "iopub.status.busy": "2023-04-07T18:06:35.969454Z",
     "iopub.status.idle": "2023-04-07T18:06:36.357573Z",
     "shell.execute_reply": "2023-04-07T18:06:36.355939Z"
    },
    "papermill": {
     "duration": 0.418991,
     "end_time": "2023-04-07T18:06:36.360466",
     "exception": false,
     "start_time": "2023-04-07T18:06:35.941475",
     "status": "completed"
    },
    "tags": []
   },
   "outputs": [
    {
     "data": {
      "image/png": "[encoded data removed]",
      "text/plain": [
       "<Figure size 1000x500 with 1 Axes>"
      ]
     },
     "metadata": {},
     "output_type": "display_data"
    }
   ],
   "source": [
    "plt.figure(figsize=(10,5))\n",
    "sns.barplot(x = data['Category'], y = data['Price'])\n",
    "plt.xticks(rotation='vertical')\n",
    "plt.show()"
   ]
  },
  {
   "cell_type": "code",
   "execution_count": 19,
   "id": "e1986649",
   "metadata": {
    "execution": {
     "iopub.execute_input": "2023-04-07T18:06:36.419898Z",
     "iopub.status.busy": "2023-04-07T18:06:36.419342Z",
     "iopub.status.idle": "2023-04-07T18:06:37.051444Z",
     "shell.execute_reply": "2023-04-07T18:06:37.049720Z"
    },
    "papermill": {
     "duration": 0.666993,
     "end_time": "2023-04-07T18:06:37.055261",
     "exception": false,
     "start_time": "2023-04-07T18:06:36.388268",
     "status": "completed"
    },
    "tags": []
   },
   "outputs": [
    {
     "data": {
      "text/plain": [
       "<Axes: >"
      ]
     },
     "execution_count": 19,
     "metadata": {},
     "output_type": "execute_result"
    },
    {
     "data": {
      "image/png": "[encoded data removed]",
      "text/plain": [
       "<Figure size 1000x500 with 1 Axes>"
      ]
     },
     "metadata": {},
     "output_type": "display_data"
    }
   ],
   "source": [
    "plt.figure(figsize=(10,5))\n",
    "data['Screen'].value_counts().plot(kind='bar')"
   ]
  },
  {
   "cell_type": "code",
   "execution_count": 20,
   "id": "14c2a4d2",
   "metadata": {
    "execution": {
     "iopub.execute_input": "2023-04-07T18:06:37.113803Z",
     "iopub.status.busy": "2023-04-07T18:06:37.113369Z",
     "iopub.status.idle": "2023-04-07T18:06:37.138609Z",
     "shell.execute_reply": "2023-04-07T18:06:37.137156Z"
    },
    "papermill": {
     "duration": 0.057114,
     "end_time": "2023-04-07T18:06:37.141462",
     "exception": false,
     "start_time": "2023-04-07T18:06:37.084348",
     "status": "completed"
    },
    "tags": []
   },
   "outputs": [
    {
     "data": {
      "text/html": [
       "<div>\n",
       "<style scoped>\n",
       "    .dataframe tbody tr th:only-of-type {\n",
       "        vertical-align: middle;\n",
       "    }\n",
       "\n",
       "    .dataframe tbody tr th {\n",
       "        vertical-align: top;\n",
       "    }\n",
       "\n",
       "    .dataframe thead th {\n",
       "        text-align: right;\n",
       "    }\n",
       "</style>\n",
       "<table border=\"1\" class=\"dataframe\">\n",
       "  <thead>\n",
       "    <tr style=\"text-align: right;\">\n",
       "      <th></th>\n",
       "      <th>Manufacturer</th>\n",
       "      <th>Model Name</th>\n",
       "      <th>Category</th>\n",
       "      <th>Screen</th>\n",
       "      <th>CPU</th>\n",
       "      <th>Storage</th>\n",
       "      <th>GPU</th>\n",
       "      <th>Operating System</th>\n",
       "      <th>Price</th>\n",
       "      <th>Weight</th>\n",
       "      <th>RAM</th>\n",
       "      <th>Screen Size</th>\n",
       "      <th>TouchScreen</th>\n",
       "    </tr>\n",
       "  </thead>\n",
       "  <tbody>\n",
       "    <tr>\n",
       "      <th>272</th>\n",
       "      <td>Dell</td>\n",
       "      <td>Inspiron 3576</td>\n",
       "      <td>Notebook</td>\n",
       "      <td>Full HD 1920x1080</td>\n",
       "      <td>Intel Core i7 8550U 1.8GHz</td>\n",
       "      <td>256GB SSD</td>\n",
       "      <td>AMD Radeon 520</td>\n",
       "      <td>Linux</td>\n",
       "      <td>6536242.44</td>\n",
       "      <td>2.14</td>\n",
       "      <td>8</td>\n",
       "      <td>15.6</td>\n",
       "      <td>0</td>\n",
       "    </tr>\n",
       "    <tr>\n",
       "      <th>615</th>\n",
       "      <td>Asus</td>\n",
       "      <td>FX753VD-GC007T (i7-7700HQ/8GB/1TB</td>\n",
       "      <td>Gaming</td>\n",
       "      <td>Full HD 1920x1080</td>\n",
       "      <td>Intel Core i7 7700HQ 2.8GHz</td>\n",
       "      <td>128GB SSD +  1TB HDD</td>\n",
       "      <td>Nvidia GeForce GTX 1050</td>\n",
       "      <td>Windows</td>\n",
       "      <td>10385856.00</td>\n",
       "      <td>3.00</td>\n",
       "      <td>8</td>\n",
       "      <td>17.3</td>\n",
       "      <td>0</td>\n",
       "    </tr>\n",
       "    <tr>\n",
       "      <th>833</th>\n",
       "      <td>Lenovo</td>\n",
       "      <td>Thinkpad T460</td>\n",
       "      <td>Notebook</td>\n",
       "      <td>Full HD 1920x1080</td>\n",
       "      <td>Intel Core i5 6200U 2.3GHz</td>\n",
       "      <td>256GB SSD</td>\n",
       "      <td>Intel HD Graphics 520</td>\n",
       "      <td>Windows</td>\n",
       "      <td>10545912.00</td>\n",
       "      <td>1.70</td>\n",
       "      <td>8</td>\n",
       "      <td>14.0</td>\n",
       "      <td>0</td>\n",
       "    </tr>\n",
       "    <tr>\n",
       "      <th>194</th>\n",
       "      <td>Asus</td>\n",
       "      <td>X553SA-XX021T (N3050/4GB/500GB/W10)</td>\n",
       "      <td>Notebook</td>\n",
       "      <td>1366x768</td>\n",
       "      <td>Intel Celeron Dual Core N3050 1.6GHz</td>\n",
       "      <td>500GB HDD</td>\n",
       "      <td>Intel HD Graphics</td>\n",
       "      <td>Windows</td>\n",
       "      <td>3281148.00</td>\n",
       "      <td>2.20</td>\n",
       "      <td>4</td>\n",
       "      <td>15.6</td>\n",
       "      <td>0</td>\n",
       "    </tr>\n",
       "    <tr>\n",
       "      <th>108</th>\n",
       "      <td>MSI</td>\n",
       "      <td>GP62M 7REX</td>\n",
       "      <td>Gaming</td>\n",
       "      <td>Full HD 1920x1080</td>\n",
       "      <td>Intel Core i7 7700HQ 2.8GHz</td>\n",
       "      <td>256GB SSD +  1TB HDD</td>\n",
       "      <td>Nvidia GeForce GTX 1050 Ti</td>\n",
       "      <td>Windows</td>\n",
       "      <td>11550708.00</td>\n",
       "      <td>2.20</td>\n",
       "      <td>16</td>\n",
       "      <td>15.6</td>\n",
       "      <td>0</td>\n",
       "    </tr>\n",
       "  </tbody>\n",
       "</table>\n",
       "</div>"
      ],
      "text/plain": [
       "    Manufacturer                           Model Name  Category  \\\n",
       "272         Dell                        Inspiron 3576  Notebook   \n",
       "615         Asus    FX753VD-GC007T (i7-7700HQ/8GB/1TB    Gaming   \n",
       "833       Lenovo                        Thinkpad T460  Notebook   \n",
       "194         Asus  X553SA-XX021T (N3050/4GB/500GB/W10)  Notebook   \n",
       "108          MSI                           GP62M 7REX    Gaming   \n",
       "\n",
       "                Screen                                   CPU  \\\n",
       "272  Full HD 1920x1080            Intel Core i7 8550U 1.8GHz   \n",
       "615  Full HD 1920x1080           Intel Core i7 7700HQ 2.8GHz   \n",
       "833  Full HD 1920x1080            Intel Core i5 6200U 2.3GHz   \n",
       "194           1366x768  Intel Celeron Dual Core N3050 1.6GHz   \n",
       "108  Full HD 1920x1080           Intel Core i7 7700HQ 2.8GHz   \n",
       "\n",
       "                  Storage                         GPU Operating System  \\\n",
       "272             256GB SSD              AMD Radeon 520            Linux   \n",
       "615  128GB SSD +  1TB HDD     Nvidia GeForce GTX 1050          Windows   \n",
       "833             256GB SSD       Intel HD Graphics 520          Windows   \n",
       "194             500GB HDD           Intel HD Graphics          Windows   \n",
       "108  256GB SSD +  1TB HDD  Nvidia GeForce GTX 1050 Ti          Windows   \n",
       "\n",
       "           Price  Weight  RAM  Screen Size  TouchScreen  \n",
       "272   6536242.44    2.14    8         15.6            0  \n",
       "615  10385856.00    3.00    8         17.3            0  \n",
       "833  10545912.00    1.70    8         14.0            0  \n",
       "194   3281148.00    2.20    4         15.6            0  \n",
       "108  11550708.00    2.20   16         15.6            0  "
      ]
     },
     "execution_count": 20,
     "metadata": {},
     "output_type": "execute_result"
    }
   ],
   "source": [
    "data['TouchScreen'] = data['Screen'].apply(lambda x: 1 if 'Touchscreen' in x else 0)\n",
    "data.sample(5)"
   ]
  },
  {
   "cell_type": "code",
   "execution_count": 21,
   "id": "ebc7f1f4",
   "metadata": {
    "execution": {
     "iopub.execute_input": "2023-04-07T18:06:37.199603Z",
     "iopub.status.busy": "2023-04-07T18:06:37.198267Z",
     "iopub.status.idle": "2023-04-07T18:06:37.472514Z",
     "shell.execute_reply": "2023-04-07T18:06:37.471059Z"
    },
    "papermill": {
     "duration": 0.306362,
     "end_time": "2023-04-07T18:06:37.475415",
     "exception": false,
     "start_time": "2023-04-07T18:06:37.169053",
     "status": "completed"
    },
    "tags": []
   },
   "outputs": [
    {
     "data": {
      "text/plain": [
       "<Axes: xlabel='TouchScreen', ylabel='Price'>"
      ]
     },
     "execution_count": 21,
     "metadata": {},
     "output_type": "execute_result"
    },
    {
     "data": {
      "image/png": "[encoded data removed]",
      "text/plain": [
       "<Figure size 640x480 with 1 Axes>"
      ]
     },
     "metadata": {},
     "output_type": "display_data"
    }
   ],
   "source": [
    "sns.barplot(x = data['TouchScreen'], y = data['Price'])"
   ]
  },
  {
   "cell_type": "code",
   "execution_count": 22,
   "id": "24a001fe",
   "metadata": {
    "execution": {
     "iopub.execute_input": "2023-04-07T18:06:37.534246Z",
     "iopub.status.busy": "2023-04-07T18:06:37.533576Z",
     "iopub.status.idle": "2023-04-07T18:06:37.557863Z",
     "shell.execute_reply": "2023-04-07T18:06:37.556502Z"
    },
    "papermill": {
     "duration": 0.056979,
     "end_time": "2023-04-07T18:06:37.560614",
     "exception": false,
     "start_time": "2023-04-07T18:06:37.503635",
     "status": "completed"
    },
    "tags": []
   },
   "outputs": [
    {
     "data": {
      "text/html": [
       "<div>\n",
       "<style scoped>\n",
       "    .dataframe tbody tr th:only-of-type {\n",
       "        vertical-align: middle;\n",
       "    }\n",
       "\n",
       "    .dataframe tbody tr th {\n",
       "        vertical-align: top;\n",
       "    }\n",
       "\n",
       "    .dataframe thead th {\n",
       "        text-align: right;\n",
       "    }\n",
       "</style>\n",
       "<table border=\"1\" class=\"dataframe\">\n",
       "  <thead>\n",
       "    <tr style=\"text-align: right;\">\n",
       "      <th></th>\n",
       "      <th>Manufacturer</th>\n",
       "      <th>Model Name</th>\n",
       "      <th>Category</th>\n",
       "      <th>Screen</th>\n",
       "      <th>CPU</th>\n",
       "      <th>Storage</th>\n",
       "      <th>GPU</th>\n",
       "      <th>Operating System</th>\n",
       "      <th>Price</th>\n",
       "      <th>Weight</th>\n",
       "      <th>RAM</th>\n",
       "      <th>Screen Size</th>\n",
       "      <th>TouchScreen</th>\n",
       "      <th>Ips</th>\n",
       "    </tr>\n",
       "  </thead>\n",
       "  <tbody>\n",
       "    <tr>\n",
       "      <th>833</th>\n",
       "      <td>Lenovo</td>\n",
       "      <td>Thinkpad T460</td>\n",
       "      <td>Notebook</td>\n",
       "      <td>Full HD 1920x1080</td>\n",
       "      <td>Intel Core i5 6200U 2.3GHz</td>\n",
       "      <td>256GB SSD</td>\n",
       "      <td>Intel HD Graphics 520</td>\n",
       "      <td>Windows</td>\n",
       "      <td>10545912.0</td>\n",
       "      <td>1.70</td>\n",
       "      <td>8</td>\n",
       "      <td>14.0</td>\n",
       "      <td>0</td>\n",
       "      <td>0</td>\n",
       "    </tr>\n",
       "    <tr>\n",
       "      <th>483</th>\n",
       "      <td>Chuwi</td>\n",
       "      <td>Lapbook 15,6</td>\n",
       "      <td>Notebook</td>\n",
       "      <td>Full HD 1920x1080</td>\n",
       "      <td>Intel Atom x5-Z8350 1.44GHz</td>\n",
       "      <td>64GB Flash Storage</td>\n",
       "      <td>Intel HD Graphics</td>\n",
       "      <td>Windows</td>\n",
       "      <td>2213218.8</td>\n",
       "      <td>1.89</td>\n",
       "      <td>4</td>\n",
       "      <td>15.6</td>\n",
       "      <td>0</td>\n",
       "      <td>0</td>\n",
       "    </tr>\n",
       "    <tr>\n",
       "      <th>51</th>\n",
       "      <td>Acer</td>\n",
       "      <td>Aspire A515-51G</td>\n",
       "      <td>Notebook</td>\n",
       "      <td>IPS Panel Full HD 1920x1080</td>\n",
       "      <td>Intel Core i7 8550U 1.8GHz</td>\n",
       "      <td>256GB SSD</td>\n",
       "      <td>Nvidia GeForce MX150</td>\n",
       "      <td>Windows</td>\n",
       "      <td>7478172.0</td>\n",
       "      <td>2.20</td>\n",
       "      <td>8</td>\n",
       "      <td>15.6</td>\n",
       "      <td>0</td>\n",
       "      <td>1</td>\n",
       "    </tr>\n",
       "    <tr>\n",
       "      <th>974</th>\n",
       "      <td>Asus</td>\n",
       "      <td>Rog Strix</td>\n",
       "      <td>Gaming</td>\n",
       "      <td>Full HD 1920x1080</td>\n",
       "      <td>Intel Core i7 7700HQ 2.8GHz</td>\n",
       "      <td>256GB SSD +  1TB HDD</td>\n",
       "      <td>Nvidia GeForce GTX 1060</td>\n",
       "      <td>Windows</td>\n",
       "      <td>18227710.8</td>\n",
       "      <td>2.73</td>\n",
       "      <td>16</td>\n",
       "      <td>17.3</td>\n",
       "      <td>0</td>\n",
       "      <td>0</td>\n",
       "    </tr>\n",
       "    <tr>\n",
       "      <th>862</th>\n",
       "      <td>Toshiba</td>\n",
       "      <td>Portege X30-D-10X</td>\n",
       "      <td>Notebook</td>\n",
       "      <td>Full HD 1920x1080</td>\n",
       "      <td>Intel Core i5 7200U 2.5GHz</td>\n",
       "      <td>128GB SSD</td>\n",
       "      <td>Intel HD Graphics 620</td>\n",
       "      <td>Windows</td>\n",
       "      <td>11426220.0</td>\n",
       "      <td>1.05</td>\n",
       "      <td>4</td>\n",
       "      <td>13.3</td>\n",
       "      <td>0</td>\n",
       "      <td>0</td>\n",
       "    </tr>\n",
       "  </tbody>\n",
       "</table>\n",
       "</div>"
      ],
      "text/plain": [
       "    Manufacturer         Model Name  Category                       Screen  \\\n",
       "833       Lenovo      Thinkpad T460  Notebook            Full HD 1920x1080   \n",
       "483        Chuwi       Lapbook 15,6  Notebook            Full HD 1920x1080   \n",
       "51          Acer    Aspire A515-51G  Notebook  IPS Panel Full HD 1920x1080   \n",
       "974         Asus          Rog Strix    Gaming            Full HD 1920x1080   \n",
       "862      Toshiba  Portege X30-D-10X  Notebook            Full HD 1920x1080   \n",
       "\n",
       "                             CPU               Storage  \\\n",
       "833   Intel Core i5 6200U 2.3GHz             256GB SSD   \n",
       "483  Intel Atom x5-Z8350 1.44GHz    64GB Flash Storage   \n",
       "51    Intel Core i7 8550U 1.8GHz             256GB SSD   \n",
       "974  Intel Core i7 7700HQ 2.8GHz  256GB SSD +  1TB HDD   \n",
       "862   Intel Core i5 7200U 2.5GHz             128GB SSD   \n",
       "\n",
       "                         GPU Operating System       Price  Weight  RAM  \\\n",
       "833    Intel HD Graphics 520          Windows  10545912.0    1.70    8   \n",
       "483        Intel HD Graphics          Windows   2213218.8    1.89    4   \n",
       "51      Nvidia GeForce MX150          Windows   7478172.0    2.20    8   \n",
       "974  Nvidia GeForce GTX 1060          Windows  18227710.8    2.73   16   \n",
       "862    Intel HD Graphics 620          Windows  11426220.0    1.05    4   \n",
       "\n",
       "     Screen Size  TouchScreen  Ips  \n",
       "833         14.0            0    0  \n",
       "483         15.6            0    0  \n",
       "51          15.6            0    1  \n",
       "974         17.3            0    0  \n",
       "862         13.3            0    0  "
      ]
     },
     "execution_count": 22,
     "metadata": {},
     "output_type": "execute_result"
    }
   ],
   "source": [
    "data['Ips'] = data['Screen'].apply(lambda x: 1 if 'IPS' in x else 0)\n",
    "data.sample(5)"
   ]
  },
  {
   "cell_type": "code",
   "execution_count": 23,
   "id": "e3f49fb8",
   "metadata": {
    "execution": {
     "iopub.execute_input": "2023-04-07T18:06:37.620726Z",
     "iopub.status.busy": "2023-04-07T18:06:37.619345Z",
     "iopub.status.idle": "2023-04-07T18:06:37.874563Z",
     "shell.execute_reply": "2023-04-07T18:06:37.873521Z"
    },
    "papermill": {
     "duration": 0.287955,
     "end_time": "2023-04-07T18:06:37.877285",
     "exception": false,
     "start_time": "2023-04-07T18:06:37.589330",
     "status": "completed"
    },
    "tags": []
   },
   "outputs": [
    {
     "data": {
      "text/plain": [
       "<Axes: xlabel='Ips', ylabel='Price'>"
      ]
     },
     "execution_count": 23,
     "metadata": {},
     "output_type": "execute_result"
    },
    {
     "data": {
      "image/png": "[encoded data removed]",
      "text/plain": [
       "<Figure size 640x480 with 1 Axes>"
      ]
     },
     "metadata": {},
     "output_type": "display_data"
    }
   ],
   "source": [
    "sns.barplot(x = data['Ips'], y = data['Price'])"
   ]
  },
  {
   "cell_type": "code",
   "execution_count": 24,
   "id": "b10cf712",
   "metadata": {
    "execution": {
     "iopub.execute_input": "2023-04-07T18:06:37.937513Z",
     "iopub.status.busy": "2023-04-07T18:06:37.936352Z",
     "iopub.status.idle": "2023-04-07T18:06:37.944958Z",
     "shell.execute_reply": "2023-04-07T18:06:37.943963Z"
    },
    "papermill": {
     "duration": 0.041675,
     "end_time": "2023-04-07T18:06:37.947729",
     "exception": false,
     "start_time": "2023-04-07T18:06:37.906054",
     "status": "completed"
    },
    "tags": []
   },
   "outputs": [],
   "source": [
    "new = data['Screen'].str.split('x',n=1,expand=True)"
   ]
  },
  {
   "cell_type": "code",
   "execution_count": 25,
   "id": "7713ab42",
   "metadata": {
    "execution": {
     "iopub.execute_input": "2023-04-07T18:06:38.007582Z",
     "iopub.status.busy": "2023-04-07T18:06:38.007102Z",
     "iopub.status.idle": "2023-04-07T18:06:38.032950Z",
     "shell.execute_reply": "2023-04-07T18:06:38.031611Z"
    },
    "papermill": {
     "duration": 0.058874,
     "end_time": "2023-04-07T18:06:38.035741",
     "exception": false,
     "start_time": "2023-04-07T18:06:37.976867",
     "status": "completed"
    },
    "tags": []
   },
   "outputs": [
    {
     "data": {
      "text/html": [
       "<div>\n",
       "<style scoped>\n",
       "    .dataframe tbody tr th:only-of-type {\n",
       "        vertical-align: middle;\n",
       "    }\n",
       "\n",
       "    .dataframe tbody tr th {\n",
       "        vertical-align: top;\n",
       "    }\n",
       "\n",
       "    .dataframe thead th {\n",
       "        text-align: right;\n",
       "    }\n",
       "</style>\n",
       "<table border=\"1\" class=\"dataframe\">\n",
       "  <thead>\n",
       "    <tr style=\"text-align: right;\">\n",
       "      <th></th>\n",
       "      <th>Manufacturer</th>\n",
       "      <th>Model Name</th>\n",
       "      <th>Category</th>\n",
       "      <th>Screen</th>\n",
       "      <th>CPU</th>\n",
       "      <th>Storage</th>\n",
       "      <th>GPU</th>\n",
       "      <th>Operating System</th>\n",
       "      <th>Price</th>\n",
       "      <th>Weight</th>\n",
       "      <th>RAM</th>\n",
       "      <th>Screen Size</th>\n",
       "      <th>TouchScreen</th>\n",
       "      <th>Ips</th>\n",
       "      <th>X_reso</th>\n",
       "      <th>Y_reso</th>\n",
       "    </tr>\n",
       "  </thead>\n",
       "  <tbody>\n",
       "    <tr>\n",
       "      <th>0</th>\n",
       "      <td>Apple</td>\n",
       "      <td>MacBook Pro</td>\n",
       "      <td>Ultrabook</td>\n",
       "      <td>IPS Panel Retina Display 2560x1600</td>\n",
       "      <td>Intel Core i5 2.3GHz</td>\n",
       "      <td>128GB SSD</td>\n",
       "      <td>Intel Iris Plus Graphics 640</td>\n",
       "      <td>macOS</td>\n",
       "      <td>11912523.48</td>\n",
       "      <td>1.37</td>\n",
       "      <td>8</td>\n",
       "      <td>13.3</td>\n",
       "      <td>0</td>\n",
       "      <td>1</td>\n",
       "      <td>IPS Panel Retina Display 2560</td>\n",
       "      <td>1600</td>\n",
       "    </tr>\n",
       "    <tr>\n",
       "      <th>1</th>\n",
       "      <td>Apple</td>\n",
       "      <td>Macbook Air</td>\n",
       "      <td>Ultrabook</td>\n",
       "      <td>1440x900</td>\n",
       "      <td>Intel Core i5 1.8GHz</td>\n",
       "      <td>128GB Flash Storage</td>\n",
       "      <td>Intel HD Graphics 6000</td>\n",
       "      <td>macOS</td>\n",
       "      <td>7993374.48</td>\n",
       "      <td>1.34</td>\n",
       "      <td>8</td>\n",
       "      <td>13.3</td>\n",
       "      <td>0</td>\n",
       "      <td>0</td>\n",
       "      <td>1440</td>\n",
       "      <td>900</td>\n",
       "    </tr>\n",
       "    <tr>\n",
       "      <th>2</th>\n",
       "      <td>HP</td>\n",
       "      <td>250 G6</td>\n",
       "      <td>Notebook</td>\n",
       "      <td>Full HD 1920x1080</td>\n",
       "      <td>Intel Core i5 7200U 2.5GHz</td>\n",
       "      <td>256GB SSD</td>\n",
       "      <td>Intel HD Graphics 620</td>\n",
       "      <td>No OS</td>\n",
       "      <td>5112900.00</td>\n",
       "      <td>1.86</td>\n",
       "      <td>8</td>\n",
       "      <td>15.6</td>\n",
       "      <td>0</td>\n",
       "      <td>0</td>\n",
       "      <td>Full HD 1920</td>\n",
       "      <td>1080</td>\n",
       "    </tr>\n",
       "    <tr>\n",
       "      <th>3</th>\n",
       "      <td>Apple</td>\n",
       "      <td>MacBook Pro</td>\n",
       "      <td>Ultrabook</td>\n",
       "      <td>IPS Panel Retina Display 2880x1800</td>\n",
       "      <td>Intel Core i7 2.7GHz</td>\n",
       "      <td>512GB SSD</td>\n",
       "      <td>AMD Radeon Pro 455</td>\n",
       "      <td>macOS</td>\n",
       "      <td>22563005.40</td>\n",
       "      <td>1.83</td>\n",
       "      <td>16</td>\n",
       "      <td>15.4</td>\n",
       "      <td>0</td>\n",
       "      <td>1</td>\n",
       "      <td>IPS Panel Retina Display 2880</td>\n",
       "      <td>1800</td>\n",
       "    </tr>\n",
       "    <tr>\n",
       "      <th>4</th>\n",
       "      <td>Apple</td>\n",
       "      <td>MacBook Pro</td>\n",
       "      <td>Ultrabook</td>\n",
       "      <td>IPS Panel Retina Display 2560x1600</td>\n",
       "      <td>Intel Core i5 3.1GHz</td>\n",
       "      <td>256GB SSD</td>\n",
       "      <td>Intel Iris Plus Graphics 650</td>\n",
       "      <td>macOS</td>\n",
       "      <td>16037611.20</td>\n",
       "      <td>1.37</td>\n",
       "      <td>8</td>\n",
       "      <td>13.3</td>\n",
       "      <td>0</td>\n",
       "      <td>1</td>\n",
       "      <td>IPS Panel Retina Display 2560</td>\n",
       "      <td>1600</td>\n",
       "    </tr>\n",
       "  </tbody>\n",
       "</table>\n",
       "</div>"
      ],
      "text/plain": [
       "  Manufacturer   Model Name   Category                              Screen  \\\n",
       "0        Apple  MacBook Pro  Ultrabook  IPS Panel Retina Display 2560x1600   \n",
       "1        Apple  Macbook Air  Ultrabook                            1440x900   \n",
       "2           HP       250 G6   Notebook                   Full HD 1920x1080   \n",
       "3        Apple  MacBook Pro  Ultrabook  IPS Panel Retina Display 2880x1800   \n",
       "4        Apple  MacBook Pro  Ultrabook  IPS Panel Retina Display 2560x1600   \n",
       "\n",
       "                          CPU              Storage  \\\n",
       "0        Intel Core i5 2.3GHz            128GB SSD   \n",
       "1        Intel Core i5 1.8GHz  128GB Flash Storage   \n",
       "2  Intel Core i5 7200U 2.5GHz            256GB SSD   \n",
       "3        Intel Core i7 2.7GHz            512GB SSD   \n",
       "4        Intel Core i5 3.1GHz            256GB SSD   \n",
       "\n",
       "                            GPU Operating System        Price  Weight  RAM  \\\n",
       "0  Intel Iris Plus Graphics 640            macOS  11912523.48    1.37    8   \n",
       "1        Intel HD Graphics 6000            macOS   7993374.48    1.34    8   \n",
       "2         Intel HD Graphics 620            No OS   5112900.00    1.86    8   \n",
       "3            AMD Radeon Pro 455            macOS  22563005.40    1.83   16   \n",
       "4  Intel Iris Plus Graphics 650            macOS  16037611.20    1.37    8   \n",
       "\n",
       "   Screen Size  TouchScreen  Ips                         X_reso Y_reso  \n",
       "0         13.3            0    1  IPS Panel Retina Display 2560   1600  \n",
       "1         13.3            0    0                           1440    900  \n",
       "2         15.6            0    0                   Full HD 1920   1080  \n",
       "3         15.4            0    1  IPS Panel Retina Display 2880   1800  \n",
       "4         13.3            0    1  IPS Panel Retina Display 2560   1600  "
      ]
     },
     "execution_count": 25,
     "metadata": {},
     "output_type": "execute_result"
    }
   ],
   "source": [
    "data['X_reso'] = new[0]\n",
    "data['Y_reso'] = new[1]\n",
    "data.head()"
   ]
  },
  {
   "cell_type": "code",
   "execution_count": 26,
   "id": "ad2f395d",
   "metadata": {
    "execution": {
     "iopub.execute_input": "2023-04-07T18:06:38.101014Z",
     "iopub.status.busy": "2023-04-07T18:06:38.100519Z",
     "iopub.status.idle": "2023-04-07T18:06:38.128699Z",
     "shell.execute_reply": "2023-04-07T18:06:38.127382Z"
    },
    "papermill": {
     "duration": 0.062422,
     "end_time": "2023-04-07T18:06:38.131196",
     "exception": false,
     "start_time": "2023-04-07T18:06:38.068774",
     "status": "completed"
    },
    "tags": []
   },
   "outputs": [
    {
     "data": {
      "text/html": [
       "<div>\n",
       "<style scoped>\n",
       "    .dataframe tbody tr th:only-of-type {\n",
       "        vertical-align: middle;\n",
       "    }\n",
       "\n",
       "    .dataframe tbody tr th {\n",
       "        vertical-align: top;\n",
       "    }\n",
       "\n",
       "    .dataframe thead th {\n",
       "        text-align: right;\n",
       "    }\n",
       "</style>\n",
       "<table border=\"1\" class=\"dataframe\">\n",
       "  <thead>\n",
       "    <tr style=\"text-align: right;\">\n",
       "      <th></th>\n",
       "      <th>Manufacturer</th>\n",
       "      <th>Model Name</th>\n",
       "      <th>Category</th>\n",
       "      <th>Screen</th>\n",
       "      <th>CPU</th>\n",
       "      <th>Storage</th>\n",
       "      <th>GPU</th>\n",
       "      <th>Operating System</th>\n",
       "      <th>Price</th>\n",
       "      <th>Weight</th>\n",
       "      <th>RAM</th>\n",
       "      <th>Screen Size</th>\n",
       "      <th>TouchScreen</th>\n",
       "      <th>Ips</th>\n",
       "      <th>X_reso</th>\n",
       "      <th>Y_reso</th>\n",
       "    </tr>\n",
       "  </thead>\n",
       "  <tbody>\n",
       "    <tr>\n",
       "      <th>0</th>\n",
       "      <td>Apple</td>\n",
       "      <td>MacBook Pro</td>\n",
       "      <td>Ultrabook</td>\n",
       "      <td>IPS Panel Retina Display 2560x1600</td>\n",
       "      <td>Intel Core i5 2.3GHz</td>\n",
       "      <td>128GB SSD</td>\n",
       "      <td>Intel Iris Plus Graphics 640</td>\n",
       "      <td>macOS</td>\n",
       "      <td>11912523.48</td>\n",
       "      <td>1.37</td>\n",
       "      <td>8</td>\n",
       "      <td>13.3</td>\n",
       "      <td>0</td>\n",
       "      <td>1</td>\n",
       "      <td>2560</td>\n",
       "      <td>1600</td>\n",
       "    </tr>\n",
       "    <tr>\n",
       "      <th>1</th>\n",
       "      <td>Apple</td>\n",
       "      <td>Macbook Air</td>\n",
       "      <td>Ultrabook</td>\n",
       "      <td>1440x900</td>\n",
       "      <td>Intel Core i5 1.8GHz</td>\n",
       "      <td>128GB Flash Storage</td>\n",
       "      <td>Intel HD Graphics 6000</td>\n",
       "      <td>macOS</td>\n",
       "      <td>7993374.48</td>\n",
       "      <td>1.34</td>\n",
       "      <td>8</td>\n",
       "      <td>13.3</td>\n",
       "      <td>0</td>\n",
       "      <td>0</td>\n",
       "      <td>1440</td>\n",
       "      <td>900</td>\n",
       "    </tr>\n",
       "    <tr>\n",
       "      <th>2</th>\n",
       "      <td>HP</td>\n",
       "      <td>250 G6</td>\n",
       "      <td>Notebook</td>\n",
       "      <td>Full HD 1920x1080</td>\n",
       "      <td>Intel Core i5 7200U 2.5GHz</td>\n",
       "      <td>256GB SSD</td>\n",
       "      <td>Intel HD Graphics 620</td>\n",
       "      <td>No OS</td>\n",
       "      <td>5112900.00</td>\n",
       "      <td>1.86</td>\n",
       "      <td>8</td>\n",
       "      <td>15.6</td>\n",
       "      <td>0</td>\n",
       "      <td>0</td>\n",
       "      <td>1920</td>\n",
       "      <td>1080</td>\n",
       "    </tr>\n",
       "    <tr>\n",
       "      <th>3</th>\n",
       "      <td>Apple</td>\n",
       "      <td>MacBook Pro</td>\n",
       "      <td>Ultrabook</td>\n",
       "      <td>IPS Panel Retina Display 2880x1800</td>\n",
       "      <td>Intel Core i7 2.7GHz</td>\n",
       "      <td>512GB SSD</td>\n",
       "      <td>AMD Radeon Pro 455</td>\n",
       "      <td>macOS</td>\n",
       "      <td>22563005.40</td>\n",
       "      <td>1.83</td>\n",
       "      <td>16</td>\n",
       "      <td>15.4</td>\n",
       "      <td>0</td>\n",
       "      <td>1</td>\n",
       "      <td>2880</td>\n",
       "      <td>1800</td>\n",
       "    </tr>\n",
       "    <tr>\n",
       "      <th>4</th>\n",
       "      <td>Apple</td>\n",
       "      <td>MacBook Pro</td>\n",
       "      <td>Ultrabook</td>\n",
       "      <td>IPS Panel Retina Display 2560x1600</td>\n",
       "      <td>Intel Core i5 3.1GHz</td>\n",
       "      <td>256GB SSD</td>\n",
       "      <td>Intel Iris Plus Graphics 650</td>\n",
       "      <td>macOS</td>\n",
       "      <td>16037611.20</td>\n",
       "      <td>1.37</td>\n",
       "      <td>8</td>\n",
       "      <td>13.3</td>\n",
       "      <td>0</td>\n",
       "      <td>1</td>\n",
       "      <td>2560</td>\n",
       "      <td>1600</td>\n",
       "    </tr>\n",
       "  </tbody>\n",
       "</table>\n",
       "</div>"
      ],
      "text/plain": [
       "  Manufacturer   Model Name   Category                              Screen  \\\n",
       "0        Apple  MacBook Pro  Ultrabook  IPS Panel Retina Display 2560x1600   \n",
       "1        Apple  Macbook Air  Ultrabook                            1440x900   \n",
       "2           HP       250 G6   Notebook                   Full HD 1920x1080   \n",
       "3        Apple  MacBook Pro  Ultrabook  IPS Panel Retina Display 2880x1800   \n",
       "4        Apple  MacBook Pro  Ultrabook  IPS Panel Retina Display 2560x1600   \n",
       "\n",
       "                          CPU              Storage  \\\n",
       "0        Intel Core i5 2.3GHz            128GB SSD   \n",
       "1        Intel Core i5 1.8GHz  128GB Flash Storage   \n",
       "2  Intel Core i5 7200U 2.5GHz            256GB SSD   \n",
       "3        Intel Core i7 2.7GHz            512GB SSD   \n",
       "4        Intel Core i5 3.1GHz            256GB SSD   \n",
       "\n",
       "                            GPU Operating System        Price  Weight  RAM  \\\n",
       "0  Intel Iris Plus Graphics 640            macOS  11912523.48    1.37    8   \n",
       "1        Intel HD Graphics 6000            macOS   7993374.48    1.34    8   \n",
       "2         Intel HD Graphics 620            No OS   5112900.00    1.86    8   \n",
       "3            AMD Radeon Pro 455            macOS  22563005.40    1.83   16   \n",
       "4  Intel Iris Plus Graphics 650            macOS  16037611.20    1.37    8   \n",
       "\n",
       "   Screen Size  TouchScreen  Ips X_reso Y_reso  \n",
       "0         13.3            0    1   2560   1600  \n",
       "1         13.3            0    0   1440    900  \n",
       "2         15.6            0    0   1920   1080  \n",
       "3         15.4            0    1   2880   1800  \n",
       "4         13.3            0    1   2560   1600  "
      ]
     },
     "execution_count": 26,
     "metadata": {},
     "output_type": "execute_result"
    }
   ],
   "source": [
    "data['X_reso'] = data['X_reso'].str.replace(',','').str.findall(r'(\\d+\\.?\\d+)').apply(lambda x:x[0])\n",
    "data.head()"
   ]
  },
  {
   "cell_type": "code",
   "execution_count": 27,
   "id": "0a78aece",
   "metadata": {
    "execution": {
     "iopub.execute_input": "2023-04-07T18:06:38.192924Z",
     "iopub.status.busy": "2023-04-07T18:06:38.191995Z",
     "iopub.status.idle": "2023-04-07T18:06:38.211784Z",
     "shell.execute_reply": "2023-04-07T18:06:38.210348Z"
    },
    "papermill": {
     "duration": 0.054086,
     "end_time": "2023-04-07T18:06:38.214743",
     "exception": false,
     "start_time": "2023-04-07T18:06:38.160657",
     "status": "completed"
    },
    "tags": []
   },
   "outputs": [
    {
     "name": "stdout",
     "output_type": "stream",
     "text": [
      "<class 'pandas.core.frame.DataFrame'>\n",
      "Int64Index: 1302 entries, 0 to 324\n",
      "Data columns (total 16 columns):\n",
      " #   Column            Non-Null Count  Dtype  \n",
      "---  ------            --------------  -----  \n",
      " 0   Manufacturer      1302 non-null   object \n",
      " 1   Model Name        1302 non-null   object \n",
      " 2   Category          1302 non-null   object \n",
      " 3   Screen            1302 non-null   object \n",
      " 4   CPU               1302 non-null   object \n",
      " 5    Storage          1302 non-null   object \n",
      " 6   GPU               1302 non-null   object \n",
      " 7   Operating System  1302 non-null   object \n",
      " 8   Price             1302 non-null   float64\n",
      " 9   Weight            1302 non-null   float64\n",
      " 10  RAM               1302 non-null   int64  \n",
      " 11  Screen Size       1302 non-null   float64\n",
      " 12  TouchScreen       1302 non-null   int64  \n",
      " 13  Ips               1302 non-null   int64  \n",
      " 14  X_reso            1302 non-null   int64  \n",
      " 15  Y_reso            1302 non-null   int64  \n",
      "dtypes: float64(3), int64(5), object(8)\n",
      "memory usage: 172.9+ KB\n"
     ]
    }
   ],
   "source": [
    "data['X_reso'] = data['X_reso'].astype('int64')\n",
    "data['Y_reso'] = data['Y_reso'].astype('int64')\n",
    "data.info()"
   ]
  },
  {
   "cell_type": "code",
   "execution_count": 28,
   "id": "42346a1c",
   "metadata": {
    "execution": {
     "iopub.execute_input": "2023-04-07T18:06:38.276842Z",
     "iopub.status.busy": "2023-04-07T18:06:38.276437Z",
     "iopub.status.idle": "2023-04-07T18:06:38.287832Z",
     "shell.execute_reply": "2023-04-07T18:06:38.286514Z"
    },
    "papermill": {
     "duration": 0.046382,
     "end_time": "2023-04-07T18:06:38.290736",
     "exception": false,
     "start_time": "2023-04-07T18:06:38.244354",
     "status": "completed"
    },
    "tags": []
   },
   "outputs": [
    {
     "data": {
      "text/plain": [
       "Price          1.000000\n",
       "Weight         0.210166\n",
       "RAM            0.742802\n",
       "Screen Size    0.067922\n",
       "TouchScreen    0.189931\n",
       "Ips            0.252799\n",
       "X_reso         0.557129\n",
       "Y_reso         0.553289\n",
       "Name: Price, dtype: float64"
      ]
     },
     "execution_count": 28,
     "metadata": {},
     "output_type": "execute_result"
    }
   ],
   "source": [
    "data.corr()['Price']"
   ]
  },
  {
   "cell_type": "markdown",
   "id": "45b10574",
   "metadata": {
    "papermill": {
     "duration": 0.029766,
     "end_time": "2023-04-07T18:06:38.350202",
     "exception": false,
     "start_time": "2023-04-07T18:06:38.320436",
     "status": "completed"
    },
    "tags": []
   },
   "source": [
    "Finding PPI(Pixels Per square Inch)<br>\n",
    "Formula:<br>\n",
    "PPI = ((x_reso^2 + y_reso^2)^1/2)/inches"
   ]
  },
  {
   "cell_type": "code",
   "execution_count": 29,
   "id": "e469dbdd",
   "metadata": {
    "execution": {
     "iopub.execute_input": "2023-04-07T18:06:38.417678Z",
     "iopub.status.busy": "2023-04-07T18:06:38.416995Z",
     "iopub.status.idle": "2023-04-07T18:06:38.426614Z",
     "shell.execute_reply": "2023-04-07T18:06:38.425370Z"
    },
    "papermill": {
     "duration": 0.04789,
     "end_time": "2023-04-07T18:06:38.429213",
     "exception": false,
     "start_time": "2023-04-07T18:06:38.381323",
     "status": "completed"
    },
    "tags": []
   },
   "outputs": [],
   "source": [
    "data['ppi'] = (((data['X_reso']**2 + data['Y_reso']**2)**0.5)/data['Screen Size']).astype('float64')"
   ]
  },
  {
   "cell_type": "code",
   "execution_count": 30,
   "id": "fb824782",
   "metadata": {
    "execution": {
     "iopub.execute_input": "2023-04-07T18:06:38.490470Z",
     "iopub.status.busy": "2023-04-07T18:06:38.490014Z",
     "iopub.status.idle": "2023-04-07T18:06:38.501480Z",
     "shell.execute_reply": "2023-04-07T18:06:38.500158Z"
    },
    "papermill": {
     "duration": 0.045839,
     "end_time": "2023-04-07T18:06:38.504281",
     "exception": false,
     "start_time": "2023-04-07T18:06:38.458442",
     "status": "completed"
    },
    "tags": []
   },
   "outputs": [
    {
     "data": {
      "text/plain": [
       "Price          1.000000\n",
       "Weight         0.210166\n",
       "RAM            0.742802\n",
       "Screen Size    0.067922\n",
       "TouchScreen    0.189931\n",
       "Ips            0.252799\n",
       "X_reso         0.557129\n",
       "Y_reso         0.553289\n",
       "ppi            0.473125\n",
       "Name: Price, dtype: float64"
      ]
     },
     "execution_count": 30,
     "metadata": {},
     "output_type": "execute_result"
    }
   ],
   "source": [
    "data.corr()['Price']"
   ]
  },
  {
   "cell_type": "code",
   "execution_count": 31,
   "id": "ca3d92fe",
   "metadata": {
    "execution": {
     "iopub.execute_input": "2023-04-07T18:06:38.568904Z",
     "iopub.status.busy": "2023-04-07T18:06:38.568495Z",
     "iopub.status.idle": "2023-04-07T18:06:38.592087Z",
     "shell.execute_reply": "2023-04-07T18:06:38.590721Z"
    },
    "papermill": {
     "duration": 0.059806,
     "end_time": "2023-04-07T18:06:38.595094",
     "exception": false,
     "start_time": "2023-04-07T18:06:38.535288",
     "status": "completed"
    },
    "tags": []
   },
   "outputs": [
    {
     "data": {
      "text/html": [
       "<div>\n",
       "<style scoped>\n",
       "    .dataframe tbody tr th:only-of-type {\n",
       "        vertical-align: middle;\n",
       "    }\n",
       "\n",
       "    .dataframe tbody tr th {\n",
       "        vertical-align: top;\n",
       "    }\n",
       "\n",
       "    .dataframe thead th {\n",
       "        text-align: right;\n",
       "    }\n",
       "</style>\n",
       "<table border=\"1\" class=\"dataframe\">\n",
       "  <thead>\n",
       "    <tr style=\"text-align: right;\">\n",
       "      <th></th>\n",
       "      <th>Manufacturer</th>\n",
       "      <th>Model Name</th>\n",
       "      <th>Category</th>\n",
       "      <th>CPU</th>\n",
       "      <th>Storage</th>\n",
       "      <th>GPU</th>\n",
       "      <th>Operating System</th>\n",
       "      <th>Price</th>\n",
       "      <th>Weight</th>\n",
       "      <th>RAM</th>\n",
       "      <th>TouchScreen</th>\n",
       "      <th>Ips</th>\n",
       "      <th>ppi</th>\n",
       "    </tr>\n",
       "  </thead>\n",
       "  <tbody>\n",
       "    <tr>\n",
       "      <th>0</th>\n",
       "      <td>Apple</td>\n",
       "      <td>MacBook Pro</td>\n",
       "      <td>Ultrabook</td>\n",
       "      <td>Intel Core i5 2.3GHz</td>\n",
       "      <td>128GB SSD</td>\n",
       "      <td>Intel Iris Plus Graphics 640</td>\n",
       "      <td>macOS</td>\n",
       "      <td>11912523.48</td>\n",
       "      <td>1.37</td>\n",
       "      <td>8</td>\n",
       "      <td>0</td>\n",
       "      <td>1</td>\n",
       "      <td>226.983005</td>\n",
       "    </tr>\n",
       "    <tr>\n",
       "      <th>1</th>\n",
       "      <td>Apple</td>\n",
       "      <td>Macbook Air</td>\n",
       "      <td>Ultrabook</td>\n",
       "      <td>Intel Core i5 1.8GHz</td>\n",
       "      <td>128GB Flash Storage</td>\n",
       "      <td>Intel HD Graphics 6000</td>\n",
       "      <td>macOS</td>\n",
       "      <td>7993374.48</td>\n",
       "      <td>1.34</td>\n",
       "      <td>8</td>\n",
       "      <td>0</td>\n",
       "      <td>0</td>\n",
       "      <td>127.677940</td>\n",
       "    </tr>\n",
       "    <tr>\n",
       "      <th>2</th>\n",
       "      <td>HP</td>\n",
       "      <td>250 G6</td>\n",
       "      <td>Notebook</td>\n",
       "      <td>Intel Core i5 7200U 2.5GHz</td>\n",
       "      <td>256GB SSD</td>\n",
       "      <td>Intel HD Graphics 620</td>\n",
       "      <td>No OS</td>\n",
       "      <td>5112900.00</td>\n",
       "      <td>1.86</td>\n",
       "      <td>8</td>\n",
       "      <td>0</td>\n",
       "      <td>0</td>\n",
       "      <td>141.211998</td>\n",
       "    </tr>\n",
       "    <tr>\n",
       "      <th>3</th>\n",
       "      <td>Apple</td>\n",
       "      <td>MacBook Pro</td>\n",
       "      <td>Ultrabook</td>\n",
       "      <td>Intel Core i7 2.7GHz</td>\n",
       "      <td>512GB SSD</td>\n",
       "      <td>AMD Radeon Pro 455</td>\n",
       "      <td>macOS</td>\n",
       "      <td>22563005.40</td>\n",
       "      <td>1.83</td>\n",
       "      <td>16</td>\n",
       "      <td>0</td>\n",
       "      <td>1</td>\n",
       "      <td>220.534624</td>\n",
       "    </tr>\n",
       "    <tr>\n",
       "      <th>4</th>\n",
       "      <td>Apple</td>\n",
       "      <td>MacBook Pro</td>\n",
       "      <td>Ultrabook</td>\n",
       "      <td>Intel Core i5 3.1GHz</td>\n",
       "      <td>256GB SSD</td>\n",
       "      <td>Intel Iris Plus Graphics 650</td>\n",
       "      <td>macOS</td>\n",
       "      <td>16037611.20</td>\n",
       "      <td>1.37</td>\n",
       "      <td>8</td>\n",
       "      <td>0</td>\n",
       "      <td>1</td>\n",
       "      <td>226.983005</td>\n",
       "    </tr>\n",
       "  </tbody>\n",
       "</table>\n",
       "</div>"
      ],
      "text/plain": [
       "  Manufacturer   Model Name   Category                         CPU  \\\n",
       "0        Apple  MacBook Pro  Ultrabook        Intel Core i5 2.3GHz   \n",
       "1        Apple  Macbook Air  Ultrabook        Intel Core i5 1.8GHz   \n",
       "2           HP       250 G6   Notebook  Intel Core i5 7200U 2.5GHz   \n",
       "3        Apple  MacBook Pro  Ultrabook        Intel Core i7 2.7GHz   \n",
       "4        Apple  MacBook Pro  Ultrabook        Intel Core i5 3.1GHz   \n",
       "\n",
       "               Storage                           GPU Operating System  \\\n",
       "0            128GB SSD  Intel Iris Plus Graphics 640            macOS   \n",
       "1  128GB Flash Storage        Intel HD Graphics 6000            macOS   \n",
       "2            256GB SSD         Intel HD Graphics 620            No OS   \n",
       "3            512GB SSD            AMD Radeon Pro 455            macOS   \n",
       "4            256GB SSD  Intel Iris Plus Graphics 650            macOS   \n",
       "\n",
       "         Price  Weight  RAM  TouchScreen  Ips         ppi  \n",
       "0  11912523.48    1.37    8            0    1  226.983005  \n",
       "1   7993374.48    1.34    8            0    0  127.677940  \n",
       "2   5112900.00    1.86    8            0    0  141.211998  \n",
       "3  22563005.40    1.83   16            0    1  220.534624  \n",
       "4  16037611.20    1.37    8            0    1  226.983005  "
      ]
     },
     "execution_count": 31,
     "metadata": {},
     "output_type": "execute_result"
    }
   ],
   "source": [
    "data = data.drop(['X_reso','Y_reso','Screen Size','Screen'],axis=1)\n",
    "data.head()"
   ]
  },
  {
   "cell_type": "code",
   "execution_count": 32,
   "id": "45b276e9",
   "metadata": {
    "execution": {
     "iopub.execute_input": "2023-04-07T18:06:38.660214Z",
     "iopub.status.busy": "2023-04-07T18:06:38.659336Z",
     "iopub.status.idle": "2023-04-07T18:06:38.682147Z",
     "shell.execute_reply": "2023-04-07T18:06:38.680825Z"
    },
    "papermill": {
     "duration": 0.057766,
     "end_time": "2023-04-07T18:06:38.684852",
     "exception": false,
     "start_time": "2023-04-07T18:06:38.627086",
     "status": "completed"
    },
    "tags": []
   },
   "outputs": [
    {
     "data": {
      "text/html": [
       "<div>\n",
       "<style scoped>\n",
       "    .dataframe tbody tr th:only-of-type {\n",
       "        vertical-align: middle;\n",
       "    }\n",
       "\n",
       "    .dataframe tbody tr th {\n",
       "        vertical-align: top;\n",
       "    }\n",
       "\n",
       "    .dataframe thead th {\n",
       "        text-align: right;\n",
       "    }\n",
       "</style>\n",
       "<table border=\"1\" class=\"dataframe\">\n",
       "  <thead>\n",
       "    <tr style=\"text-align: right;\">\n",
       "      <th></th>\n",
       "      <th>Manufacturer</th>\n",
       "      <th>Model Name</th>\n",
       "      <th>Category</th>\n",
       "      <th>CPU</th>\n",
       "      <th>Storage</th>\n",
       "      <th>GPU</th>\n",
       "      <th>Operating System</th>\n",
       "      <th>Price</th>\n",
       "      <th>Weight</th>\n",
       "      <th>RAM</th>\n",
       "      <th>TouchScreen</th>\n",
       "      <th>Ips</th>\n",
       "      <th>ppi</th>\n",
       "      <th>cpu</th>\n",
       "    </tr>\n",
       "  </thead>\n",
       "  <tbody>\n",
       "    <tr>\n",
       "      <th>0</th>\n",
       "      <td>Apple</td>\n",
       "      <td>MacBook Pro</td>\n",
       "      <td>Ultrabook</td>\n",
       "      <td>Intel Core i5 2.3GHz</td>\n",
       "      <td>128GB SSD</td>\n",
       "      <td>Intel Iris Plus Graphics 640</td>\n",
       "      <td>macOS</td>\n",
       "      <td>11912523.48</td>\n",
       "      <td>1.37</td>\n",
       "      <td>8</td>\n",
       "      <td>0</td>\n",
       "      <td>1</td>\n",
       "      <td>226.983005</td>\n",
       "      <td>Intel Core i5</td>\n",
       "    </tr>\n",
       "    <tr>\n",
       "      <th>1</th>\n",
       "      <td>Apple</td>\n",
       "      <td>Macbook Air</td>\n",
       "      <td>Ultrabook</td>\n",
       "      <td>Intel Core i5 1.8GHz</td>\n",
       "      <td>128GB Flash Storage</td>\n",
       "      <td>Intel HD Graphics 6000</td>\n",
       "      <td>macOS</td>\n",
       "      <td>7993374.48</td>\n",
       "      <td>1.34</td>\n",
       "      <td>8</td>\n",
       "      <td>0</td>\n",
       "      <td>0</td>\n",
       "      <td>127.677940</td>\n",
       "      <td>Intel Core i5</td>\n",
       "    </tr>\n",
       "    <tr>\n",
       "      <th>2</th>\n",
       "      <td>HP</td>\n",
       "      <td>250 G6</td>\n",
       "      <td>Notebook</td>\n",
       "      <td>Intel Core i5 7200U 2.5GHz</td>\n",
       "      <td>256GB SSD</td>\n",
       "      <td>Intel HD Graphics 620</td>\n",
       "      <td>No OS</td>\n",
       "      <td>5112900.00</td>\n",
       "      <td>1.86</td>\n",
       "      <td>8</td>\n",
       "      <td>0</td>\n",
       "      <td>0</td>\n",
       "      <td>141.211998</td>\n",
       "      <td>Intel Core i5</td>\n",
       "    </tr>\n",
       "    <tr>\n",
       "      <th>3</th>\n",
       "      <td>Apple</td>\n",
       "      <td>MacBook Pro</td>\n",
       "      <td>Ultrabook</td>\n",
       "      <td>Intel Core i7 2.7GHz</td>\n",
       "      <td>512GB SSD</td>\n",
       "      <td>AMD Radeon Pro 455</td>\n",
       "      <td>macOS</td>\n",
       "      <td>22563005.40</td>\n",
       "      <td>1.83</td>\n",
       "      <td>16</td>\n",
       "      <td>0</td>\n",
       "      <td>1</td>\n",
       "      <td>220.534624</td>\n",
       "      <td>Intel Core i7</td>\n",
       "    </tr>\n",
       "    <tr>\n",
       "      <th>4</th>\n",
       "      <td>Apple</td>\n",
       "      <td>MacBook Pro</td>\n",
       "      <td>Ultrabook</td>\n",
       "      <td>Intel Core i5 3.1GHz</td>\n",
       "      <td>256GB SSD</td>\n",
       "      <td>Intel Iris Plus Graphics 650</td>\n",
       "      <td>macOS</td>\n",
       "      <td>16037611.20</td>\n",
       "      <td>1.37</td>\n",
       "      <td>8</td>\n",
       "      <td>0</td>\n",
       "      <td>1</td>\n",
       "      <td>226.983005</td>\n",
       "      <td>Intel Core i5</td>\n",
       "    </tr>\n",
       "  </tbody>\n",
       "</table>\n",
       "</div>"
      ],
      "text/plain": [
       "  Manufacturer   Model Name   Category                         CPU  \\\n",
       "0        Apple  MacBook Pro  Ultrabook        Intel Core i5 2.3GHz   \n",
       "1        Apple  Macbook Air  Ultrabook        Intel Core i5 1.8GHz   \n",
       "2           HP       250 G6   Notebook  Intel Core i5 7200U 2.5GHz   \n",
       "3        Apple  MacBook Pro  Ultrabook        Intel Core i7 2.7GHz   \n",
       "4        Apple  MacBook Pro  Ultrabook        Intel Core i5 3.1GHz   \n",
       "\n",
       "               Storage                           GPU Operating System  \\\n",
       "0            128GB SSD  Intel Iris Plus Graphics 640            macOS   \n",
       "1  128GB Flash Storage        Intel HD Graphics 6000            macOS   \n",
       "2            256GB SSD         Intel HD Graphics 620            No OS   \n",
       "3            512GB SSD            AMD Radeon Pro 455            macOS   \n",
       "4            256GB SSD  Intel Iris Plus Graphics 650            macOS   \n",
       "\n",
       "         Price  Weight  RAM  TouchScreen  Ips         ppi            cpu  \n",
       "0  11912523.48    1.37    8            0    1  226.983005  Intel Core i5  \n",
       "1   7993374.48    1.34    8            0    0  127.677940  Intel Core i5  \n",
       "2   5112900.00    1.86    8            0    0  141.211998  Intel Core i5  \n",
       "3  22563005.40    1.83   16            0    1  220.534624  Intel Core i7  \n",
       "4  16037611.20    1.37    8            0    1  226.983005  Intel Core i5  "
      ]
     },
     "execution_count": 32,
     "metadata": {},
     "output_type": "execute_result"
    }
   ],
   "source": [
    "data['cpu'] = data['CPU'].apply(lambda x: \" \".join(x.split()[0:3]))\n",
    "data.head()"
   ]
  },
  {
   "cell_type": "markdown",
   "id": "0324769b",
   "metadata": {
    "papermill": {
     "duration": 0.02981,
     "end_time": "2023-04-07T18:06:38.744689",
     "exception": false,
     "start_time": "2023-04-07T18:06:38.714879",
     "status": "completed"
    },
    "tags": []
   },
   "source": [
    "Creating a function and dividing the CPUs to 5 Categories:\n",
    "<ul>\n",
    "    <li>Intel i3</li>\n",
    "    <li>Intel i5</li>\n",
    "    <li>Intel i7</li>\n",
    "    <li>Other Intel Processors</li>\n",
    "    <li>AMD</li>\n",
    "</ul>"
   ]
  },
  {
   "cell_type": "code",
   "execution_count": 33,
   "id": "78bb5a19",
   "metadata": {
    "execution": {
     "iopub.execute_input": "2023-04-07T18:06:38.807147Z",
     "iopub.status.busy": "2023-04-07T18:06:38.806247Z",
     "iopub.status.idle": "2023-04-07T18:06:38.812846Z",
     "shell.execute_reply": "2023-04-07T18:06:38.811798Z"
    },
    "papermill": {
     "duration": 0.040964,
     "end_time": "2023-04-07T18:06:38.815626",
     "exception": false,
     "start_time": "2023-04-07T18:06:38.774662",
     "status": "completed"
    },
    "tags": []
   },
   "outputs": [],
   "source": [
    "def fetch_processor(text):\n",
    "    if text in ['Intel Core i5','Intel Core i7','Intel Core i3']:\n",
    "        return text\n",
    "    elif text.split()[0] == 'Intel':\n",
    "        return 'Other Intel Processor'\n",
    "    else:\n",
    "        return 'AMD Processor'"
   ]
  },
  {
   "cell_type": "code",
   "execution_count": 34,
   "id": "834b66a9",
   "metadata": {
    "execution": {
     "iopub.execute_input": "2023-04-07T18:06:38.880839Z",
     "iopub.status.busy": "2023-04-07T18:06:38.880347Z",
     "iopub.status.idle": "2023-04-07T18:06:38.887753Z",
     "shell.execute_reply": "2023-04-07T18:06:38.886644Z"
    },
    "papermill": {
     "duration": 0.04435,
     "end_time": "2023-04-07T18:06:38.890258",
     "exception": false,
     "start_time": "2023-04-07T18:06:38.845908",
     "status": "completed"
    },
    "tags": []
   },
   "outputs": [],
   "source": [
    "data['Cpu brand'] = data['cpu'].apply(fetch_processor)"
   ]
  },
  {
   "cell_type": "code",
   "execution_count": 35,
   "id": "1453b39e",
   "metadata": {
    "execution": {
     "iopub.execute_input": "2023-04-07T18:06:38.955199Z",
     "iopub.status.busy": "2023-04-07T18:06:38.954114Z",
     "iopub.status.idle": "2023-04-07T18:06:39.157210Z",
     "shell.execute_reply": "2023-04-07T18:06:39.156145Z"
    },
    "papermill": {
     "duration": 0.238969,
     "end_time": "2023-04-07T18:06:39.159949",
     "exception": false,
     "start_time": "2023-04-07T18:06:38.920980",
     "status": "completed"
    },
    "tags": []
   },
   "outputs": [
    {
     "data": {
      "text/plain": [
       "<Axes: >"
      ]
     },
     "execution_count": 35,
     "metadata": {},
     "output_type": "execute_result"
    },
    {
     "data": {
      "image/png": "[encoded data removed]",
      "text/plain": [
       "<Figure size 1000x500 with 1 Axes>"
      ]
     },
     "metadata": {},
     "output_type": "display_data"
    }
   ],
   "source": [
    "plt.figure(figsize=(10,5))\n",
    "data['Cpu brand'].value_counts().plot(kind='bar')"
   ]
  },
  {
   "cell_type": "code",
   "execution_count": 36,
   "id": "1b0c93c0",
   "metadata": {
    "execution": {
     "iopub.execute_input": "2023-04-07T18:06:39.227424Z",
     "iopub.status.busy": "2023-04-07T18:06:39.226956Z",
     "iopub.status.idle": "2023-04-07T18:06:39.589858Z",
     "shell.execute_reply": "2023-04-07T18:06:39.588281Z"
    },
    "papermill": {
     "duration": 0.399981,
     "end_time": "2023-04-07T18:06:39.592771",
     "exception": false,
     "start_time": "2023-04-07T18:06:39.192790",
     "status": "completed"
    },
    "tags": []
   },
   "outputs": [
    {
     "data": {
      "text/plain": [
       "<Axes: xlabel='Cpu brand', ylabel='Price'>"
      ]
     },
     "execution_count": 36,
     "metadata": {},
     "output_type": "execute_result"
    },
    {
     "data": {
      "image/png": "[encoded data removed]",
      "text/plain": [
       "<Figure size 1000x500 with 1 Axes>"
      ]
     },
     "metadata": {},
     "output_type": "display_data"
    }
   ],
   "source": [
    "plt.figure(figsize=(10,5))\n",
    "sns.barplot(x = data['Cpu brand'], y = data['Price'])"
   ]
  },
  {
   "cell_type": "code",
   "execution_count": 37,
   "id": "7e4075f1",
   "metadata": {
    "execution": {
     "iopub.execute_input": "2023-04-07T18:06:39.657567Z",
     "iopub.status.busy": "2023-04-07T18:06:39.657099Z",
     "iopub.status.idle": "2023-04-07T18:06:39.680166Z",
     "shell.execute_reply": "2023-04-07T18:06:39.678596Z"
    },
    "papermill": {
     "duration": 0.058963,
     "end_time": "2023-04-07T18:06:39.682842",
     "exception": false,
     "start_time": "2023-04-07T18:06:39.623879",
     "status": "completed"
    },
    "tags": []
   },
   "outputs": [
    {
     "data": {
      "text/html": [
       "<div>\n",
       "<style scoped>\n",
       "    .dataframe tbody tr th:only-of-type {\n",
       "        vertical-align: middle;\n",
       "    }\n",
       "\n",
       "    .dataframe tbody tr th {\n",
       "        vertical-align: top;\n",
       "    }\n",
       "\n",
       "    .dataframe thead th {\n",
       "        text-align: right;\n",
       "    }\n",
       "</style>\n",
       "<table border=\"1\" class=\"dataframe\">\n",
       "  <thead>\n",
       "    <tr style=\"text-align: right;\">\n",
       "      <th></th>\n",
       "      <th>Manufacturer</th>\n",
       "      <th>Model Name</th>\n",
       "      <th>Category</th>\n",
       "      <th>Storage</th>\n",
       "      <th>GPU</th>\n",
       "      <th>Operating System</th>\n",
       "      <th>Price</th>\n",
       "      <th>Weight</th>\n",
       "      <th>RAM</th>\n",
       "      <th>TouchScreen</th>\n",
       "      <th>Ips</th>\n",
       "      <th>ppi</th>\n",
       "      <th>Cpu brand</th>\n",
       "    </tr>\n",
       "  </thead>\n",
       "  <tbody>\n",
       "    <tr>\n",
       "      <th>0</th>\n",
       "      <td>Apple</td>\n",
       "      <td>MacBook Pro</td>\n",
       "      <td>Ultrabook</td>\n",
       "      <td>128GB SSD</td>\n",
       "      <td>Intel Iris Plus Graphics 640</td>\n",
       "      <td>macOS</td>\n",
       "      <td>11912523.48</td>\n",
       "      <td>1.37</td>\n",
       "      <td>8</td>\n",
       "      <td>0</td>\n",
       "      <td>1</td>\n",
       "      <td>226.983005</td>\n",
       "      <td>Intel Core i5</td>\n",
       "    </tr>\n",
       "    <tr>\n",
       "      <th>1</th>\n",
       "      <td>Apple</td>\n",
       "      <td>Macbook Air</td>\n",
       "      <td>Ultrabook</td>\n",
       "      <td>128GB Flash Storage</td>\n",
       "      <td>Intel HD Graphics 6000</td>\n",
       "      <td>macOS</td>\n",
       "      <td>7993374.48</td>\n",
       "      <td>1.34</td>\n",
       "      <td>8</td>\n",
       "      <td>0</td>\n",
       "      <td>0</td>\n",
       "      <td>127.677940</td>\n",
       "      <td>Intel Core i5</td>\n",
       "    </tr>\n",
       "    <tr>\n",
       "      <th>2</th>\n",
       "      <td>HP</td>\n",
       "      <td>250 G6</td>\n",
       "      <td>Notebook</td>\n",
       "      <td>256GB SSD</td>\n",
       "      <td>Intel HD Graphics 620</td>\n",
       "      <td>No OS</td>\n",
       "      <td>5112900.00</td>\n",
       "      <td>1.86</td>\n",
       "      <td>8</td>\n",
       "      <td>0</td>\n",
       "      <td>0</td>\n",
       "      <td>141.211998</td>\n",
       "      <td>Intel Core i5</td>\n",
       "    </tr>\n",
       "    <tr>\n",
       "      <th>3</th>\n",
       "      <td>Apple</td>\n",
       "      <td>MacBook Pro</td>\n",
       "      <td>Ultrabook</td>\n",
       "      <td>512GB SSD</td>\n",
       "      <td>AMD Radeon Pro 455</td>\n",
       "      <td>macOS</td>\n",
       "      <td>22563005.40</td>\n",
       "      <td>1.83</td>\n",
       "      <td>16</td>\n",
       "      <td>0</td>\n",
       "      <td>1</td>\n",
       "      <td>220.534624</td>\n",
       "      <td>Intel Core i7</td>\n",
       "    </tr>\n",
       "    <tr>\n",
       "      <th>4</th>\n",
       "      <td>Apple</td>\n",
       "      <td>MacBook Pro</td>\n",
       "      <td>Ultrabook</td>\n",
       "      <td>256GB SSD</td>\n",
       "      <td>Intel Iris Plus Graphics 650</td>\n",
       "      <td>macOS</td>\n",
       "      <td>16037611.20</td>\n",
       "      <td>1.37</td>\n",
       "      <td>8</td>\n",
       "      <td>0</td>\n",
       "      <td>1</td>\n",
       "      <td>226.983005</td>\n",
       "      <td>Intel Core i5</td>\n",
       "    </tr>\n",
       "  </tbody>\n",
       "</table>\n",
       "</div>"
      ],
      "text/plain": [
       "  Manufacturer   Model Name   Category              Storage  \\\n",
       "0        Apple  MacBook Pro  Ultrabook            128GB SSD   \n",
       "1        Apple  Macbook Air  Ultrabook  128GB Flash Storage   \n",
       "2           HP       250 G6   Notebook            256GB SSD   \n",
       "3        Apple  MacBook Pro  Ultrabook            512GB SSD   \n",
       "4        Apple  MacBook Pro  Ultrabook            256GB SSD   \n",
       "\n",
       "                            GPU Operating System        Price  Weight  RAM  \\\n",
       "0  Intel Iris Plus Graphics 640            macOS  11912523.48    1.37    8   \n",
       "1        Intel HD Graphics 6000            macOS   7993374.48    1.34    8   \n",
       "2         Intel HD Graphics 620            No OS   5112900.00    1.86    8   \n",
       "3            AMD Radeon Pro 455            macOS  22563005.40    1.83   16   \n",
       "4  Intel Iris Plus Graphics 650            macOS  16037611.20    1.37    8   \n",
       "\n",
       "   TouchScreen  Ips         ppi      Cpu brand  \n",
       "0            0    1  226.983005  Intel Core i5  \n",
       "1            0    0  127.677940  Intel Core i5  \n",
       "2            0    0  141.211998  Intel Core i5  \n",
       "3            0    1  220.534624  Intel Core i7  \n",
       "4            0    1  226.983005  Intel Core i5  "
      ]
     },
     "execution_count": 37,
     "metadata": {},
     "output_type": "execute_result"
    }
   ],
   "source": [
    "data.drop(columns=['CPU','cpu'],inplace=True)\n",
    "data.head()"
   ]
  },
  {
   "cell_type": "code",
   "execution_count": 38,
   "id": "d0e6d8bb",
   "metadata": {
    "execution": {
     "iopub.execute_input": "2023-04-07T18:06:39.750385Z",
     "iopub.status.busy": "2023-04-07T18:06:39.749505Z",
     "iopub.status.idle": "2023-04-07T18:06:40.077848Z",
     "shell.execute_reply": "2023-04-07T18:06:40.076380Z"
    },
    "papermill": {
     "duration": 0.364644,
     "end_time": "2023-04-07T18:06:40.080657",
     "exception": false,
     "start_time": "2023-04-07T18:06:39.716013",
     "status": "completed"
    },
    "tags": []
   },
   "outputs": [
    {
     "data": {
      "text/plain": [
       "<Axes: >"
      ]
     },
     "execution_count": 38,
     "metadata": {},
     "output_type": "execute_result"
    },
    {
     "data": {
      "image/png": "[encoded data removed]",
      "text/plain": [
       "<Figure size 640x480 with 1 Axes>"
      ]
     },
     "metadata": {},
     "output_type": "display_data"
    }
   ],
   "source": [
    "data['RAM'].value_counts().plot(kind='bar')"
   ]
  },
  {
   "cell_type": "code",
   "execution_count": 39,
   "id": "1b68b7f3",
   "metadata": {
    "execution": {
     "iopub.execute_input": "2023-04-07T18:06:40.147535Z",
     "iopub.status.busy": "2023-04-07T18:06:40.146875Z",
     "iopub.status.idle": "2023-04-07T18:06:40.590494Z",
     "shell.execute_reply": "2023-04-07T18:06:40.588667Z"
    },
    "papermill": {
     "duration": 0.48084,
     "end_time": "2023-04-07T18:06:40.594053",
     "exception": false,
     "start_time": "2023-04-07T18:06:40.113213",
     "status": "completed"
    },
    "tags": []
   },
   "outputs": [
    {
     "data": {
      "text/plain": [
       "<Axes: xlabel='RAM', ylabel='Price'>"
      ]
     },
     "execution_count": 39,
     "metadata": {},
     "output_type": "execute_result"
    },
    {
     "data": {
      "image/png": "[encoded data removed]",
      "text/plain": [
       "<Figure size 1000x500 with 1 Axes>"
      ]
     },
     "metadata": {},
     "output_type": "display_data"
    }
   ],
   "source": [
    "plt.figure(figsize=(10,5))\n",
    "sns.barplot(x = data['RAM'], y = data['Price'])"
   ]
  },
  {
   "cell_type": "code",
   "execution_count": 40,
   "id": "caccccee",
   "metadata": {
    "execution": {
     "iopub.execute_input": "2023-04-07T18:06:40.663995Z",
     "iopub.status.busy": "2023-04-07T18:06:40.663149Z",
     "iopub.status.idle": "2023-04-07T18:06:40.673413Z",
     "shell.execute_reply": "2023-04-07T18:06:40.672057Z"
    },
    "papermill": {
     "duration": 0.047511,
     "end_time": "2023-04-07T18:06:40.676081",
     "exception": false,
     "start_time": "2023-04-07T18:06:40.628570",
     "status": "completed"
    },
    "tags": []
   },
   "outputs": [
    {
     "data": {
      "text/plain": [
       "256GB SSD                        412\n",
       "1TB HDD                          224\n",
       "500GB HDD                        132\n",
       "512GB SSD                        118\n",
       "128GB SSD +  1TB HDD              94\n",
       "128GB SSD                         76\n",
       "256GB SSD +  1TB HDD              73\n",
       "32GB Flash Storage                38\n",
       "2TB HDD                           16\n",
       "64GB Flash Storage                15\n",
       "512GB SSD +  1TB HDD              14\n",
       "1TB SSD                           14\n",
       "256GB SSD +  2TB HDD              10\n",
       "1TB Hybrid                         9\n",
       "256GB Flash Storage                8\n",
       "16GB Flash Storage                 7\n",
       "32GB SSD                           6\n",
       "1GB SSD                            5\n",
       "128GB Flash Storage                4\n",
       "16GB SSD                           3\n",
       "512GB Flash Storage                2\n",
       "1TB SSD +  1TB HDD                 2\n",
       "512GB SSD +  2TB HDD               2\n",
       "256GB SSD +  500GB HDD             2\n",
       "128GB SSD +  2TB HDD               2\n",
       "256GB SSD +  256GB SSD             2\n",
       "512GB SSD +  256GB SSD             1\n",
       "512GB SSD +  512GB SSD             1\n",
       "64GB Flash Storage +  1TB HDD      1\n",
       "1TB HDD +  1TB HDD                 1\n",
       "32GB HDD                           1\n",
       "64GB SSD                           1\n",
       "128GB HDD                          1\n",
       "240GB SSD                          1\n",
       "8GB SSD                            1\n",
       "508GB Hybrid                       1\n",
       "512GB SSD +  1TB Hybrid            1\n",
       "256GB SSD +  1TB Hybrid            1\n",
       "Name:  Storage, dtype: int64"
      ]
     },
     "execution_count": 40,
     "metadata": {},
     "output_type": "execute_result"
    }
   ],
   "source": [
    "data[' Storage'].value_counts()"
   ]
  },
  {
   "cell_type": "code",
   "execution_count": 41,
   "id": "917b692b",
   "metadata": {
    "execution": {
     "iopub.execute_input": "2023-04-07T18:06:40.746642Z",
     "iopub.status.busy": "2023-04-07T18:06:40.745489Z",
     "iopub.status.idle": "2023-04-07T18:06:40.770478Z",
     "shell.execute_reply": "2023-04-07T18:06:40.768877Z"
    },
    "papermill": {
     "duration": 0.065285,
     "end_time": "2023-04-07T18:06:40.773746",
     "exception": false,
     "start_time": "2023-04-07T18:06:40.708461",
     "status": "completed"
    },
    "tags": []
   },
   "outputs": [],
   "source": [
    "data[' Storage'] = data[' Storage'].astype(str).replace('\\.0','',regex=True)\n",
    "data[' Storage'] = data[' Storage'].astype(str).replace('GB','')\n",
    "data[' Storage'] = data[' Storage'].astype(str).replace('TB','000')\n",
    "new = data[' Storage'].str.split('+',n=1,expand=True)\n",
    "\n",
    "data['first'] = new[0]\n",
    "data['first'] = data['first'].str.strip()\n",
    "data['sec'] = new[1]"
   ]
  },
  {
   "cell_type": "code",
   "execution_count": 42,
   "id": "55aa1655",
   "metadata": {
    "execution": {
     "iopub.execute_input": "2023-04-07T18:06:40.848504Z",
     "iopub.status.busy": "2023-04-07T18:06:40.848009Z",
     "iopub.status.idle": "2023-04-07T18:06:40.869562Z",
     "shell.execute_reply": "2023-04-07T18:06:40.867767Z"
    },
    "papermill": {
     "duration": 0.059959,
     "end_time": "2023-04-07T18:06:40.873680",
     "exception": false,
     "start_time": "2023-04-07T18:06:40.813721",
     "status": "completed"
    },
    "tags": []
   },
   "outputs": [],
   "source": [
    "data['l1hdd'] = data['first'].apply(lambda x: 1 if \"HDD\" in x else 0)\n",
    "data['l1ssd'] = data['first'].apply(lambda x: 1 if \"SSD\" in x else 0)\n",
    "data['l1hybrid'] = data['first'].apply(lambda x: 1 if \"Hybrid\" in x else 0)\n",
    "data['l1fs'] = data['first'].apply(lambda x: 1 if \"Flash Storage\" in x else 0)\n",
    "data['first'] = data['first'].str.replace(r'\\D','')\n",
    "data['sec'].fillna('0',inplace=True)"
   ]
  },
  {
   "cell_type": "code",
   "execution_count": 43,
   "id": "fbd5c92e",
   "metadata": {
    "execution": {
     "iopub.execute_input": "2023-04-07T18:06:40.945609Z",
     "iopub.status.busy": "2023-04-07T18:06:40.945167Z",
     "iopub.status.idle": "2023-04-07T18:06:40.965258Z",
     "shell.execute_reply": "2023-04-07T18:06:40.963737Z"
    },
    "papermill": {
     "duration": 0.060694,
     "end_time": "2023-04-07T18:06:40.969038",
     "exception": false,
     "start_time": "2023-04-07T18:06:40.908344",
     "status": "completed"
    },
    "tags": []
   },
   "outputs": [],
   "source": [
    "data['l2hdd'] = data['sec'].apply(lambda x: 1 if \"HDD\" in x else 0)\n",
    "data['l2ssd'] = data['sec'].apply(lambda x: 1 if \"SSD\" in x else 0)\n",
    "data['l2hybrid'] = data['sec'].apply(lambda x: 1 if \"Hybrid\" in x else 0)\n",
    "data['l2fs'] = data['sec'].apply(lambda x: 1 if \"Flash Storage\" in x else 0)\n",
    "data['sec'] = data['sec'].str.replace(r'\\D','')"
   ]
  },
  {
   "cell_type": "code",
   "execution_count": 44,
   "id": "475eb858",
   "metadata": {
    "execution": {
     "iopub.execute_input": "2023-04-07T18:06:41.040027Z",
     "iopub.status.busy": "2023-04-07T18:06:41.039248Z",
     "iopub.status.idle": "2023-04-07T18:06:41.047719Z",
     "shell.execute_reply": "2023-04-07T18:06:41.046197Z"
    },
    "papermill": {
     "duration": 0.047578,
     "end_time": "2023-04-07T18:06:41.051321",
     "exception": false,
     "start_time": "2023-04-07T18:06:41.003743",
     "status": "completed"
    },
    "tags": []
   },
   "outputs": [],
   "source": [
    "data['first'] = data['first'].astype('int')\n",
    "data['sec'] = data['sec'].astype('int')"
   ]
  },
  {
   "cell_type": "code",
   "execution_count": 45,
   "id": "6ffed72e",
   "metadata": {
    "execution": {
     "iopub.execute_input": "2023-04-07T18:06:41.120131Z",
     "iopub.status.busy": "2023-04-07T18:06:41.119007Z",
     "iopub.status.idle": "2023-04-07T18:06:41.134780Z",
     "shell.execute_reply": "2023-04-07T18:06:41.133408Z"
    },
    "papermill": {
     "duration": 0.052375,
     "end_time": "2023-04-07T18:06:41.137753",
     "exception": false,
     "start_time": "2023-04-07T18:06:41.085378",
     "status": "completed"
    },
    "tags": []
   },
   "outputs": [],
   "source": [
    "data['HDD'] = data['first']*data['l1hdd'] + data['sec']*data['l2hdd']\n",
    "data['SSD'] = data['first']*data['l1ssd'] + data['sec']*data['l2ssd']\n",
    "data['Hybrid'] = data['first']*data['l1hybrid'] + data['sec']*data['l2hybrid']\n",
    "data['FS'] = data['first']*data['l1fs'] + data['sec']*data['l2fs']\n",
    "\n",
    "data.drop(columns=['first','sec','l1hdd','l1ssd','l1hybrid','l1fs','l2hdd','l2ssd','l2fs','l2hybrid'],inplace=True)"
   ]
  },
  {
   "cell_type": "code",
   "execution_count": 46,
   "id": "b11ec116",
   "metadata": {
    "execution": {
     "iopub.execute_input": "2023-04-07T18:06:41.205530Z",
     "iopub.status.busy": "2023-04-07T18:06:41.205060Z",
     "iopub.status.idle": "2023-04-07T18:06:41.227066Z",
     "shell.execute_reply": "2023-04-07T18:06:41.225641Z"
    },
    "papermill": {
     "duration": 0.05934,
     "end_time": "2023-04-07T18:06:41.229978",
     "exception": false,
     "start_time": "2023-04-07T18:06:41.170638",
     "status": "completed"
    },
    "tags": []
   },
   "outputs": [
    {
     "data": {
      "text/html": [
       "<div>\n",
       "<style scoped>\n",
       "    .dataframe tbody tr th:only-of-type {\n",
       "        vertical-align: middle;\n",
       "    }\n",
       "\n",
       "    .dataframe tbody tr th {\n",
       "        vertical-align: top;\n",
       "    }\n",
       "\n",
       "    .dataframe thead th {\n",
       "        text-align: right;\n",
       "    }\n",
       "</style>\n",
       "<table border=\"1\" class=\"dataframe\">\n",
       "  <thead>\n",
       "    <tr style=\"text-align: right;\">\n",
       "      <th></th>\n",
       "      <th>Manufacturer</th>\n",
       "      <th>Model Name</th>\n",
       "      <th>Category</th>\n",
       "      <th>Storage</th>\n",
       "      <th>GPU</th>\n",
       "      <th>Operating System</th>\n",
       "      <th>Price</th>\n",
       "      <th>Weight</th>\n",
       "      <th>RAM</th>\n",
       "      <th>TouchScreen</th>\n",
       "      <th>Ips</th>\n",
       "      <th>ppi</th>\n",
       "      <th>Cpu brand</th>\n",
       "      <th>HDD</th>\n",
       "      <th>SSD</th>\n",
       "      <th>Hybrid</th>\n",
       "      <th>FS</th>\n",
       "    </tr>\n",
       "  </thead>\n",
       "  <tbody>\n",
       "    <tr>\n",
       "      <th>0</th>\n",
       "      <td>Apple</td>\n",
       "      <td>MacBook Pro</td>\n",
       "      <td>Ultrabook</td>\n",
       "      <td>128GB SSD</td>\n",
       "      <td>Intel Iris Plus Graphics 640</td>\n",
       "      <td>macOS</td>\n",
       "      <td>11912523.48</td>\n",
       "      <td>1.37</td>\n",
       "      <td>8</td>\n",
       "      <td>0</td>\n",
       "      <td>1</td>\n",
       "      <td>226.983005</td>\n",
       "      <td>Intel Core i5</td>\n",
       "      <td>0</td>\n",
       "      <td>128</td>\n",
       "      <td>0</td>\n",
       "      <td>0</td>\n",
       "    </tr>\n",
       "    <tr>\n",
       "      <th>1</th>\n",
       "      <td>Apple</td>\n",
       "      <td>Macbook Air</td>\n",
       "      <td>Ultrabook</td>\n",
       "      <td>128GB Flash Storage</td>\n",
       "      <td>Intel HD Graphics 6000</td>\n",
       "      <td>macOS</td>\n",
       "      <td>7993374.48</td>\n",
       "      <td>1.34</td>\n",
       "      <td>8</td>\n",
       "      <td>0</td>\n",
       "      <td>0</td>\n",
       "      <td>127.677940</td>\n",
       "      <td>Intel Core i5</td>\n",
       "      <td>0</td>\n",
       "      <td>0</td>\n",
       "      <td>0</td>\n",
       "      <td>128</td>\n",
       "    </tr>\n",
       "    <tr>\n",
       "      <th>2</th>\n",
       "      <td>HP</td>\n",
       "      <td>250 G6</td>\n",
       "      <td>Notebook</td>\n",
       "      <td>256GB SSD</td>\n",
       "      <td>Intel HD Graphics 620</td>\n",
       "      <td>No OS</td>\n",
       "      <td>5112900.00</td>\n",
       "      <td>1.86</td>\n",
       "      <td>8</td>\n",
       "      <td>0</td>\n",
       "      <td>0</td>\n",
       "      <td>141.211998</td>\n",
       "      <td>Intel Core i5</td>\n",
       "      <td>0</td>\n",
       "      <td>256</td>\n",
       "      <td>0</td>\n",
       "      <td>0</td>\n",
       "    </tr>\n",
       "    <tr>\n",
       "      <th>3</th>\n",
       "      <td>Apple</td>\n",
       "      <td>MacBook Pro</td>\n",
       "      <td>Ultrabook</td>\n",
       "      <td>512GB SSD</td>\n",
       "      <td>AMD Radeon Pro 455</td>\n",
       "      <td>macOS</td>\n",
       "      <td>22563005.40</td>\n",
       "      <td>1.83</td>\n",
       "      <td>16</td>\n",
       "      <td>0</td>\n",
       "      <td>1</td>\n",
       "      <td>220.534624</td>\n",
       "      <td>Intel Core i7</td>\n",
       "      <td>0</td>\n",
       "      <td>512</td>\n",
       "      <td>0</td>\n",
       "      <td>0</td>\n",
       "    </tr>\n",
       "    <tr>\n",
       "      <th>4</th>\n",
       "      <td>Apple</td>\n",
       "      <td>MacBook Pro</td>\n",
       "      <td>Ultrabook</td>\n",
       "      <td>256GB SSD</td>\n",
       "      <td>Intel Iris Plus Graphics 650</td>\n",
       "      <td>macOS</td>\n",
       "      <td>16037611.20</td>\n",
       "      <td>1.37</td>\n",
       "      <td>8</td>\n",
       "      <td>0</td>\n",
       "      <td>1</td>\n",
       "      <td>226.983005</td>\n",
       "      <td>Intel Core i5</td>\n",
       "      <td>0</td>\n",
       "      <td>256</td>\n",
       "      <td>0</td>\n",
       "      <td>0</td>\n",
       "    </tr>\n",
       "  </tbody>\n",
       "</table>\n",
       "</div>"
      ],
      "text/plain": [
       "  Manufacturer   Model Name   Category              Storage  \\\n",
       "0        Apple  MacBook Pro  Ultrabook            128GB SSD   \n",
       "1        Apple  Macbook Air  Ultrabook  128GB Flash Storage   \n",
       "2           HP       250 G6   Notebook            256GB SSD   \n",
       "3        Apple  MacBook Pro  Ultrabook            512GB SSD   \n",
       "4        Apple  MacBook Pro  Ultrabook            256GB SSD   \n",
       "\n",
       "                            GPU Operating System        Price  Weight  RAM  \\\n",
       "0  Intel Iris Plus Graphics 640            macOS  11912523.48    1.37    8   \n",
       "1        Intel HD Graphics 6000            macOS   7993374.48    1.34    8   \n",
       "2         Intel HD Graphics 620            No OS   5112900.00    1.86    8   \n",
       "3            AMD Radeon Pro 455            macOS  22563005.40    1.83   16   \n",
       "4  Intel Iris Plus Graphics 650            macOS  16037611.20    1.37    8   \n",
       "\n",
       "   TouchScreen  Ips         ppi      Cpu brand  HDD  SSD  Hybrid   FS  \n",
       "0            0    1  226.983005  Intel Core i5    0  128       0    0  \n",
       "1            0    0  127.677940  Intel Core i5    0    0       0  128  \n",
       "2            0    0  141.211998  Intel Core i5    0  256       0    0  \n",
       "3            0    1  220.534624  Intel Core i7    0  512       0    0  \n",
       "4            0    1  226.983005  Intel Core i5    0  256       0    0  "
      ]
     },
     "execution_count": 46,
     "metadata": {},
     "output_type": "execute_result"
    }
   ],
   "source": [
    "data.head()"
   ]
  },
  {
   "cell_type": "code",
   "execution_count": 47,
   "id": "67c0218b",
   "metadata": {
    "execution": {
     "iopub.execute_input": "2023-04-07T18:06:41.300019Z",
     "iopub.status.busy": "2023-04-07T18:06:41.299573Z",
     "iopub.status.idle": "2023-04-07T18:06:41.322595Z",
     "shell.execute_reply": "2023-04-07T18:06:41.321274Z"
    },
    "papermill": {
     "duration": 0.062088,
     "end_time": "2023-04-07T18:06:41.325529",
     "exception": false,
     "start_time": "2023-04-07T18:06:41.263441",
     "status": "completed"
    },
    "tags": []
   },
   "outputs": [
    {
     "data": {
      "text/html": [
       "<div>\n",
       "<style scoped>\n",
       "    .dataframe tbody tr th:only-of-type {\n",
       "        vertical-align: middle;\n",
       "    }\n",
       "\n",
       "    .dataframe tbody tr th {\n",
       "        vertical-align: top;\n",
       "    }\n",
       "\n",
       "    .dataframe thead th {\n",
       "        text-align: right;\n",
       "    }\n",
       "</style>\n",
       "<table border=\"1\" class=\"dataframe\">\n",
       "  <thead>\n",
       "    <tr style=\"text-align: right;\">\n",
       "      <th></th>\n",
       "      <th>Manufacturer</th>\n",
       "      <th>Model Name</th>\n",
       "      <th>Category</th>\n",
       "      <th>GPU</th>\n",
       "      <th>Operating System</th>\n",
       "      <th>Price</th>\n",
       "      <th>Weight</th>\n",
       "      <th>RAM</th>\n",
       "      <th>TouchScreen</th>\n",
       "      <th>Ips</th>\n",
       "      <th>ppi</th>\n",
       "      <th>Cpu brand</th>\n",
       "      <th>HDD</th>\n",
       "      <th>SSD</th>\n",
       "      <th>Hybrid</th>\n",
       "      <th>FS</th>\n",
       "    </tr>\n",
       "  </thead>\n",
       "  <tbody>\n",
       "    <tr>\n",
       "      <th>92</th>\n",
       "      <td>Dell</td>\n",
       "      <td>Latitude 3570</td>\n",
       "      <td>Notebook</td>\n",
       "      <td>Intel HD Graphics 520</td>\n",
       "      <td>Windows</td>\n",
       "      <td>4285766.16</td>\n",
       "      <td>2.06</td>\n",
       "      <td>4</td>\n",
       "      <td>0</td>\n",
       "      <td>0</td>\n",
       "      <td>100.454670</td>\n",
       "      <td>Intel Core i3</td>\n",
       "      <td>500</td>\n",
       "      <td>0</td>\n",
       "      <td>0</td>\n",
       "      <td>0</td>\n",
       "    </tr>\n",
       "    <tr>\n",
       "      <th>214</th>\n",
       "      <td>Huawei</td>\n",
       "      <td>MateBook X</td>\n",
       "      <td>Ultrabook</td>\n",
       "      <td>Intel HD Graphics 620</td>\n",
       "      <td>Windows</td>\n",
       "      <td>13329108.00</td>\n",
       "      <td>1.05</td>\n",
       "      <td>8</td>\n",
       "      <td>0</td>\n",
       "      <td>1</td>\n",
       "      <td>199.692071</td>\n",
       "      <td>Intel Core i7</td>\n",
       "      <td>0</td>\n",
       "      <td>512</td>\n",
       "      <td>0</td>\n",
       "      <td>0</td>\n",
       "    </tr>\n",
       "    <tr>\n",
       "      <th>52</th>\n",
       "      <td>HP</td>\n",
       "      <td>255 G6</td>\n",
       "      <td>Notebook</td>\n",
       "      <td>AMD Radeon R4 Graphics</td>\n",
       "      <td>Windows</td>\n",
       "      <td>3543373.08</td>\n",
       "      <td>1.86</td>\n",
       "      <td>4</td>\n",
       "      <td>0</td>\n",
       "      <td>0</td>\n",
       "      <td>141.211998</td>\n",
       "      <td>AMD Processor</td>\n",
       "      <td>0</td>\n",
       "      <td>256</td>\n",
       "      <td>0</td>\n",
       "      <td>0</td>\n",
       "    </tr>\n",
       "    <tr>\n",
       "      <th>853</th>\n",
       "      <td>Lenovo</td>\n",
       "      <td>ThinkPad T470p</td>\n",
       "      <td>Ultrabook</td>\n",
       "      <td>Nvidia GeForce GT 940MX</td>\n",
       "      <td>Windows</td>\n",
       "      <td>16921476.00</td>\n",
       "      <td>1.96</td>\n",
       "      <td>8</td>\n",
       "      <td>0</td>\n",
       "      <td>1</td>\n",
       "      <td>157.350512</td>\n",
       "      <td>Intel Core i7</td>\n",
       "      <td>0</td>\n",
       "      <td>256</td>\n",
       "      <td>0</td>\n",
       "      <td>0</td>\n",
       "    </tr>\n",
       "    <tr>\n",
       "      <th>287</th>\n",
       "      <td>Lenovo</td>\n",
       "      <td>IdeaPad Y700-15ISK</td>\n",
       "      <td>Notebook</td>\n",
       "      <td>Nvidia GeForce GTX 960M</td>\n",
       "      <td>Windows</td>\n",
       "      <td>7993908.00</td>\n",
       "      <td>2.60</td>\n",
       "      <td>8</td>\n",
       "      <td>0</td>\n",
       "      <td>1</td>\n",
       "      <td>141.211998</td>\n",
       "      <td>Intel Core i7</td>\n",
       "      <td>1</td>\n",
       "      <td>0</td>\n",
       "      <td>0</td>\n",
       "      <td>0</td>\n",
       "    </tr>\n",
       "  </tbody>\n",
       "</table>\n",
       "</div>"
      ],
      "text/plain": [
       "    Manufacturer          Model Name   Category                      GPU  \\\n",
       "92          Dell       Latitude 3570   Notebook    Intel HD Graphics 520   \n",
       "214       Huawei          MateBook X  Ultrabook    Intel HD Graphics 620   \n",
       "52            HP              255 G6   Notebook   AMD Radeon R4 Graphics   \n",
       "853       Lenovo      ThinkPad T470p  Ultrabook  Nvidia GeForce GT 940MX   \n",
       "287       Lenovo  IdeaPad Y700-15ISK   Notebook  Nvidia GeForce GTX 960M   \n",
       "\n",
       "    Operating System        Price  Weight  RAM  TouchScreen  Ips         ppi  \\\n",
       "92           Windows   4285766.16    2.06    4            0    0  100.454670   \n",
       "214          Windows  13329108.00    1.05    8            0    1  199.692071   \n",
       "52           Windows   3543373.08    1.86    4            0    0  141.211998   \n",
       "853          Windows  16921476.00    1.96    8            0    1  157.350512   \n",
       "287          Windows   7993908.00    2.60    8            0    1  141.211998   \n",
       "\n",
       "         Cpu brand  HDD  SSD  Hybrid  FS  \n",
       "92   Intel Core i3  500    0       0   0  \n",
       "214  Intel Core i7    0  512       0   0  \n",
       "52   AMD Processor    0  256       0   0  \n",
       "853  Intel Core i7    0  256       0   0  \n",
       "287  Intel Core i7    1    0       0   0  "
      ]
     },
     "execution_count": 47,
     "metadata": {},
     "output_type": "execute_result"
    }
   ],
   "source": [
    "data.drop(columns=[' Storage'],inplace=True)\n",
    "data.sample(5)"
   ]
  },
  {
   "cell_type": "code",
   "execution_count": 48,
   "id": "b5223ce3",
   "metadata": {
    "execution": {
     "iopub.execute_input": "2023-04-07T18:06:41.398047Z",
     "iopub.status.busy": "2023-04-07T18:06:41.396956Z",
     "iopub.status.idle": "2023-04-07T18:06:41.418328Z",
     "shell.execute_reply": "2023-04-07T18:06:41.416988Z"
    },
    "papermill": {
     "duration": 0.060836,
     "end_time": "2023-04-07T18:06:41.421412",
     "exception": false,
     "start_time": "2023-04-07T18:06:41.360576",
     "status": "completed"
    },
    "tags": []
   },
   "outputs": [
    {
     "data": {
      "text/html": [
       "<div>\n",
       "<style scoped>\n",
       "    .dataframe tbody tr th:only-of-type {\n",
       "        vertical-align: middle;\n",
       "    }\n",
       "\n",
       "    .dataframe tbody tr th {\n",
       "        vertical-align: top;\n",
       "    }\n",
       "\n",
       "    .dataframe thead th {\n",
       "        text-align: right;\n",
       "    }\n",
       "</style>\n",
       "<table border=\"1\" class=\"dataframe\">\n",
       "  <thead>\n",
       "    <tr style=\"text-align: right;\">\n",
       "      <th></th>\n",
       "      <th>Manufacturer</th>\n",
       "      <th>Category</th>\n",
       "      <th>GPU</th>\n",
       "      <th>Operating System</th>\n",
       "      <th>Price</th>\n",
       "      <th>Weight</th>\n",
       "      <th>RAM</th>\n",
       "      <th>TouchScreen</th>\n",
       "      <th>Ips</th>\n",
       "      <th>ppi</th>\n",
       "      <th>Cpu brand</th>\n",
       "      <th>HDD</th>\n",
       "      <th>SSD</th>\n",
       "      <th>Hybrid</th>\n",
       "      <th>FS</th>\n",
       "    </tr>\n",
       "  </thead>\n",
       "  <tbody>\n",
       "    <tr>\n",
       "      <th>91</th>\n",
       "      <td>Acer</td>\n",
       "      <td>Notebook</td>\n",
       "      <td>Nvidia GeForce MX150</td>\n",
       "      <td>Windows</td>\n",
       "      <td>6126588.0</td>\n",
       "      <td>2.20</td>\n",
       "      <td>8</td>\n",
       "      <td>0</td>\n",
       "      <td>0</td>\n",
       "      <td>141.211998</td>\n",
       "      <td>Intel Core i7</td>\n",
       "      <td>1</td>\n",
       "      <td>0</td>\n",
       "      <td>0</td>\n",
       "      <td>0</td>\n",
       "    </tr>\n",
       "    <tr>\n",
       "      <th>610</th>\n",
       "      <td>Lenovo</td>\n",
       "      <td>Notebook</td>\n",
       "      <td>Nvidia Quadro M2200M</td>\n",
       "      <td>Windows</td>\n",
       "      <td>43561908.0</td>\n",
       "      <td>2.50</td>\n",
       "      <td>32</td>\n",
       "      <td>0</td>\n",
       "      <td>1</td>\n",
       "      <td>282.423996</td>\n",
       "      <td>Other Intel Processor</td>\n",
       "      <td>0</td>\n",
       "      <td>1</td>\n",
       "      <td>0</td>\n",
       "      <td>0</td>\n",
       "    </tr>\n",
       "    <tr>\n",
       "      <th>797</th>\n",
       "      <td>Dell</td>\n",
       "      <td>Notebook</td>\n",
       "      <td>Intel HD Graphics 620</td>\n",
       "      <td>Windows</td>\n",
       "      <td>7202520.0</td>\n",
       "      <td>1.95</td>\n",
       "      <td>8</td>\n",
       "      <td>0</td>\n",
       "      <td>0</td>\n",
       "      <td>100.454670</td>\n",
       "      <td>Intel Core i5</td>\n",
       "      <td>0</td>\n",
       "      <td>128</td>\n",
       "      <td>0</td>\n",
       "      <td>0</td>\n",
       "    </tr>\n",
       "    <tr>\n",
       "      <th>700</th>\n",
       "      <td>Dell</td>\n",
       "      <td>Gaming</td>\n",
       "      <td>Nvidia GeForce GTX 1050</td>\n",
       "      <td>Windows</td>\n",
       "      <td>7282548.0</td>\n",
       "      <td>2.56</td>\n",
       "      <td>8</td>\n",
       "      <td>0</td>\n",
       "      <td>0</td>\n",
       "      <td>141.211998</td>\n",
       "      <td>Intel Core i5</td>\n",
       "      <td>1</td>\n",
       "      <td>0</td>\n",
       "      <td>0</td>\n",
       "      <td>0</td>\n",
       "    </tr>\n",
       "    <tr>\n",
       "      <th>185</th>\n",
       "      <td>Dell</td>\n",
       "      <td>Notebook</td>\n",
       "      <td>Nvidia GeForce 150MX</td>\n",
       "      <td>Windows</td>\n",
       "      <td>13773708.0</td>\n",
       "      <td>2.77</td>\n",
       "      <td>16</td>\n",
       "      <td>1</td>\n",
       "      <td>0</td>\n",
       "      <td>127.335675</td>\n",
       "      <td>Intel Core i7</td>\n",
       "      <td>0</td>\n",
       "      <td>512</td>\n",
       "      <td>0</td>\n",
       "      <td>0</td>\n",
       "    </tr>\n",
       "  </tbody>\n",
       "</table>\n",
       "</div>"
      ],
      "text/plain": [
       "    Manufacturer  Category                      GPU Operating System  \\\n",
       "91          Acer  Notebook     Nvidia GeForce MX150          Windows   \n",
       "610       Lenovo  Notebook     Nvidia Quadro M2200M          Windows   \n",
       "797         Dell  Notebook    Intel HD Graphics 620          Windows   \n",
       "700         Dell    Gaming  Nvidia GeForce GTX 1050          Windows   \n",
       "185         Dell  Notebook     Nvidia GeForce 150MX          Windows   \n",
       "\n",
       "          Price  Weight  RAM  TouchScreen  Ips         ppi  \\\n",
       "91    6126588.0    2.20    8            0    0  141.211998   \n",
       "610  43561908.0    2.50   32            0    1  282.423996   \n",
       "797   7202520.0    1.95    8            0    0  100.454670   \n",
       "700   7282548.0    2.56    8            0    0  141.211998   \n",
       "185  13773708.0    2.77   16            1    0  127.335675   \n",
       "\n",
       "                 Cpu brand  HDD  SSD  Hybrid  FS  \n",
       "91           Intel Core i7    1    0       0   0  \n",
       "610  Other Intel Processor    0    1       0   0  \n",
       "797          Intel Core i5    0  128       0   0  \n",
       "700          Intel Core i5    1    0       0   0  \n",
       "185          Intel Core i7    0  512       0   0  "
      ]
     },
     "execution_count": 48,
     "metadata": {},
     "output_type": "execute_result"
    }
   ],
   "source": [
    "data = data.drop('Model Name',axis=1)\n",
    "data.sample(5)"
   ]
  },
  {
   "cell_type": "code",
   "execution_count": 49,
   "id": "fb567e59",
   "metadata": {
    "execution": {
     "iopub.execute_input": "2023-04-07T18:06:41.491053Z",
     "iopub.status.busy": "2023-04-07T18:06:41.490598Z",
     "iopub.status.idle": "2023-04-07T18:06:41.516908Z",
     "shell.execute_reply": "2023-04-07T18:06:41.515942Z"
    },
    "papermill": {
     "duration": 0.064,
     "end_time": "2023-04-07T18:06:41.519428",
     "exception": false,
     "start_time": "2023-04-07T18:06:41.455428",
     "status": "completed"
    },
    "tags": []
   },
   "outputs": [
    {
     "data": {
      "text/html": [
       "<div>\n",
       "<style scoped>\n",
       "    .dataframe tbody tr th:only-of-type {\n",
       "        vertical-align: middle;\n",
       "    }\n",
       "\n",
       "    .dataframe tbody tr th {\n",
       "        vertical-align: top;\n",
       "    }\n",
       "\n",
       "    .dataframe thead th {\n",
       "        text-align: right;\n",
       "    }\n",
       "</style>\n",
       "<table border=\"1\" class=\"dataframe\">\n",
       "  <thead>\n",
       "    <tr style=\"text-align: right;\">\n",
       "      <th></th>\n",
       "      <th>Manufacturer</th>\n",
       "      <th>Category</th>\n",
       "      <th>GPU</th>\n",
       "      <th>Operating System</th>\n",
       "      <th>Price</th>\n",
       "      <th>Weight</th>\n",
       "      <th>RAM</th>\n",
       "      <th>TouchScreen</th>\n",
       "      <th>IPS</th>\n",
       "      <th>ppi</th>\n",
       "      <th>Cpu brand</th>\n",
       "      <th>HDD</th>\n",
       "      <th>SSD</th>\n",
       "      <th>Hybrid</th>\n",
       "      <th>FS</th>\n",
       "    </tr>\n",
       "  </thead>\n",
       "  <tbody>\n",
       "    <tr>\n",
       "      <th>121</th>\n",
       "      <td>MSI</td>\n",
       "      <td>Gaming</td>\n",
       "      <td>Nvidia GeForce GTX 1070</td>\n",
       "      <td>Windows</td>\n",
       "      <td>19931418.00</td>\n",
       "      <td>1.80</td>\n",
       "      <td>16</td>\n",
       "      <td>0</td>\n",
       "      <td>0</td>\n",
       "      <td>141.211998</td>\n",
       "      <td>Intel Core i7</td>\n",
       "      <td>2</td>\n",
       "      <td>256</td>\n",
       "      <td>0</td>\n",
       "      <td>0</td>\n",
       "    </tr>\n",
       "    <tr>\n",
       "      <th>777</th>\n",
       "      <td>Acer</td>\n",
       "      <td>Notebook</td>\n",
       "      <td>Intel HD Graphics 620</td>\n",
       "      <td>Windows</td>\n",
       "      <td>5655312.00</td>\n",
       "      <td>1.80</td>\n",
       "      <td>4</td>\n",
       "      <td>0</td>\n",
       "      <td>1</td>\n",
       "      <td>157.350512</td>\n",
       "      <td>Intel Core i3</td>\n",
       "      <td>0</td>\n",
       "      <td>128</td>\n",
       "      <td>0</td>\n",
       "      <td>0</td>\n",
       "    </tr>\n",
       "    <tr>\n",
       "      <th>63</th>\n",
       "      <td>Asus</td>\n",
       "      <td>Notebook</td>\n",
       "      <td>Intel UHD Graphics 620</td>\n",
       "      <td>Windows</td>\n",
       "      <td>8367372.00</td>\n",
       "      <td>1.40</td>\n",
       "      <td>8</td>\n",
       "      <td>0</td>\n",
       "      <td>0</td>\n",
       "      <td>157.350512</td>\n",
       "      <td>Intel Core i5</td>\n",
       "      <td>0</td>\n",
       "      <td>256</td>\n",
       "      <td>0</td>\n",
       "      <td>0</td>\n",
       "    </tr>\n",
       "    <tr>\n",
       "      <th>111</th>\n",
       "      <td>Dell</td>\n",
       "      <td>Ultrabook</td>\n",
       "      <td>Intel Iris Plus Graphics 640</td>\n",
       "      <td>Windows</td>\n",
       "      <td>12262068.00</td>\n",
       "      <td>1.23</td>\n",
       "      <td>8</td>\n",
       "      <td>1</td>\n",
       "      <td>0</td>\n",
       "      <td>276.053530</td>\n",
       "      <td>Intel Core i7</td>\n",
       "      <td>0</td>\n",
       "      <td>256</td>\n",
       "      <td>0</td>\n",
       "      <td>0</td>\n",
       "    </tr>\n",
       "    <tr>\n",
       "      <th>94</th>\n",
       "      <td>HP</td>\n",
       "      <td>Ultrabook</td>\n",
       "      <td>Intel HD Graphics 520</td>\n",
       "      <td>Windows</td>\n",
       "      <td>10661508.00</td>\n",
       "      <td>1.26</td>\n",
       "      <td>8</td>\n",
       "      <td>0</td>\n",
       "      <td>0</td>\n",
       "      <td>176.232574</td>\n",
       "      <td>Intel Core i5</td>\n",
       "      <td>0</td>\n",
       "      <td>256</td>\n",
       "      <td>0</td>\n",
       "      <td>0</td>\n",
       "    </tr>\n",
       "    <tr>\n",
       "      <th>689</th>\n",
       "      <td>Lenovo</td>\n",
       "      <td>Notebook</td>\n",
       "      <td>Intel HD Graphics 510</td>\n",
       "      <td>Windows</td>\n",
       "      <td>2827656.00</td>\n",
       "      <td>2.10</td>\n",
       "      <td>4</td>\n",
       "      <td>0</td>\n",
       "      <td>0</td>\n",
       "      <td>100.454670</td>\n",
       "      <td>Other Intel Processor</td>\n",
       "      <td>500</td>\n",
       "      <td>0</td>\n",
       "      <td>0</td>\n",
       "      <td>0</td>\n",
       "    </tr>\n",
       "    <tr>\n",
       "      <th>918</th>\n",
       "      <td>Dell</td>\n",
       "      <td>Gaming</td>\n",
       "      <td>Nvidia GeForce GTX 1050 Ti</td>\n",
       "      <td>Windows</td>\n",
       "      <td>11995308.00</td>\n",
       "      <td>2.60</td>\n",
       "      <td>16</td>\n",
       "      <td>0</td>\n",
       "      <td>0</td>\n",
       "      <td>141.211998</td>\n",
       "      <td>Intel Core i7</td>\n",
       "      <td>1</td>\n",
       "      <td>128</td>\n",
       "      <td>0</td>\n",
       "      <td>0</td>\n",
       "    </tr>\n",
       "    <tr>\n",
       "      <th>164</th>\n",
       "      <td>HP</td>\n",
       "      <td>2 in 1 Convertible</td>\n",
       "      <td>Intel HD Graphics 520</td>\n",
       "      <td>Windows</td>\n",
       "      <td>14485068.00</td>\n",
       "      <td>1.48</td>\n",
       "      <td>8</td>\n",
       "      <td>1</td>\n",
       "      <td>0</td>\n",
       "      <td>165.632118</td>\n",
       "      <td>Intel Core i5</td>\n",
       "      <td>0</td>\n",
       "      <td>256</td>\n",
       "      <td>0</td>\n",
       "      <td>0</td>\n",
       "    </tr>\n",
       "    <tr>\n",
       "      <th>147</th>\n",
       "      <td>Lenovo</td>\n",
       "      <td>2 in 1 Convertible</td>\n",
       "      <td>Intel HD Graphics 520</td>\n",
       "      <td>Windows</td>\n",
       "      <td>14840748.00</td>\n",
       "      <td>1.80</td>\n",
       "      <td>8</td>\n",
       "      <td>1</td>\n",
       "      <td>1</td>\n",
       "      <td>157.350512</td>\n",
       "      <td>Intel Core i7</td>\n",
       "      <td>0</td>\n",
       "      <td>256</td>\n",
       "      <td>0</td>\n",
       "      <td>0</td>\n",
       "    </tr>\n",
       "    <tr>\n",
       "      <th>15</th>\n",
       "      <td>Lenovo</td>\n",
       "      <td>Notebook</td>\n",
       "      <td>Intel HD Graphics 520</td>\n",
       "      <td>Windows</td>\n",
       "      <td>11995308.00</td>\n",
       "      <td>2.30</td>\n",
       "      <td>8</td>\n",
       "      <td>0</td>\n",
       "      <td>0</td>\n",
       "      <td>141.211998</td>\n",
       "      <td>Intel Core i5</td>\n",
       "      <td>0</td>\n",
       "      <td>256</td>\n",
       "      <td>0</td>\n",
       "      <td>0</td>\n",
       "    </tr>\n",
       "    <tr>\n",
       "      <th>284</th>\n",
       "      <td>Dell</td>\n",
       "      <td>Notebook</td>\n",
       "      <td>Intel HD Graphics 620</td>\n",
       "      <td>Windows</td>\n",
       "      <td>4081428.00</td>\n",
       "      <td>2.30</td>\n",
       "      <td>6</td>\n",
       "      <td>0</td>\n",
       "      <td>0</td>\n",
       "      <td>100.454670</td>\n",
       "      <td>Intel Core i3</td>\n",
       "      <td>1</td>\n",
       "      <td>0</td>\n",
       "      <td>0</td>\n",
       "      <td>0</td>\n",
       "    </tr>\n",
       "    <tr>\n",
       "      <th>188</th>\n",
       "      <td>Lenovo</td>\n",
       "      <td>Notebook</td>\n",
       "      <td>Intel HD Graphics 620</td>\n",
       "      <td>Windows</td>\n",
       "      <td>12359880.00</td>\n",
       "      <td>1.95</td>\n",
       "      <td>8</td>\n",
       "      <td>0</td>\n",
       "      <td>1</td>\n",
       "      <td>141.211998</td>\n",
       "      <td>Intel Core i5</td>\n",
       "      <td>0</td>\n",
       "      <td>256</td>\n",
       "      <td>0</td>\n",
       "      <td>0</td>\n",
       "    </tr>\n",
       "    <tr>\n",
       "      <th>434</th>\n",
       "      <td>Lenovo</td>\n",
       "      <td>Notebook</td>\n",
       "      <td>Nvidia Quadro M2200M</td>\n",
       "      <td>Windows</td>\n",
       "      <td>21776508.00</td>\n",
       "      <td>2.50</td>\n",
       "      <td>16</td>\n",
       "      <td>0</td>\n",
       "      <td>0</td>\n",
       "      <td>141.211998</td>\n",
       "      <td>Intel Core i7</td>\n",
       "      <td>0</td>\n",
       "      <td>512</td>\n",
       "      <td>0</td>\n",
       "      <td>0</td>\n",
       "    </tr>\n",
       "    <tr>\n",
       "      <th>717</th>\n",
       "      <td>Lenovo</td>\n",
       "      <td>Notebook</td>\n",
       "      <td>AMD Radeon R4</td>\n",
       "      <td>Windows</td>\n",
       "      <td>2649816.00</td>\n",
       "      <td>2.19</td>\n",
       "      <td>4</td>\n",
       "      <td>0</td>\n",
       "      <td>0</td>\n",
       "      <td>100.454670</td>\n",
       "      <td>AMD Processor</td>\n",
       "      <td>500</td>\n",
       "      <td>0</td>\n",
       "      <td>0</td>\n",
       "      <td>0</td>\n",
       "    </tr>\n",
       "    <tr>\n",
       "      <th>264</th>\n",
       "      <td>Dell</td>\n",
       "      <td>Notebook</td>\n",
       "      <td>AMD Radeon R5 M430</td>\n",
       "      <td>Windows</td>\n",
       "      <td>5023980.00</td>\n",
       "      <td>2.24</td>\n",
       "      <td>8</td>\n",
       "      <td>0</td>\n",
       "      <td>0</td>\n",
       "      <td>141.211998</td>\n",
       "      <td>Intel Core i5</td>\n",
       "      <td>1</td>\n",
       "      <td>0</td>\n",
       "      <td>0</td>\n",
       "      <td>0</td>\n",
       "    </tr>\n",
       "    <tr>\n",
       "      <th>414</th>\n",
       "      <td>Asus</td>\n",
       "      <td>2 in 1 Convertible</td>\n",
       "      <td>Intel HD Graphics 620</td>\n",
       "      <td>Windows</td>\n",
       "      <td>8251776.00</td>\n",
       "      <td>1.27</td>\n",
       "      <td>8</td>\n",
       "      <td>1</td>\n",
       "      <td>1</td>\n",
       "      <td>165.632118</td>\n",
       "      <td>Intel Core i5</td>\n",
       "      <td>0</td>\n",
       "      <td>256</td>\n",
       "      <td>0</td>\n",
       "      <td>0</td>\n",
       "    </tr>\n",
       "    <tr>\n",
       "      <th>714</th>\n",
       "      <td>Dell</td>\n",
       "      <td>Notebook</td>\n",
       "      <td>Intel HD Graphics 620</td>\n",
       "      <td>Windows</td>\n",
       "      <td>12685860.72</td>\n",
       "      <td>1.93</td>\n",
       "      <td>16</td>\n",
       "      <td>0</td>\n",
       "      <td>0</td>\n",
       "      <td>141.211998</td>\n",
       "      <td>Intel Core i5</td>\n",
       "      <td>0</td>\n",
       "      <td>512</td>\n",
       "      <td>0</td>\n",
       "      <td>0</td>\n",
       "    </tr>\n",
       "    <tr>\n",
       "      <th>770</th>\n",
       "      <td>Dell</td>\n",
       "      <td>Notebook</td>\n",
       "      <td>AMD Radeon R7 M445</td>\n",
       "      <td>Windows</td>\n",
       "      <td>10503852.84</td>\n",
       "      <td>2.30</td>\n",
       "      <td>16</td>\n",
       "      <td>0</td>\n",
       "      <td>0</td>\n",
       "      <td>141.211998</td>\n",
       "      <td>Intel Core i7</td>\n",
       "      <td>0</td>\n",
       "      <td>256</td>\n",
       "      <td>0</td>\n",
       "      <td>0</td>\n",
       "    </tr>\n",
       "    <tr>\n",
       "      <th>803</th>\n",
       "      <td>Dell</td>\n",
       "      <td>Notebook</td>\n",
       "      <td>Nvidia GeForce GTX 1050</td>\n",
       "      <td>Windows</td>\n",
       "      <td>15552108.00</td>\n",
       "      <td>2.06</td>\n",
       "      <td>8</td>\n",
       "      <td>1</td>\n",
       "      <td>0</td>\n",
       "      <td>282.423996</td>\n",
       "      <td>Intel Core i5</td>\n",
       "      <td>0</td>\n",
       "      <td>256</td>\n",
       "      <td>0</td>\n",
       "      <td>0</td>\n",
       "    </tr>\n",
       "    <tr>\n",
       "      <th>291</th>\n",
       "      <td>Asus</td>\n",
       "      <td>Gaming</td>\n",
       "      <td>Nvidia GeForce GTX 1050</td>\n",
       "      <td>Windows</td>\n",
       "      <td>10554804.00</td>\n",
       "      <td>3.00</td>\n",
       "      <td>8</td>\n",
       "      <td>0</td>\n",
       "      <td>0</td>\n",
       "      <td>127.335675</td>\n",
       "      <td>Intel Core i7</td>\n",
       "      <td>1</td>\n",
       "      <td>0</td>\n",
       "      <td>0</td>\n",
       "      <td>0</td>\n",
       "    </tr>\n",
       "  </tbody>\n",
       "</table>\n",
       "</div>"
      ],
      "text/plain": [
       "    Manufacturer            Category                           GPU  \\\n",
       "121          MSI              Gaming       Nvidia GeForce GTX 1070   \n",
       "777         Acer            Notebook         Intel HD Graphics 620   \n",
       "63          Asus            Notebook        Intel UHD Graphics 620   \n",
       "111         Dell           Ultrabook  Intel Iris Plus Graphics 640   \n",
       "94            HP           Ultrabook         Intel HD Graphics 520   \n",
       "689       Lenovo            Notebook         Intel HD Graphics 510   \n",
       "918         Dell              Gaming    Nvidia GeForce GTX 1050 Ti   \n",
       "164           HP  2 in 1 Convertible         Intel HD Graphics 520   \n",
       "147       Lenovo  2 in 1 Convertible         Intel HD Graphics 520   \n",
       "15        Lenovo            Notebook         Intel HD Graphics 520   \n",
       "284         Dell            Notebook         Intel HD Graphics 620   \n",
       "188       Lenovo            Notebook         Intel HD Graphics 620   \n",
       "434       Lenovo            Notebook          Nvidia Quadro M2200M   \n",
       "717       Lenovo            Notebook                 AMD Radeon R4   \n",
       "264         Dell            Notebook            AMD Radeon R5 M430   \n",
       "414         Asus  2 in 1 Convertible         Intel HD Graphics 620   \n",
       "714         Dell            Notebook         Intel HD Graphics 620   \n",
       "770         Dell            Notebook            AMD Radeon R7 M445   \n",
       "803         Dell            Notebook       Nvidia GeForce GTX 1050   \n",
       "291         Asus              Gaming       Nvidia GeForce GTX 1050   \n",
       "\n",
       "    Operating System        Price  Weight  RAM  TouchScreen  IPS         ppi  \\\n",
       "121          Windows  19931418.00    1.80   16            0    0  141.211998   \n",
       "777          Windows   5655312.00    1.80    4            0    1  157.350512   \n",
       "63           Windows   8367372.00    1.40    8            0    0  157.350512   \n",
       "111          Windows  12262068.00    1.23    8            1    0  276.053530   \n",
       "94           Windows  10661508.00    1.26    8            0    0  176.232574   \n",
       "689          Windows   2827656.00    2.10    4            0    0  100.454670   \n",
       "918          Windows  11995308.00    2.60   16            0    0  141.211998   \n",
       "164          Windows  14485068.00    1.48    8            1    0  165.632118   \n",
       "147          Windows  14840748.00    1.80    8            1    1  157.350512   \n",
       "15           Windows  11995308.00    2.30    8            0    0  141.211998   \n",
       "284          Windows   4081428.00    2.30    6            0    0  100.454670   \n",
       "188          Windows  12359880.00    1.95    8            0    1  141.211998   \n",
       "434          Windows  21776508.00    2.50   16            0    0  141.211998   \n",
       "717          Windows   2649816.00    2.19    4            0    0  100.454670   \n",
       "264          Windows   5023980.00    2.24    8            0    0  141.211998   \n",
       "414          Windows   8251776.00    1.27    8            1    1  165.632118   \n",
       "714          Windows  12685860.72    1.93   16            0    0  141.211998   \n",
       "770          Windows  10503852.84    2.30   16            0    0  141.211998   \n",
       "803          Windows  15552108.00    2.06    8            1    0  282.423996   \n",
       "291          Windows  10554804.00    3.00    8            0    0  127.335675   \n",
       "\n",
       "                 Cpu brand  HDD  SSD  Hybrid  FS  \n",
       "121          Intel Core i7    2  256       0   0  \n",
       "777          Intel Core i3    0  128       0   0  \n",
       "63           Intel Core i5    0  256       0   0  \n",
       "111          Intel Core i7    0  256       0   0  \n",
       "94           Intel Core i5    0  256       0   0  \n",
       "689  Other Intel Processor  500    0       0   0  \n",
       "918          Intel Core i7    1  128       0   0  \n",
       "164          Intel Core i5    0  256       0   0  \n",
       "147          Intel Core i7    0  256       0   0  \n",
       "15           Intel Core i5    0  256       0   0  \n",
       "284          Intel Core i3    1    0       0   0  \n",
       "188          Intel Core i5    0  256       0   0  \n",
       "434          Intel Core i7    0  512       0   0  \n",
       "717          AMD Processor  500    0       0   0  \n",
       "264          Intel Core i5    1    0       0   0  \n",
       "414          Intel Core i5    0  256       0   0  \n",
       "714          Intel Core i5    0  512       0   0  \n",
       "770          Intel Core i7    0  256       0   0  \n",
       "803          Intel Core i5    0  256       0   0  \n",
       "291          Intel Core i7    1    0       0   0  "
      ]
     },
     "execution_count": 49,
     "metadata": {},
     "output_type": "execute_result"
    }
   ],
   "source": [
    "data = data.rename(columns={'Ips':'IPS'})\n",
    "data.sample(20)"
   ]
  },
  {
   "cell_type": "code",
   "execution_count": 50,
   "id": "f8e680d5",
   "metadata": {
    "execution": {
     "iopub.execute_input": "2023-04-07T18:06:41.591690Z",
     "iopub.status.busy": "2023-04-07T18:06:41.590878Z",
     "iopub.status.idle": "2023-04-07T18:06:41.619200Z",
     "shell.execute_reply": "2023-04-07T18:06:41.617703Z"
    },
    "papermill": {
     "duration": 0.067711,
     "end_time": "2023-04-07T18:06:41.622132",
     "exception": false,
     "start_time": "2023-04-07T18:06:41.554421",
     "status": "completed"
    },
    "tags": []
   },
   "outputs": [
    {
     "data": {
      "text/html": [
       "<div>\n",
       "<style scoped>\n",
       "    .dataframe tbody tr th:only-of-type {\n",
       "        vertical-align: middle;\n",
       "    }\n",
       "\n",
       "    .dataframe tbody tr th {\n",
       "        vertical-align: top;\n",
       "    }\n",
       "\n",
       "    .dataframe thead th {\n",
       "        text-align: right;\n",
       "    }\n",
       "</style>\n",
       "<table border=\"1\" class=\"dataframe\">\n",
       "  <thead>\n",
       "    <tr style=\"text-align: right;\">\n",
       "      <th></th>\n",
       "      <th>Manufacturer</th>\n",
       "      <th>Category</th>\n",
       "      <th>GPU</th>\n",
       "      <th>Operating System</th>\n",
       "      <th>Price</th>\n",
       "      <th>Weight</th>\n",
       "      <th>RAM</th>\n",
       "      <th>TouchScreen</th>\n",
       "      <th>IPS</th>\n",
       "      <th>ppi</th>\n",
       "      <th>Cpu brand</th>\n",
       "      <th>HDD</th>\n",
       "      <th>SSD</th>\n",
       "      <th>Hybrid</th>\n",
       "      <th>FS</th>\n",
       "    </tr>\n",
       "  </thead>\n",
       "  <tbody>\n",
       "    <tr>\n",
       "      <th>644</th>\n",
       "      <td>Acer</td>\n",
       "      <td>Notebook</td>\n",
       "      <td>Intel HD Graphics 520</td>\n",
       "      <td>Windows</td>\n",
       "      <td>4001400.00</td>\n",
       "      <td>2.40</td>\n",
       "      <td>4</td>\n",
       "      <td>0</td>\n",
       "      <td>0</td>\n",
       "      <td>100.454670</td>\n",
       "      <td>Intel Core i3</td>\n",
       "      <td>500</td>\n",
       "      <td>0</td>\n",
       "      <td>0</td>\n",
       "      <td>0</td>\n",
       "    </tr>\n",
       "    <tr>\n",
       "      <th>163</th>\n",
       "      <td>Lenovo</td>\n",
       "      <td>Gaming</td>\n",
       "      <td>Nvidia GeForce GTX 1050 Ti</td>\n",
       "      <td>Windows</td>\n",
       "      <td>9594468.00</td>\n",
       "      <td>2.50</td>\n",
       "      <td>16</td>\n",
       "      <td>0</td>\n",
       "      <td>1</td>\n",
       "      <td>141.211998</td>\n",
       "      <td>Intel Core i7</td>\n",
       "      <td>0</td>\n",
       "      <td>256</td>\n",
       "      <td>0</td>\n",
       "      <td>0</td>\n",
       "    </tr>\n",
       "    <tr>\n",
       "      <th>271</th>\n",
       "      <td>Asus</td>\n",
       "      <td>Gaming</td>\n",
       "      <td>AMD Radeon RX 580</td>\n",
       "      <td>Windows</td>\n",
       "      <td>13773708.00</td>\n",
       "      <td>3.20</td>\n",
       "      <td>16</td>\n",
       "      <td>0</td>\n",
       "      <td>0</td>\n",
       "      <td>127.335675</td>\n",
       "      <td>AMD Processor</td>\n",
       "      <td>1000</td>\n",
       "      <td>256</td>\n",
       "      <td>0</td>\n",
       "      <td>0</td>\n",
       "    </tr>\n",
       "    <tr>\n",
       "      <th>432</th>\n",
       "      <td>Lenovo</td>\n",
       "      <td>Notebook</td>\n",
       "      <td>Intel HD Graphics 620</td>\n",
       "      <td>Windows</td>\n",
       "      <td>5326308.00</td>\n",
       "      <td>1.70</td>\n",
       "      <td>4</td>\n",
       "      <td>0</td>\n",
       "      <td>1</td>\n",
       "      <td>157.350512</td>\n",
       "      <td>Intel Core i3</td>\n",
       "      <td>0</td>\n",
       "      <td>128</td>\n",
       "      <td>0</td>\n",
       "      <td>0</td>\n",
       "    </tr>\n",
       "    <tr>\n",
       "      <th>397</th>\n",
       "      <td>Lenovo</td>\n",
       "      <td>Notebook</td>\n",
       "      <td>Intel HD Graphics 620</td>\n",
       "      <td>Windows</td>\n",
       "      <td>8340696.00</td>\n",
       "      <td>1.90</td>\n",
       "      <td>8</td>\n",
       "      <td>0</td>\n",
       "      <td>1</td>\n",
       "      <td>157.350512</td>\n",
       "      <td>Intel Core i5</td>\n",
       "      <td>0</td>\n",
       "      <td>256</td>\n",
       "      <td>0</td>\n",
       "      <td>0</td>\n",
       "    </tr>\n",
       "    <tr>\n",
       "      <th>466</th>\n",
       "      <td>Acer</td>\n",
       "      <td>Notebook</td>\n",
       "      <td>Nvidia GeForce GTX 940MX</td>\n",
       "      <td>Windows</td>\n",
       "      <td>4170348.00</td>\n",
       "      <td>2.20</td>\n",
       "      <td>4</td>\n",
       "      <td>0</td>\n",
       "      <td>0</td>\n",
       "      <td>100.454670</td>\n",
       "      <td>Intel Core i3</td>\n",
       "      <td>500</td>\n",
       "      <td>0</td>\n",
       "      <td>0</td>\n",
       "      <td>0</td>\n",
       "    </tr>\n",
       "    <tr>\n",
       "      <th>712</th>\n",
       "      <td>Dell</td>\n",
       "      <td>Notebook</td>\n",
       "      <td>Intel HD Graphics 620</td>\n",
       "      <td>Linux</td>\n",
       "      <td>6455592.00</td>\n",
       "      <td>1.98</td>\n",
       "      <td>8</td>\n",
       "      <td>0</td>\n",
       "      <td>0</td>\n",
       "      <td>141.211998</td>\n",
       "      <td>Intel Core i5</td>\n",
       "      <td>1000</td>\n",
       "      <td>0</td>\n",
       "      <td>0</td>\n",
       "      <td>0</td>\n",
       "    </tr>\n",
       "    <tr>\n",
       "      <th>634</th>\n",
       "      <td>Asus</td>\n",
       "      <td>Notebook</td>\n",
       "      <td>Intel HD Graphics 500</td>\n",
       "      <td>Windows</td>\n",
       "      <td>3547908.00</td>\n",
       "      <td>2.00</td>\n",
       "      <td>8</td>\n",
       "      <td>0</td>\n",
       "      <td>0</td>\n",
       "      <td>100.454670</td>\n",
       "      <td>Other Intel Processor</td>\n",
       "      <td>1000</td>\n",
       "      <td>0</td>\n",
       "      <td>0</td>\n",
       "      <td>0</td>\n",
       "    </tr>\n",
       "    <tr>\n",
       "      <th>262</th>\n",
       "      <td>Lenovo</td>\n",
       "      <td>Notebook</td>\n",
       "      <td>AMD Radeon 530</td>\n",
       "      <td>Windows</td>\n",
       "      <td>5313592.44</td>\n",
       "      <td>2.20</td>\n",
       "      <td>6</td>\n",
       "      <td>0</td>\n",
       "      <td>0</td>\n",
       "      <td>141.211998</td>\n",
       "      <td>AMD Processor</td>\n",
       "      <td>0</td>\n",
       "      <td>256</td>\n",
       "      <td>0</td>\n",
       "      <td>0</td>\n",
       "    </tr>\n",
       "    <tr>\n",
       "      <th>291</th>\n",
       "      <td>Asus</td>\n",
       "      <td>Notebook</td>\n",
       "      <td>Nvidia GeForce 920M</td>\n",
       "      <td>Windows</td>\n",
       "      <td>6405085.44</td>\n",
       "      <td>2.20</td>\n",
       "      <td>4</td>\n",
       "      <td>0</td>\n",
       "      <td>0</td>\n",
       "      <td>100.454670</td>\n",
       "      <td>Intel Core i7</td>\n",
       "      <td>500</td>\n",
       "      <td>0</td>\n",
       "      <td>0</td>\n",
       "      <td>0</td>\n",
       "    </tr>\n",
       "    <tr>\n",
       "      <th>52</th>\n",
       "      <td>HP</td>\n",
       "      <td>Notebook</td>\n",
       "      <td>Intel HD Graphics 620</td>\n",
       "      <td>Windows</td>\n",
       "      <td>8651916.00</td>\n",
       "      <td>1.64</td>\n",
       "      <td>4</td>\n",
       "      <td>0</td>\n",
       "      <td>0</td>\n",
       "      <td>111.935204</td>\n",
       "      <td>Intel Core i5</td>\n",
       "      <td>0</td>\n",
       "      <td>256</td>\n",
       "      <td>0</td>\n",
       "      <td>0</td>\n",
       "    </tr>\n",
       "    <tr>\n",
       "      <th>428</th>\n",
       "      <td>HP</td>\n",
       "      <td>Gaming</td>\n",
       "      <td>Nvidia GeForce GTX 1070</td>\n",
       "      <td>Windows</td>\n",
       "      <td>17775108.00</td>\n",
       "      <td>3.35</td>\n",
       "      <td>12</td>\n",
       "      <td>0</td>\n",
       "      <td>0</td>\n",
       "      <td>127.335675</td>\n",
       "      <td>Intel Core i7</td>\n",
       "      <td>1000</td>\n",
       "      <td>256</td>\n",
       "      <td>0</td>\n",
       "      <td>0</td>\n",
       "    </tr>\n",
       "    <tr>\n",
       "      <th>877</th>\n",
       "      <td>Xiaomi</td>\n",
       "      <td>Ultrabook</td>\n",
       "      <td>Nvidia GeForce 940MX</td>\n",
       "      <td>Windows</td>\n",
       "      <td>8314020.00</td>\n",
       "      <td>1.28</td>\n",
       "      <td>8</td>\n",
       "      <td>0</td>\n",
       "      <td>1</td>\n",
       "      <td>165.632118</td>\n",
       "      <td>Intel Core i5</td>\n",
       "      <td>0</td>\n",
       "      <td>256</td>\n",
       "      <td>0</td>\n",
       "      <td>0</td>\n",
       "    </tr>\n",
       "    <tr>\n",
       "      <th>953</th>\n",
       "      <td>Asus</td>\n",
       "      <td>2 in 1 Convertible</td>\n",
       "      <td>Intel HD Graphics 515</td>\n",
       "      <td>Chrome OS</td>\n",
       "      <td>10305828.00</td>\n",
       "      <td>1.20</td>\n",
       "      <td>8</td>\n",
       "      <td>0</td>\n",
       "      <td>0</td>\n",
       "      <td>176.232574</td>\n",
       "      <td>Other Intel Processor</td>\n",
       "      <td>0</td>\n",
       "      <td>0</td>\n",
       "      <td>0</td>\n",
       "      <td>64</td>\n",
       "    </tr>\n",
       "    <tr>\n",
       "      <th>488</th>\n",
       "      <td>Lenovo</td>\n",
       "      <td>Ultrabook</td>\n",
       "      <td>Intel HD Graphics 620</td>\n",
       "      <td>Windows</td>\n",
       "      <td>15987816.00</td>\n",
       "      <td>1.36</td>\n",
       "      <td>16</td>\n",
       "      <td>0</td>\n",
       "      <td>1</td>\n",
       "      <td>176.232574</td>\n",
       "      <td>Intel Core i7</td>\n",
       "      <td>0</td>\n",
       "      <td>512</td>\n",
       "      <td>0</td>\n",
       "      <td>0</td>\n",
       "    </tr>\n",
       "    <tr>\n",
       "      <th>117</th>\n",
       "      <td>Acer</td>\n",
       "      <td>Notebook</td>\n",
       "      <td>Nvidia GeForce GTX 950M</td>\n",
       "      <td>Windows</td>\n",
       "      <td>7104708.00</td>\n",
       "      <td>2.40</td>\n",
       "      <td>8</td>\n",
       "      <td>0</td>\n",
       "      <td>0</td>\n",
       "      <td>141.211998</td>\n",
       "      <td>Intel Core i5</td>\n",
       "      <td>1000</td>\n",
       "      <td>256</td>\n",
       "      <td>0</td>\n",
       "      <td>0</td>\n",
       "    </tr>\n",
       "    <tr>\n",
       "      <th>724</th>\n",
       "      <td>MSI</td>\n",
       "      <td>Gaming</td>\n",
       "      <td>Nvidia GeForce GTX 1050 Ti</td>\n",
       "      <td>Windows</td>\n",
       "      <td>11990684.16</td>\n",
       "      <td>2.70</td>\n",
       "      <td>8</td>\n",
       "      <td>0</td>\n",
       "      <td>0</td>\n",
       "      <td>127.335675</td>\n",
       "      <td>Intel Core i7</td>\n",
       "      <td>1000</td>\n",
       "      <td>128</td>\n",
       "      <td>0</td>\n",
       "      <td>0</td>\n",
       "    </tr>\n",
       "    <tr>\n",
       "      <th>831</th>\n",
       "      <td>Lenovo</td>\n",
       "      <td>Ultrabook</td>\n",
       "      <td>Intel HD Graphics 520</td>\n",
       "      <td>Windows</td>\n",
       "      <td>18664308.00</td>\n",
       "      <td>1.10</td>\n",
       "      <td>16</td>\n",
       "      <td>0</td>\n",
       "      <td>1</td>\n",
       "      <td>209.800683</td>\n",
       "      <td>Intel Core i7</td>\n",
       "      <td>0</td>\n",
       "      <td>512</td>\n",
       "      <td>0</td>\n",
       "      <td>0</td>\n",
       "    </tr>\n",
       "    <tr>\n",
       "      <th>871</th>\n",
       "      <td>Lenovo</td>\n",
       "      <td>Notebook</td>\n",
       "      <td>AMD Radeon R5 M430</td>\n",
       "      <td>No OS</td>\n",
       "      <td>4259268.00</td>\n",
       "      <td>2.20</td>\n",
       "      <td>4</td>\n",
       "      <td>0</td>\n",
       "      <td>0</td>\n",
       "      <td>141.211998</td>\n",
       "      <td>Intel Core i3</td>\n",
       "      <td>1000</td>\n",
       "      <td>0</td>\n",
       "      <td>0</td>\n",
       "      <td>0</td>\n",
       "    </tr>\n",
       "    <tr>\n",
       "      <th>349</th>\n",
       "      <td>Dell</td>\n",
       "      <td>Ultrabook</td>\n",
       "      <td>AMD Radeon 530</td>\n",
       "      <td>Windows</td>\n",
       "      <td>5895396.00</td>\n",
       "      <td>1.90</td>\n",
       "      <td>8</td>\n",
       "      <td>0</td>\n",
       "      <td>0</td>\n",
       "      <td>141.211998</td>\n",
       "      <td>Intel Core i5</td>\n",
       "      <td>1000</td>\n",
       "      <td>0</td>\n",
       "      <td>0</td>\n",
       "      <td>0</td>\n",
       "    </tr>\n",
       "  </tbody>\n",
       "</table>\n",
       "</div>"
      ],
      "text/plain": [
       "    Manufacturer            Category                         GPU  \\\n",
       "644         Acer            Notebook       Intel HD Graphics 520   \n",
       "163       Lenovo              Gaming  Nvidia GeForce GTX 1050 Ti   \n",
       "271         Asus              Gaming           AMD Radeon RX 580   \n",
       "432       Lenovo            Notebook       Intel HD Graphics 620   \n",
       "397       Lenovo            Notebook       Intel HD Graphics 620   \n",
       "466         Acer            Notebook    Nvidia GeForce GTX 940MX   \n",
       "712         Dell            Notebook       Intel HD Graphics 620   \n",
       "634         Asus            Notebook       Intel HD Graphics 500   \n",
       "262       Lenovo            Notebook              AMD Radeon 530   \n",
       "291         Asus            Notebook         Nvidia GeForce 920M   \n",
       "52            HP            Notebook       Intel HD Graphics 620   \n",
       "428           HP              Gaming     Nvidia GeForce GTX 1070   \n",
       "877       Xiaomi           Ultrabook        Nvidia GeForce 940MX   \n",
       "953         Asus  2 in 1 Convertible       Intel HD Graphics 515   \n",
       "488       Lenovo           Ultrabook       Intel HD Graphics 620   \n",
       "117         Acer            Notebook     Nvidia GeForce GTX 950M   \n",
       "724          MSI              Gaming  Nvidia GeForce GTX 1050 Ti   \n",
       "831       Lenovo           Ultrabook       Intel HD Graphics 520   \n",
       "871       Lenovo            Notebook          AMD Radeon R5 M430   \n",
       "349         Dell           Ultrabook              AMD Radeon 530   \n",
       "\n",
       "    Operating System        Price  Weight  RAM  TouchScreen  IPS         ppi  \\\n",
       "644          Windows   4001400.00    2.40    4            0    0  100.454670   \n",
       "163          Windows   9594468.00    2.50   16            0    1  141.211998   \n",
       "271          Windows  13773708.00    3.20   16            0    0  127.335675   \n",
       "432          Windows   5326308.00    1.70    4            0    1  157.350512   \n",
       "397          Windows   8340696.00    1.90    8            0    1  157.350512   \n",
       "466          Windows   4170348.00    2.20    4            0    0  100.454670   \n",
       "712            Linux   6455592.00    1.98    8            0    0  141.211998   \n",
       "634          Windows   3547908.00    2.00    8            0    0  100.454670   \n",
       "262          Windows   5313592.44    2.20    6            0    0  141.211998   \n",
       "291          Windows   6405085.44    2.20    4            0    0  100.454670   \n",
       "52           Windows   8651916.00    1.64    4            0    0  111.935204   \n",
       "428          Windows  17775108.00    3.35   12            0    0  127.335675   \n",
       "877          Windows   8314020.00    1.28    8            0    1  165.632118   \n",
       "953        Chrome OS  10305828.00    1.20    8            0    0  176.232574   \n",
       "488          Windows  15987816.00    1.36   16            0    1  176.232574   \n",
       "117          Windows   7104708.00    2.40    8            0    0  141.211998   \n",
       "724          Windows  11990684.16    2.70    8            0    0  127.335675   \n",
       "831          Windows  18664308.00    1.10   16            0    1  209.800683   \n",
       "871            No OS   4259268.00    2.20    4            0    0  141.211998   \n",
       "349          Windows   5895396.00    1.90    8            0    0  141.211998   \n",
       "\n",
       "                 Cpu brand   HDD  SSD  Hybrid  FS  \n",
       "644          Intel Core i3   500    0       0   0  \n",
       "163          Intel Core i7     0  256       0   0  \n",
       "271          AMD Processor  1000  256       0   0  \n",
       "432          Intel Core i3     0  128       0   0  \n",
       "397          Intel Core i5     0  256       0   0  \n",
       "466          Intel Core i3   500    0       0   0  \n",
       "712          Intel Core i5  1000    0       0   0  \n",
       "634  Other Intel Processor  1000    0       0   0  \n",
       "262          AMD Processor     0  256       0   0  \n",
       "291          Intel Core i7   500    0       0   0  \n",
       "52           Intel Core i5     0  256       0   0  \n",
       "428          Intel Core i7  1000  256       0   0  \n",
       "877          Intel Core i5     0  256       0   0  \n",
       "953  Other Intel Processor     0    0       0  64  \n",
       "488          Intel Core i7     0  512       0   0  \n",
       "117          Intel Core i5  1000  256       0   0  \n",
       "724          Intel Core i7  1000  128       0   0  \n",
       "831          Intel Core i7     0  512       0   0  \n",
       "871          Intel Core i3  1000    0       0   0  \n",
       "349          Intel Core i5  1000    0       0   0  "
      ]
     },
     "execution_count": 50,
     "metadata": {},
     "output_type": "execute_result"
    }
   ],
   "source": [
    "data['HDD'] = data['HDD'].apply(lambda x: x*1000 if x==1 or x==2 else x)\n",
    "data.sample(20)"
   ]
  },
  {
   "cell_type": "code",
   "execution_count": 51,
   "id": "dfbe01de",
   "metadata": {
    "execution": {
     "iopub.execute_input": "2023-04-07T18:06:41.694760Z",
     "iopub.status.busy": "2023-04-07T18:06:41.694313Z",
     "iopub.status.idle": "2023-04-07T18:06:41.704972Z",
     "shell.execute_reply": "2023-04-07T18:06:41.703518Z"
    },
    "papermill": {
     "duration": 0.050363,
     "end_time": "2023-04-07T18:06:41.707887",
     "exception": false,
     "start_time": "2023-04-07T18:06:41.657524",
     "status": "completed"
    },
    "tags": []
   },
   "outputs": [
    {
     "data": {
      "text/plain": [
       "Price          1.000000\n",
       "Weight         0.210166\n",
       "RAM            0.742802\n",
       "TouchScreen    0.189931\n",
       "IPS            0.252799\n",
       "ppi            0.473125\n",
       "HDD           -0.099121\n",
       "SSD            0.545948\n",
       "Hybrid        -0.004750\n",
       "FS            -0.040414\n",
       "Name: Price, dtype: float64"
      ]
     },
     "execution_count": 51,
     "metadata": {},
     "output_type": "execute_result"
    }
   ],
   "source": [
    "data.corr()['Price']"
   ]
  },
  {
   "cell_type": "markdown",
   "id": "66c8df6f",
   "metadata": {
    "papermill": {
     "duration": 0.035299,
     "end_time": "2023-04-07T18:06:41.777930",
     "exception": false,
     "start_time": "2023-04-07T18:06:41.742631",
     "status": "completed"
    },
    "tags": []
   },
   "source": [
    "Dropping Hybrid and Flash Storage as they have very less correlation with price"
   ]
  },
  {
   "cell_type": "code",
   "execution_count": 52,
   "id": "d0ac4bd4",
   "metadata": {
    "execution": {
     "iopub.execute_input": "2023-04-07T18:06:41.849886Z",
     "iopub.status.busy": "2023-04-07T18:06:41.849078Z",
     "iopub.status.idle": "2023-04-07T18:06:41.864831Z",
     "shell.execute_reply": "2023-04-07T18:06:41.863346Z"
    },
    "papermill": {
     "duration": 0.055169,
     "end_time": "2023-04-07T18:06:41.867801",
     "exception": false,
     "start_time": "2023-04-07T18:06:41.812632",
     "status": "completed"
    },
    "tags": []
   },
   "outputs": [
    {
     "name": "stdout",
     "output_type": "stream",
     "text": [
      "<class 'pandas.core.frame.DataFrame'>\n",
      "Int64Index: 1302 entries, 0 to 324\n",
      "Data columns (total 13 columns):\n",
      " #   Column            Non-Null Count  Dtype  \n",
      "---  ------            --------------  -----  \n",
      " 0   Manufacturer      1302 non-null   object \n",
      " 1   Category          1302 non-null   object \n",
      " 2   GPU               1302 non-null   object \n",
      " 3   Operating System  1302 non-null   object \n",
      " 4   Price             1302 non-null   float64\n",
      " 5   Weight            1302 non-null   float64\n",
      " 6   RAM               1302 non-null   int64  \n",
      " 7   TouchScreen       1302 non-null   int64  \n",
      " 8   IPS               1302 non-null   int64  \n",
      " 9   ppi               1302 non-null   float64\n",
      " 10  Cpu brand         1302 non-null   object \n",
      " 11  HDD               1302 non-null   int64  \n",
      " 12  SSD               1302 non-null   int64  \n",
      "dtypes: float64(3), int64(5), object(5)\n",
      "memory usage: 142.4+ KB\n"
     ]
    }
   ],
   "source": [
    "data.drop(columns={'Hybrid','FS'},inplace=True)\n",
    "data.info()"
   ]
  },
  {
   "cell_type": "markdown",
   "id": "86f142de",
   "metadata": {
    "papermill": {
     "duration": 0.034422,
     "end_time": "2023-04-07T18:06:41.937892",
     "exception": false,
     "start_time": "2023-04-07T18:06:41.903470",
     "status": "completed"
    },
    "tags": []
   },
   "source": [
    "Converting to Indian Currency"
   ]
  },
  {
   "cell_type": "code",
   "execution_count": 53,
   "id": "c951dd90",
   "metadata": {
    "execution": {
     "iopub.execute_input": "2023-04-07T18:06:42.009708Z",
     "iopub.status.busy": "2023-04-07T18:06:42.008576Z",
     "iopub.status.idle": "2023-04-07T18:06:42.030562Z",
     "shell.execute_reply": "2023-04-07T18:06:42.029210Z"
    },
    "papermill": {
     "duration": 0.060709,
     "end_time": "2023-04-07T18:06:42.033116",
     "exception": false,
     "start_time": "2023-04-07T18:06:41.972407",
     "status": "completed"
    },
    "tags": []
   },
   "outputs": [
    {
     "data": {
      "text/html": [
       "<div>\n",
       "<style scoped>\n",
       "    .dataframe tbody tr th:only-of-type {\n",
       "        vertical-align: middle;\n",
       "    }\n",
       "\n",
       "    .dataframe tbody tr th {\n",
       "        vertical-align: top;\n",
       "    }\n",
       "\n",
       "    .dataframe thead th {\n",
       "        text-align: right;\n",
       "    }\n",
       "</style>\n",
       "<table border=\"1\" class=\"dataframe\">\n",
       "  <thead>\n",
       "    <tr style=\"text-align: right;\">\n",
       "      <th></th>\n",
       "      <th>Manufacturer</th>\n",
       "      <th>Category</th>\n",
       "      <th>GPU</th>\n",
       "      <th>Operating System</th>\n",
       "      <th>Price</th>\n",
       "      <th>Weight</th>\n",
       "      <th>RAM</th>\n",
       "      <th>TouchScreen</th>\n",
       "      <th>IPS</th>\n",
       "      <th>ppi</th>\n",
       "      <th>Cpu brand</th>\n",
       "      <th>HDD</th>\n",
       "      <th>SSD</th>\n",
       "    </tr>\n",
       "  </thead>\n",
       "  <tbody>\n",
       "    <tr>\n",
       "      <th>0</th>\n",
       "      <td>Apple</td>\n",
       "      <td>Ultrabook</td>\n",
       "      <td>Intel Iris Plus Graphics 640</td>\n",
       "      <td>macOS</td>\n",
       "      <td>119125.2348</td>\n",
       "      <td>1.37</td>\n",
       "      <td>8</td>\n",
       "      <td>0</td>\n",
       "      <td>1</td>\n",
       "      <td>226.983005</td>\n",
       "      <td>Intel Core i5</td>\n",
       "      <td>0</td>\n",
       "      <td>128</td>\n",
       "    </tr>\n",
       "    <tr>\n",
       "      <th>1</th>\n",
       "      <td>Apple</td>\n",
       "      <td>Ultrabook</td>\n",
       "      <td>Intel HD Graphics 6000</td>\n",
       "      <td>macOS</td>\n",
       "      <td>79933.7448</td>\n",
       "      <td>1.34</td>\n",
       "      <td>8</td>\n",
       "      <td>0</td>\n",
       "      <td>0</td>\n",
       "      <td>127.677940</td>\n",
       "      <td>Intel Core i5</td>\n",
       "      <td>0</td>\n",
       "      <td>0</td>\n",
       "    </tr>\n",
       "    <tr>\n",
       "      <th>2</th>\n",
       "      <td>HP</td>\n",
       "      <td>Notebook</td>\n",
       "      <td>Intel HD Graphics 620</td>\n",
       "      <td>No OS</td>\n",
       "      <td>51129.0000</td>\n",
       "      <td>1.86</td>\n",
       "      <td>8</td>\n",
       "      <td>0</td>\n",
       "      <td>0</td>\n",
       "      <td>141.211998</td>\n",
       "      <td>Intel Core i5</td>\n",
       "      <td>0</td>\n",
       "      <td>256</td>\n",
       "    </tr>\n",
       "    <tr>\n",
       "      <th>3</th>\n",
       "      <td>Apple</td>\n",
       "      <td>Ultrabook</td>\n",
       "      <td>AMD Radeon Pro 455</td>\n",
       "      <td>macOS</td>\n",
       "      <td>225630.0540</td>\n",
       "      <td>1.83</td>\n",
       "      <td>16</td>\n",
       "      <td>0</td>\n",
       "      <td>1</td>\n",
       "      <td>220.534624</td>\n",
       "      <td>Intel Core i7</td>\n",
       "      <td>0</td>\n",
       "      <td>512</td>\n",
       "    </tr>\n",
       "    <tr>\n",
       "      <th>4</th>\n",
       "      <td>Apple</td>\n",
       "      <td>Ultrabook</td>\n",
       "      <td>Intel Iris Plus Graphics 650</td>\n",
       "      <td>macOS</td>\n",
       "      <td>160376.1120</td>\n",
       "      <td>1.37</td>\n",
       "      <td>8</td>\n",
       "      <td>0</td>\n",
       "      <td>1</td>\n",
       "      <td>226.983005</td>\n",
       "      <td>Intel Core i5</td>\n",
       "      <td>0</td>\n",
       "      <td>256</td>\n",
       "    </tr>\n",
       "    <tr>\n",
       "      <th>5</th>\n",
       "      <td>Acer</td>\n",
       "      <td>Notebook</td>\n",
       "      <td>AMD Radeon R5</td>\n",
       "      <td>Windows</td>\n",
       "      <td>35568.0000</td>\n",
       "      <td>2.10</td>\n",
       "      <td>4</td>\n",
       "      <td>0</td>\n",
       "      <td>0</td>\n",
       "      <td>100.454670</td>\n",
       "      <td>AMD Processor</td>\n",
       "      <td>500</td>\n",
       "      <td>0</td>\n",
       "    </tr>\n",
       "    <tr>\n",
       "      <th>6</th>\n",
       "      <td>Apple</td>\n",
       "      <td>Ultrabook</td>\n",
       "      <td>Intel Iris Pro Graphics</td>\n",
       "      <td>Mac OS</td>\n",
       "      <td>190286.1324</td>\n",
       "      <td>2.04</td>\n",
       "      <td>16</td>\n",
       "      <td>0</td>\n",
       "      <td>1</td>\n",
       "      <td>220.534624</td>\n",
       "      <td>Intel Core i7</td>\n",
       "      <td>0</td>\n",
       "      <td>0</td>\n",
       "    </tr>\n",
       "    <tr>\n",
       "      <th>7</th>\n",
       "      <td>Apple</td>\n",
       "      <td>Ultrabook</td>\n",
       "      <td>Intel HD Graphics 6000</td>\n",
       "      <td>macOS</td>\n",
       "      <td>103031.6040</td>\n",
       "      <td>1.34</td>\n",
       "      <td>8</td>\n",
       "      <td>0</td>\n",
       "      <td>0</td>\n",
       "      <td>127.677940</td>\n",
       "      <td>Intel Core i5</td>\n",
       "      <td>0</td>\n",
       "      <td>0</td>\n",
       "    </tr>\n",
       "    <tr>\n",
       "      <th>8</th>\n",
       "      <td>Asus</td>\n",
       "      <td>Ultrabook</td>\n",
       "      <td>Nvidia GeForce MX150</td>\n",
       "      <td>Windows</td>\n",
       "      <td>132935.4000</td>\n",
       "      <td>1.30</td>\n",
       "      <td>16</td>\n",
       "      <td>0</td>\n",
       "      <td>0</td>\n",
       "      <td>157.350512</td>\n",
       "      <td>Intel Core i7</td>\n",
       "      <td>0</td>\n",
       "      <td>512</td>\n",
       "    </tr>\n",
       "    <tr>\n",
       "      <th>9</th>\n",
       "      <td>Acer</td>\n",
       "      <td>Ultrabook</td>\n",
       "      <td>Intel UHD Graphics 620</td>\n",
       "      <td>Windows</td>\n",
       "      <td>68468.4000</td>\n",
       "      <td>1.60</td>\n",
       "      <td>8</td>\n",
       "      <td>0</td>\n",
       "      <td>1</td>\n",
       "      <td>157.350512</td>\n",
       "      <td>Intel Core i5</td>\n",
       "      <td>0</td>\n",
       "      <td>256</td>\n",
       "    </tr>\n",
       "  </tbody>\n",
       "</table>\n",
       "</div>"
      ],
      "text/plain": [
       "  Manufacturer   Category                           GPU Operating System  \\\n",
       "0        Apple  Ultrabook  Intel Iris Plus Graphics 640            macOS   \n",
       "1        Apple  Ultrabook        Intel HD Graphics 6000            macOS   \n",
       "2           HP   Notebook         Intel HD Graphics 620            No OS   \n",
       "3        Apple  Ultrabook            AMD Radeon Pro 455            macOS   \n",
       "4        Apple  Ultrabook  Intel Iris Plus Graphics 650            macOS   \n",
       "5         Acer   Notebook                 AMD Radeon R5          Windows   \n",
       "6        Apple  Ultrabook       Intel Iris Pro Graphics           Mac OS   \n",
       "7        Apple  Ultrabook        Intel HD Graphics 6000            macOS   \n",
       "8         Asus  Ultrabook          Nvidia GeForce MX150          Windows   \n",
       "9         Acer  Ultrabook        Intel UHD Graphics 620          Windows   \n",
       "\n",
       "         Price  Weight  RAM  TouchScreen  IPS         ppi      Cpu brand  HDD  \\\n",
       "0  119125.2348    1.37    8            0    1  226.983005  Intel Core i5    0   \n",
       "1   79933.7448    1.34    8            0    0  127.677940  Intel Core i5    0   \n",
       "2   51129.0000    1.86    8            0    0  141.211998  Intel Core i5    0   \n",
       "3  225630.0540    1.83   16            0    1  220.534624  Intel Core i7    0   \n",
       "4  160376.1120    1.37    8            0    1  226.983005  Intel Core i5    0   \n",
       "5   35568.0000    2.10    4            0    0  100.454670  AMD Processor  500   \n",
       "6  190286.1324    2.04   16            0    1  220.534624  Intel Core i7    0   \n",
       "7  103031.6040    1.34    8            0    0  127.677940  Intel Core i5    0   \n",
       "8  132935.4000    1.30   16            0    0  157.350512  Intel Core i7    0   \n",
       "9   68468.4000    1.60    8            0    1  157.350512  Intel Core i5    0   \n",
       "\n",
       "   SSD  \n",
       "0  128  \n",
       "1    0  \n",
       "2  256  \n",
       "3  512  \n",
       "4  256  \n",
       "5    0  \n",
       "6    0  \n",
       "7    0  \n",
       "8  512  \n",
       "9  256  "
      ]
     },
     "execution_count": 53,
     "metadata": {},
     "output_type": "execute_result"
    }
   ],
   "source": [
    "data['Price'] = data['Price']/100\n",
    "data.head(10)"
   ]
  },
  {
   "cell_type": "code",
   "execution_count": 54,
   "id": "1cfbc396",
   "metadata": {
    "execution": {
     "iopub.execute_input": "2023-04-07T18:06:42.105488Z",
     "iopub.status.busy": "2023-04-07T18:06:42.104966Z",
     "iopub.status.idle": "2023-04-07T18:06:42.126315Z",
     "shell.execute_reply": "2023-04-07T18:06:42.124731Z"
    },
    "papermill": {
     "duration": 0.062066,
     "end_time": "2023-04-07T18:06:42.130056",
     "exception": false,
     "start_time": "2023-04-07T18:06:42.067990",
     "status": "completed"
    },
    "tags": []
   },
   "outputs": [
    {
     "data": {
      "text/html": [
       "<div>\n",
       "<style scoped>\n",
       "    .dataframe tbody tr th:only-of-type {\n",
       "        vertical-align: middle;\n",
       "    }\n",
       "\n",
       "    .dataframe tbody tr th {\n",
       "        vertical-align: top;\n",
       "    }\n",
       "\n",
       "    .dataframe thead th {\n",
       "        text-align: right;\n",
       "    }\n",
       "</style>\n",
       "<table border=\"1\" class=\"dataframe\">\n",
       "  <thead>\n",
       "    <tr style=\"text-align: right;\">\n",
       "      <th></th>\n",
       "      <th>Manufacturer</th>\n",
       "      <th>Category</th>\n",
       "      <th>GPU</th>\n",
       "      <th>Operating System</th>\n",
       "      <th>Price</th>\n",
       "      <th>Weight</th>\n",
       "      <th>RAM</th>\n",
       "      <th>TouchScreen</th>\n",
       "      <th>IPS</th>\n",
       "      <th>ppi</th>\n",
       "      <th>Cpu brand</th>\n",
       "      <th>HDD</th>\n",
       "      <th>SSD</th>\n",
       "    </tr>\n",
       "  </thead>\n",
       "  <tbody>\n",
       "    <tr>\n",
       "      <th>0</th>\n",
       "      <td>Apple</td>\n",
       "      <td>Ultrabook</td>\n",
       "      <td>Intel Iris Plus Graphics 640</td>\n",
       "      <td>macOS</td>\n",
       "      <td>119125.23</td>\n",
       "      <td>1.37</td>\n",
       "      <td>8</td>\n",
       "      <td>0</td>\n",
       "      <td>1</td>\n",
       "      <td>226.983005</td>\n",
       "      <td>Intel Core i5</td>\n",
       "      <td>0</td>\n",
       "      <td>128</td>\n",
       "    </tr>\n",
       "    <tr>\n",
       "      <th>1</th>\n",
       "      <td>Apple</td>\n",
       "      <td>Ultrabook</td>\n",
       "      <td>Intel HD Graphics 6000</td>\n",
       "      <td>macOS</td>\n",
       "      <td>79933.74</td>\n",
       "      <td>1.34</td>\n",
       "      <td>8</td>\n",
       "      <td>0</td>\n",
       "      <td>0</td>\n",
       "      <td>127.677940</td>\n",
       "      <td>Intel Core i5</td>\n",
       "      <td>0</td>\n",
       "      <td>0</td>\n",
       "    </tr>\n",
       "    <tr>\n",
       "      <th>2</th>\n",
       "      <td>HP</td>\n",
       "      <td>Notebook</td>\n",
       "      <td>Intel HD Graphics 620</td>\n",
       "      <td>No OS</td>\n",
       "      <td>51129.00</td>\n",
       "      <td>1.86</td>\n",
       "      <td>8</td>\n",
       "      <td>0</td>\n",
       "      <td>0</td>\n",
       "      <td>141.211998</td>\n",
       "      <td>Intel Core i5</td>\n",
       "      <td>0</td>\n",
       "      <td>256</td>\n",
       "    </tr>\n",
       "    <tr>\n",
       "      <th>3</th>\n",
       "      <td>Apple</td>\n",
       "      <td>Ultrabook</td>\n",
       "      <td>AMD Radeon Pro 455</td>\n",
       "      <td>macOS</td>\n",
       "      <td>225630.05</td>\n",
       "      <td>1.83</td>\n",
       "      <td>16</td>\n",
       "      <td>0</td>\n",
       "      <td>1</td>\n",
       "      <td>220.534624</td>\n",
       "      <td>Intel Core i7</td>\n",
       "      <td>0</td>\n",
       "      <td>512</td>\n",
       "    </tr>\n",
       "    <tr>\n",
       "      <th>4</th>\n",
       "      <td>Apple</td>\n",
       "      <td>Ultrabook</td>\n",
       "      <td>Intel Iris Plus Graphics 650</td>\n",
       "      <td>macOS</td>\n",
       "      <td>160376.11</td>\n",
       "      <td>1.37</td>\n",
       "      <td>8</td>\n",
       "      <td>0</td>\n",
       "      <td>1</td>\n",
       "      <td>226.983005</td>\n",
       "      <td>Intel Core i5</td>\n",
       "      <td>0</td>\n",
       "      <td>256</td>\n",
       "    </tr>\n",
       "  </tbody>\n",
       "</table>\n",
       "</div>"
      ],
      "text/plain": [
       "  Manufacturer   Category                           GPU Operating System  \\\n",
       "0        Apple  Ultrabook  Intel Iris Plus Graphics 640            macOS   \n",
       "1        Apple  Ultrabook        Intel HD Graphics 6000            macOS   \n",
       "2           HP   Notebook         Intel HD Graphics 620            No OS   \n",
       "3        Apple  Ultrabook            AMD Radeon Pro 455            macOS   \n",
       "4        Apple  Ultrabook  Intel Iris Plus Graphics 650            macOS   \n",
       "\n",
       "       Price  Weight  RAM  TouchScreen  IPS         ppi      Cpu brand  HDD  \\\n",
       "0  119125.23    1.37    8            0    1  226.983005  Intel Core i5    0   \n",
       "1   79933.74    1.34    8            0    0  127.677940  Intel Core i5    0   \n",
       "2   51129.00    1.86    8            0    0  141.211998  Intel Core i5    0   \n",
       "3  225630.05    1.83   16            0    1  220.534624  Intel Core i7    0   \n",
       "4  160376.11    1.37    8            0    1  226.983005  Intel Core i5    0   \n",
       "\n",
       "   SSD  \n",
       "0  128  \n",
       "1    0  \n",
       "2  256  \n",
       "3  512  \n",
       "4  256  "
      ]
     },
     "execution_count": 54,
     "metadata": {},
     "output_type": "execute_result"
    }
   ],
   "source": [
    "data['Price'] = data['Price'].round(decimals = 2)\n",
    "data.head()"
   ]
  },
  {
   "cell_type": "code",
   "execution_count": 55,
   "id": "1607f68c",
   "metadata": {
    "execution": {
     "iopub.execute_input": "2023-04-07T18:06:42.206476Z",
     "iopub.status.busy": "2023-04-07T18:06:42.205629Z",
     "iopub.status.idle": "2023-04-07T18:06:42.217620Z",
     "shell.execute_reply": "2023-04-07T18:06:42.216351Z"
    },
    "papermill": {
     "duration": 0.052701,
     "end_time": "2023-04-07T18:06:42.220283",
     "exception": false,
     "start_time": "2023-04-07T18:06:42.167582",
     "status": "completed"
    },
    "tags": []
   },
   "outputs": [
    {
     "data": {
      "text/plain": [
       "Intel     722\n",
       "Nvidia    399\n",
       "AMD       180\n",
       "ARM         1\n",
       "Name: gpu, dtype: int64"
      ]
     },
     "execution_count": 55,
     "metadata": {},
     "output_type": "execute_result"
    }
   ],
   "source": [
    "data['gpu'] = data['GPU'].apply(lambda x:x.split()[0])\n",
    "data['gpu'].value_counts()"
   ]
  },
  {
   "cell_type": "code",
   "execution_count": 56,
   "id": "d7c499d5",
   "metadata": {
    "execution": {
     "iopub.execute_input": "2023-04-07T18:06:42.293244Z",
     "iopub.status.busy": "2023-04-07T18:06:42.292375Z",
     "iopub.status.idle": "2023-04-07T18:06:42.303987Z",
     "shell.execute_reply": "2023-04-07T18:06:42.302783Z"
    },
    "papermill": {
     "duration": 0.05102,
     "end_time": "2023-04-07T18:06:42.306614",
     "exception": false,
     "start_time": "2023-04-07T18:06:42.255594",
     "status": "completed"
    },
    "tags": []
   },
   "outputs": [
    {
     "data": {
      "text/plain": [
       "Intel     722\n",
       "Nvidia    399\n",
       "AMD       180\n",
       "Name: gpu, dtype: int64"
      ]
     },
     "execution_count": 56,
     "metadata": {},
     "output_type": "execute_result"
    }
   ],
   "source": [
    "data = data[data['gpu'] != 'ARM']\n",
    "data['gpu'].value_counts()"
   ]
  },
  {
   "cell_type": "code",
   "execution_count": 57,
   "id": "4829db76",
   "metadata": {
    "execution": {
     "iopub.execute_input": "2023-04-07T18:06:42.379987Z",
     "iopub.status.busy": "2023-04-07T18:06:42.379249Z",
     "iopub.status.idle": "2023-04-07T18:06:42.649286Z",
     "shell.execute_reply": "2023-04-07T18:06:42.647787Z"
    },
    "papermill": {
     "duration": 0.311115,
     "end_time": "2023-04-07T18:06:42.653056",
     "exception": false,
     "start_time": "2023-04-07T18:06:42.341941",
     "status": "completed"
    },
    "tags": []
   },
   "outputs": [
    {
     "data": {
      "text/plain": [
       "<Axes: xlabel='gpu', ylabel='Price'>"
      ]
     },
     "execution_count": 57,
     "metadata": {},
     "output_type": "execute_result"
    },
    {
     "data": {
      "image/png": "[encoded data removed]",
      "text/plain": [
       "<Figure size 1000x500 with 1 Axes>"
      ]
     },
     "metadata": {},
     "output_type": "display_data"
    }
   ],
   "source": [
    "plt.figure(figsize=(10,5))\n",
    "sns.barplot(x = data['gpu'], y = data['Price'])"
   ]
  },
  {
   "cell_type": "code",
   "execution_count": 58,
   "id": "e9df9f7b",
   "metadata": {
    "execution": {
     "iopub.execute_input": "2023-04-07T18:06:42.728477Z",
     "iopub.status.busy": "2023-04-07T18:06:42.727451Z",
     "iopub.status.idle": "2023-04-07T18:06:42.748403Z",
     "shell.execute_reply": "2023-04-07T18:06:42.746960Z"
    },
    "papermill": {
     "duration": 0.061408,
     "end_time": "2023-04-07T18:06:42.751100",
     "exception": false,
     "start_time": "2023-04-07T18:06:42.689692",
     "status": "completed"
    },
    "tags": []
   },
   "outputs": [
    {
     "data": {
      "text/html": [
       "<div>\n",
       "<style scoped>\n",
       "    .dataframe tbody tr th:only-of-type {\n",
       "        vertical-align: middle;\n",
       "    }\n",
       "\n",
       "    .dataframe tbody tr th {\n",
       "        vertical-align: top;\n",
       "    }\n",
       "\n",
       "    .dataframe thead th {\n",
       "        text-align: right;\n",
       "    }\n",
       "</style>\n",
       "<table border=\"1\" class=\"dataframe\">\n",
       "  <thead>\n",
       "    <tr style=\"text-align: right;\">\n",
       "      <th></th>\n",
       "      <th>Manufacturer</th>\n",
       "      <th>Category</th>\n",
       "      <th>Operating System</th>\n",
       "      <th>Price</th>\n",
       "      <th>Weight</th>\n",
       "      <th>RAM</th>\n",
       "      <th>TouchScreen</th>\n",
       "      <th>IPS</th>\n",
       "      <th>ppi</th>\n",
       "      <th>Cpu brand</th>\n",
       "      <th>HDD</th>\n",
       "      <th>SSD</th>\n",
       "      <th>gpu</th>\n",
       "    </tr>\n",
       "  </thead>\n",
       "  <tbody>\n",
       "    <tr>\n",
       "      <th>0</th>\n",
       "      <td>Apple</td>\n",
       "      <td>Ultrabook</td>\n",
       "      <td>macOS</td>\n",
       "      <td>119125.23</td>\n",
       "      <td>1.37</td>\n",
       "      <td>8</td>\n",
       "      <td>0</td>\n",
       "      <td>1</td>\n",
       "      <td>226.983005</td>\n",
       "      <td>Intel Core i5</td>\n",
       "      <td>0</td>\n",
       "      <td>128</td>\n",
       "      <td>Intel</td>\n",
       "    </tr>\n",
       "    <tr>\n",
       "      <th>1</th>\n",
       "      <td>Apple</td>\n",
       "      <td>Ultrabook</td>\n",
       "      <td>macOS</td>\n",
       "      <td>79933.74</td>\n",
       "      <td>1.34</td>\n",
       "      <td>8</td>\n",
       "      <td>0</td>\n",
       "      <td>0</td>\n",
       "      <td>127.677940</td>\n",
       "      <td>Intel Core i5</td>\n",
       "      <td>0</td>\n",
       "      <td>0</td>\n",
       "      <td>Intel</td>\n",
       "    </tr>\n",
       "    <tr>\n",
       "      <th>2</th>\n",
       "      <td>HP</td>\n",
       "      <td>Notebook</td>\n",
       "      <td>No OS</td>\n",
       "      <td>51129.00</td>\n",
       "      <td>1.86</td>\n",
       "      <td>8</td>\n",
       "      <td>0</td>\n",
       "      <td>0</td>\n",
       "      <td>141.211998</td>\n",
       "      <td>Intel Core i5</td>\n",
       "      <td>0</td>\n",
       "      <td>256</td>\n",
       "      <td>Intel</td>\n",
       "    </tr>\n",
       "    <tr>\n",
       "      <th>3</th>\n",
       "      <td>Apple</td>\n",
       "      <td>Ultrabook</td>\n",
       "      <td>macOS</td>\n",
       "      <td>225630.05</td>\n",
       "      <td>1.83</td>\n",
       "      <td>16</td>\n",
       "      <td>0</td>\n",
       "      <td>1</td>\n",
       "      <td>220.534624</td>\n",
       "      <td>Intel Core i7</td>\n",
       "      <td>0</td>\n",
       "      <td>512</td>\n",
       "      <td>AMD</td>\n",
       "    </tr>\n",
       "    <tr>\n",
       "      <th>4</th>\n",
       "      <td>Apple</td>\n",
       "      <td>Ultrabook</td>\n",
       "      <td>macOS</td>\n",
       "      <td>160376.11</td>\n",
       "      <td>1.37</td>\n",
       "      <td>8</td>\n",
       "      <td>0</td>\n",
       "      <td>1</td>\n",
       "      <td>226.983005</td>\n",
       "      <td>Intel Core i5</td>\n",
       "      <td>0</td>\n",
       "      <td>256</td>\n",
       "      <td>Intel</td>\n",
       "    </tr>\n",
       "  </tbody>\n",
       "</table>\n",
       "</div>"
      ],
      "text/plain": [
       "  Manufacturer   Category Operating System      Price  Weight  RAM  \\\n",
       "0        Apple  Ultrabook            macOS  119125.23    1.37    8   \n",
       "1        Apple  Ultrabook            macOS   79933.74    1.34    8   \n",
       "2           HP   Notebook            No OS   51129.00    1.86    8   \n",
       "3        Apple  Ultrabook            macOS  225630.05    1.83   16   \n",
       "4        Apple  Ultrabook            macOS  160376.11    1.37    8   \n",
       "\n",
       "   TouchScreen  IPS         ppi      Cpu brand  HDD  SSD    gpu  \n",
       "0            0    1  226.983005  Intel Core i5    0  128  Intel  \n",
       "1            0    0  127.677940  Intel Core i5    0    0  Intel  \n",
       "2            0    0  141.211998  Intel Core i5    0  256  Intel  \n",
       "3            0    1  220.534624  Intel Core i7    0  512    AMD  \n",
       "4            0    1  226.983005  Intel Core i5    0  256  Intel  "
      ]
     },
     "execution_count": 58,
     "metadata": {},
     "output_type": "execute_result"
    }
   ],
   "source": [
    "data = data.drop('GPU',axis=1)\n",
    "data.head()"
   ]
  },
  {
   "cell_type": "code",
   "execution_count": 59,
   "id": "3e134201",
   "metadata": {
    "execution": {
     "iopub.execute_input": "2023-04-07T18:06:42.825961Z",
     "iopub.status.busy": "2023-04-07T18:06:42.825069Z",
     "iopub.status.idle": "2023-04-07T18:06:42.835862Z",
     "shell.execute_reply": "2023-04-07T18:06:42.834510Z"
    },
    "papermill": {
     "duration": 0.051353,
     "end_time": "2023-04-07T18:06:42.838625",
     "exception": false,
     "start_time": "2023-04-07T18:06:42.787272",
     "status": "completed"
    },
    "tags": []
   },
   "outputs": [
    {
     "data": {
      "text/plain": [
       "Windows      1124\n",
       "No OS          66\n",
       "Linux          62\n",
       "Chrome OS      26\n",
       "macOS          13\n",
       "Mac OS          8\n",
       "Android         2\n",
       "Name: Operating System, dtype: int64"
      ]
     },
     "execution_count": 59,
     "metadata": {},
     "output_type": "execute_result"
    }
   ],
   "source": [
    "data['Operating System'].value_counts()"
   ]
  },
  {
   "cell_type": "code",
   "execution_count": 60,
   "id": "871d0cdd",
   "metadata": {
    "execution": {
     "iopub.execute_input": "2023-04-07T18:06:42.915373Z",
     "iopub.status.busy": "2023-04-07T18:06:42.914927Z",
     "iopub.status.idle": "2023-04-07T18:06:43.315804Z",
     "shell.execute_reply": "2023-04-07T18:06:43.314420Z"
    },
    "papermill": {
     "duration": 0.443575,
     "end_time": "2023-04-07T18:06:43.318605",
     "exception": false,
     "start_time": "2023-04-07T18:06:42.875030",
     "status": "completed"
    },
    "tags": []
   },
   "outputs": [
    {
     "data": {
      "text/plain": [
       "<Axes: xlabel='Operating System', ylabel='Price'>"
      ]
     },
     "execution_count": 60,
     "metadata": {},
     "output_type": "execute_result"
    },
    {
     "data": {
      "image/png": "[encoded data removed]",
      "text/plain": [
       "<Figure size 1000x600 with 1 Axes>"
      ]
     },
     "metadata": {},
     "output_type": "display_data"
    }
   ],
   "source": [
    "plt.figure(figsize=(10,6))\n",
    "sns.barplot(x = data['Operating System'], y = data['Price'])"
   ]
  },
  {
   "cell_type": "code",
   "execution_count": 61,
   "id": "61ede68c",
   "metadata": {
    "execution": {
     "iopub.execute_input": "2023-04-07T18:06:43.397257Z",
     "iopub.status.busy": "2023-04-07T18:06:43.396038Z",
     "iopub.status.idle": "2023-04-07T18:06:43.403276Z",
     "shell.execute_reply": "2023-04-07T18:06:43.401718Z"
    },
    "papermill": {
     "duration": 0.049729,
     "end_time": "2023-04-07T18:06:43.406397",
     "exception": false,
     "start_time": "2023-04-07T18:06:43.356668",
     "status": "completed"
    },
    "tags": []
   },
   "outputs": [],
   "source": [
    "def merge_os(os):\n",
    "    if os == 'Windows':\n",
    "        return os\n",
    "    elif os == 'macOS' or os == 'Mac OS':\n",
    "        return 'Mac'\n",
    "    elif os == 'Linux':\n",
    "        return os\n",
    "    else:\n",
    "        return 'Others/No OS'"
   ]
  },
  {
   "cell_type": "code",
   "execution_count": 62,
   "id": "74586b6f",
   "metadata": {
    "execution": {
     "iopub.execute_input": "2023-04-07T18:06:43.484443Z",
     "iopub.status.busy": "2023-04-07T18:06:43.483582Z",
     "iopub.status.idle": "2023-04-07T18:06:43.503328Z",
     "shell.execute_reply": "2023-04-07T18:06:43.502335Z"
    },
    "papermill": {
     "duration": 0.062246,
     "end_time": "2023-04-07T18:06:43.506033",
     "exception": false,
     "start_time": "2023-04-07T18:06:43.443787",
     "status": "completed"
    },
    "tags": []
   },
   "outputs": [
    {
     "data": {
      "text/html": [
       "<div>\n",
       "<style scoped>\n",
       "    .dataframe tbody tr th:only-of-type {\n",
       "        vertical-align: middle;\n",
       "    }\n",
       "\n",
       "    .dataframe tbody tr th {\n",
       "        vertical-align: top;\n",
       "    }\n",
       "\n",
       "    .dataframe thead th {\n",
       "        text-align: right;\n",
       "    }\n",
       "</style>\n",
       "<table border=\"1\" class=\"dataframe\">\n",
       "  <thead>\n",
       "    <tr style=\"text-align: right;\">\n",
       "      <th></th>\n",
       "      <th>Manufacturer</th>\n",
       "      <th>Category</th>\n",
       "      <th>Operating System</th>\n",
       "      <th>Price</th>\n",
       "      <th>Weight</th>\n",
       "      <th>RAM</th>\n",
       "      <th>TouchScreen</th>\n",
       "      <th>IPS</th>\n",
       "      <th>ppi</th>\n",
       "      <th>Cpu brand</th>\n",
       "      <th>HDD</th>\n",
       "      <th>SSD</th>\n",
       "      <th>gpu</th>\n",
       "      <th>OS</th>\n",
       "    </tr>\n",
       "  </thead>\n",
       "  <tbody>\n",
       "    <tr>\n",
       "      <th>0</th>\n",
       "      <td>Apple</td>\n",
       "      <td>Ultrabook</td>\n",
       "      <td>macOS</td>\n",
       "      <td>119125.23</td>\n",
       "      <td>1.37</td>\n",
       "      <td>8</td>\n",
       "      <td>0</td>\n",
       "      <td>1</td>\n",
       "      <td>226.983005</td>\n",
       "      <td>Intel Core i5</td>\n",
       "      <td>0</td>\n",
       "      <td>128</td>\n",
       "      <td>Intel</td>\n",
       "      <td>Mac</td>\n",
       "    </tr>\n",
       "    <tr>\n",
       "      <th>1</th>\n",
       "      <td>Apple</td>\n",
       "      <td>Ultrabook</td>\n",
       "      <td>macOS</td>\n",
       "      <td>79933.74</td>\n",
       "      <td>1.34</td>\n",
       "      <td>8</td>\n",
       "      <td>0</td>\n",
       "      <td>0</td>\n",
       "      <td>127.677940</td>\n",
       "      <td>Intel Core i5</td>\n",
       "      <td>0</td>\n",
       "      <td>0</td>\n",
       "      <td>Intel</td>\n",
       "      <td>Mac</td>\n",
       "    </tr>\n",
       "    <tr>\n",
       "      <th>2</th>\n",
       "      <td>HP</td>\n",
       "      <td>Notebook</td>\n",
       "      <td>No OS</td>\n",
       "      <td>51129.00</td>\n",
       "      <td>1.86</td>\n",
       "      <td>8</td>\n",
       "      <td>0</td>\n",
       "      <td>0</td>\n",
       "      <td>141.211998</td>\n",
       "      <td>Intel Core i5</td>\n",
       "      <td>0</td>\n",
       "      <td>256</td>\n",
       "      <td>Intel</td>\n",
       "      <td>Others/No OS</td>\n",
       "    </tr>\n",
       "    <tr>\n",
       "      <th>3</th>\n",
       "      <td>Apple</td>\n",
       "      <td>Ultrabook</td>\n",
       "      <td>macOS</td>\n",
       "      <td>225630.05</td>\n",
       "      <td>1.83</td>\n",
       "      <td>16</td>\n",
       "      <td>0</td>\n",
       "      <td>1</td>\n",
       "      <td>220.534624</td>\n",
       "      <td>Intel Core i7</td>\n",
       "      <td>0</td>\n",
       "      <td>512</td>\n",
       "      <td>AMD</td>\n",
       "      <td>Mac</td>\n",
       "    </tr>\n",
       "    <tr>\n",
       "      <th>4</th>\n",
       "      <td>Apple</td>\n",
       "      <td>Ultrabook</td>\n",
       "      <td>macOS</td>\n",
       "      <td>160376.11</td>\n",
       "      <td>1.37</td>\n",
       "      <td>8</td>\n",
       "      <td>0</td>\n",
       "      <td>1</td>\n",
       "      <td>226.983005</td>\n",
       "      <td>Intel Core i5</td>\n",
       "      <td>0</td>\n",
       "      <td>256</td>\n",
       "      <td>Intel</td>\n",
       "      <td>Mac</td>\n",
       "    </tr>\n",
       "  </tbody>\n",
       "</table>\n",
       "</div>"
      ],
      "text/plain": [
       "  Manufacturer   Category Operating System      Price  Weight  RAM  \\\n",
       "0        Apple  Ultrabook            macOS  119125.23    1.37    8   \n",
       "1        Apple  Ultrabook            macOS   79933.74    1.34    8   \n",
       "2           HP   Notebook            No OS   51129.00    1.86    8   \n",
       "3        Apple  Ultrabook            macOS  225630.05    1.83   16   \n",
       "4        Apple  Ultrabook            macOS  160376.11    1.37    8   \n",
       "\n",
       "   TouchScreen  IPS         ppi      Cpu brand  HDD  SSD    gpu            OS  \n",
       "0            0    1  226.983005  Intel Core i5    0  128  Intel           Mac  \n",
       "1            0    0  127.677940  Intel Core i5    0    0  Intel           Mac  \n",
       "2            0    0  141.211998  Intel Core i5    0  256  Intel  Others/No OS  \n",
       "3            0    1  220.534624  Intel Core i7    0  512    AMD           Mac  \n",
       "4            0    1  226.983005  Intel Core i5    0  256  Intel           Mac  "
      ]
     },
     "execution_count": 62,
     "metadata": {},
     "output_type": "execute_result"
    }
   ],
   "source": [
    "data['OS'] = data['Operating System'].apply(merge_os)\n",
    "data.head()"
   ]
  },
  {
   "cell_type": "code",
   "execution_count": 63,
   "id": "4d10d8b3",
   "metadata": {
    "execution": {
     "iopub.execute_input": "2023-04-07T18:06:43.585014Z",
     "iopub.status.busy": "2023-04-07T18:06:43.584557Z",
     "iopub.status.idle": "2023-04-07T18:06:43.605830Z",
     "shell.execute_reply": "2023-04-07T18:06:43.604563Z"
    },
    "papermill": {
     "duration": 0.064165,
     "end_time": "2023-04-07T18:06:43.608671",
     "exception": false,
     "start_time": "2023-04-07T18:06:43.544506",
     "status": "completed"
    },
    "tags": []
   },
   "outputs": [
    {
     "data": {
      "text/html": [
       "<div>\n",
       "<style scoped>\n",
       "    .dataframe tbody tr th:only-of-type {\n",
       "        vertical-align: middle;\n",
       "    }\n",
       "\n",
       "    .dataframe tbody tr th {\n",
       "        vertical-align: top;\n",
       "    }\n",
       "\n",
       "    .dataframe thead th {\n",
       "        text-align: right;\n",
       "    }\n",
       "</style>\n",
       "<table border=\"1\" class=\"dataframe\">\n",
       "  <thead>\n",
       "    <tr style=\"text-align: right;\">\n",
       "      <th></th>\n",
       "      <th>Manufacturer</th>\n",
       "      <th>Category</th>\n",
       "      <th>Price</th>\n",
       "      <th>Weight</th>\n",
       "      <th>RAM</th>\n",
       "      <th>TouchScreen</th>\n",
       "      <th>IPS</th>\n",
       "      <th>ppi</th>\n",
       "      <th>Cpu brand</th>\n",
       "      <th>HDD</th>\n",
       "      <th>SSD</th>\n",
       "      <th>gpu</th>\n",
       "      <th>OS</th>\n",
       "    </tr>\n",
       "  </thead>\n",
       "  <tbody>\n",
       "    <tr>\n",
       "      <th>0</th>\n",
       "      <td>Apple</td>\n",
       "      <td>Ultrabook</td>\n",
       "      <td>119125.23</td>\n",
       "      <td>1.37</td>\n",
       "      <td>8</td>\n",
       "      <td>0</td>\n",
       "      <td>1</td>\n",
       "      <td>226.983005</td>\n",
       "      <td>Intel Core i5</td>\n",
       "      <td>0</td>\n",
       "      <td>128</td>\n",
       "      <td>Intel</td>\n",
       "      <td>Mac</td>\n",
       "    </tr>\n",
       "    <tr>\n",
       "      <th>1</th>\n",
       "      <td>Apple</td>\n",
       "      <td>Ultrabook</td>\n",
       "      <td>79933.74</td>\n",
       "      <td>1.34</td>\n",
       "      <td>8</td>\n",
       "      <td>0</td>\n",
       "      <td>0</td>\n",
       "      <td>127.677940</td>\n",
       "      <td>Intel Core i5</td>\n",
       "      <td>0</td>\n",
       "      <td>0</td>\n",
       "      <td>Intel</td>\n",
       "      <td>Mac</td>\n",
       "    </tr>\n",
       "    <tr>\n",
       "      <th>2</th>\n",
       "      <td>HP</td>\n",
       "      <td>Notebook</td>\n",
       "      <td>51129.00</td>\n",
       "      <td>1.86</td>\n",
       "      <td>8</td>\n",
       "      <td>0</td>\n",
       "      <td>0</td>\n",
       "      <td>141.211998</td>\n",
       "      <td>Intel Core i5</td>\n",
       "      <td>0</td>\n",
       "      <td>256</td>\n",
       "      <td>Intel</td>\n",
       "      <td>Others/No OS</td>\n",
       "    </tr>\n",
       "    <tr>\n",
       "      <th>3</th>\n",
       "      <td>Apple</td>\n",
       "      <td>Ultrabook</td>\n",
       "      <td>225630.05</td>\n",
       "      <td>1.83</td>\n",
       "      <td>16</td>\n",
       "      <td>0</td>\n",
       "      <td>1</td>\n",
       "      <td>220.534624</td>\n",
       "      <td>Intel Core i7</td>\n",
       "      <td>0</td>\n",
       "      <td>512</td>\n",
       "      <td>AMD</td>\n",
       "      <td>Mac</td>\n",
       "    </tr>\n",
       "    <tr>\n",
       "      <th>4</th>\n",
       "      <td>Apple</td>\n",
       "      <td>Ultrabook</td>\n",
       "      <td>160376.11</td>\n",
       "      <td>1.37</td>\n",
       "      <td>8</td>\n",
       "      <td>0</td>\n",
       "      <td>1</td>\n",
       "      <td>226.983005</td>\n",
       "      <td>Intel Core i5</td>\n",
       "      <td>0</td>\n",
       "      <td>256</td>\n",
       "      <td>Intel</td>\n",
       "      <td>Mac</td>\n",
       "    </tr>\n",
       "  </tbody>\n",
       "</table>\n",
       "</div>"
      ],
      "text/plain": [
       "  Manufacturer   Category      Price  Weight  RAM  TouchScreen  IPS  \\\n",
       "0        Apple  Ultrabook  119125.23    1.37    8            0    1   \n",
       "1        Apple  Ultrabook   79933.74    1.34    8            0    0   \n",
       "2           HP   Notebook   51129.00    1.86    8            0    0   \n",
       "3        Apple  Ultrabook  225630.05    1.83   16            0    1   \n",
       "4        Apple  Ultrabook  160376.11    1.37    8            0    1   \n",
       "\n",
       "          ppi      Cpu brand  HDD  SSD    gpu            OS  \n",
       "0  226.983005  Intel Core i5    0  128  Intel           Mac  \n",
       "1  127.677940  Intel Core i5    0    0  Intel           Mac  \n",
       "2  141.211998  Intel Core i5    0  256  Intel  Others/No OS  \n",
       "3  220.534624  Intel Core i7    0  512    AMD           Mac  \n",
       "4  226.983005  Intel Core i5    0  256  Intel           Mac  "
      ]
     },
     "execution_count": 63,
     "metadata": {},
     "output_type": "execute_result"
    }
   ],
   "source": [
    "data.drop(columns=['Operating System'],inplace=True)\n",
    "data.head()"
   ]
  },
  {
   "cell_type": "code",
   "execution_count": 64,
   "id": "a88270ec",
   "metadata": {
    "execution": {
     "iopub.execute_input": "2023-04-07T18:06:43.686700Z",
     "iopub.status.busy": "2023-04-07T18:06:43.685389Z",
     "iopub.status.idle": "2023-04-07T18:06:43.989038Z",
     "shell.execute_reply": "2023-04-07T18:06:43.987645Z"
    },
    "papermill": {
     "duration": 0.345739,
     "end_time": "2023-04-07T18:06:43.992106",
     "exception": false,
     "start_time": "2023-04-07T18:06:43.646367",
     "status": "completed"
    },
    "tags": []
   },
   "outputs": [
    {
     "data": {
      "text/plain": [
       "<Axes: xlabel='OS', ylabel='Price'>"
      ]
     },
     "execution_count": 64,
     "metadata": {},
     "output_type": "execute_result"
    },
    {
     "data": {
      "image/png": "[encoded data removed]",
      "text/plain": [
       "<Figure size 1000x600 with 1 Axes>"
      ]
     },
     "metadata": {},
     "output_type": "display_data"
    }
   ],
   "source": [
    "plt.figure(figsize=(10,6))\n",
    "sns.barplot(x = data['OS'], y = data['Price'])"
   ]
  },
  {
   "cell_type": "code",
   "execution_count": 65,
   "id": "3c717724",
   "metadata": {
    "execution": {
     "iopub.execute_input": "2023-04-07T18:06:44.070271Z",
     "iopub.status.busy": "2023-04-07T18:06:44.069831Z",
     "iopub.status.idle": "2023-04-07T18:06:44.387064Z",
     "shell.execute_reply": "2023-04-07T18:06:44.385717Z"
    },
    "papermill": {
     "duration": 0.359488,
     "end_time": "2023-04-07T18:06:44.389840",
     "exception": false,
     "start_time": "2023-04-07T18:06:44.030352",
     "status": "completed"
    },
    "tags": []
   },
   "outputs": [
    {
     "data": {
      "text/plain": [
       "<Axes: >"
      ]
     },
     "execution_count": 65,
     "metadata": {},
     "output_type": "execute_result"
    },
    {
     "data": {
      "image/png": "[encoded data removed]",
      "text/plain": [
       "<Figure size 1000x600 with 2 Axes>"
      ]
     },
     "metadata": {},
     "output_type": "display_data"
    }
   ],
   "source": [
    "plt.figure(figsize=(10,6))\n",
    "sns.heatmap(data.corr())"
   ]
  },
  {
   "cell_type": "code",
   "execution_count": 66,
   "id": "69db9852",
   "metadata": {
    "execution": {
     "iopub.execute_input": "2023-04-07T18:06:44.470736Z",
     "iopub.status.busy": "2023-04-07T18:06:44.470312Z",
     "iopub.status.idle": "2023-04-07T18:06:44.777474Z",
     "shell.execute_reply": "2023-04-07T18:06:44.776034Z"
    },
    "papermill": {
     "duration": 0.350959,
     "end_time": "2023-04-07T18:06:44.780380",
     "exception": false,
     "start_time": "2023-04-07T18:06:44.429421",
     "status": "completed"
    },
    "tags": []
   },
   "outputs": [
    {
     "data": {
      "text/plain": [
       "<Axes: xlabel='Price', ylabel='Density'>"
      ]
     },
     "execution_count": 66,
     "metadata": {},
     "output_type": "execute_result"
    },
    {
     "data": {
      "image/png": "[encoded data removed]",
      "text/plain": [
       "<Figure size 1000x600 with 1 Axes>"
      ]
     },
     "metadata": {},
     "output_type": "display_data"
    }
   ],
   "source": [
    "plt.figure(figsize=(10,6))\n",
    "sns.distplot(np.log(data['Price']))"
   ]
  },
  {
   "cell_type": "markdown",
   "id": "49550386",
   "metadata": {
    "papermill": {
     "duration": 0.039827,
     "end_time": "2023-04-07T18:06:44.861051",
     "exception": false,
     "start_time": "2023-04-07T18:06:44.821224",
     "status": "completed"
    },
    "tags": []
   },
   "source": [
    "<h3><center> Prediction Model</center></h3>"
   ]
  },
  {
   "cell_type": "code",
   "execution_count": 67,
   "id": "59e78f1b",
   "metadata": {
    "execution": {
     "iopub.execute_input": "2023-04-07T18:06:44.944323Z",
     "iopub.status.busy": "2023-04-07T18:06:44.943838Z",
     "iopub.status.idle": "2023-04-07T18:06:44.952099Z",
     "shell.execute_reply": "2023-04-07T18:06:44.950319Z"
    },
    "papermill": {
     "duration": 0.054555,
     "end_time": "2023-04-07T18:06:44.955843",
     "exception": false,
     "start_time": "2023-04-07T18:06:44.901288",
     "status": "completed"
    },
    "tags": []
   },
   "outputs": [],
   "source": [
    "x = data.drop('Price',axis=1)\n",
    "y = np.log(data['Price'])"
   ]
  },
  {
   "cell_type": "code",
   "execution_count": 68,
   "id": "fc950b6f",
   "metadata": {
    "execution": {
     "iopub.execute_input": "2023-04-07T18:06:45.039805Z",
     "iopub.status.busy": "2023-04-07T18:06:45.039386Z",
     "iopub.status.idle": "2023-04-07T18:06:45.278866Z",
     "shell.execute_reply": "2023-04-07T18:06:45.277386Z"
    },
    "papermill": {
     "duration": 0.285512,
     "end_time": "2023-04-07T18:06:45.282130",
     "exception": false,
     "start_time": "2023-04-07T18:06:44.996618",
     "status": "completed"
    },
    "tags": []
   },
   "outputs": [],
   "source": [
    "from sklearn.model_selection import train_test_split\n",
    "x_train, x_test, y_train, y_test = train_test_split(x,y,test_size=0.15,random_state=2)"
   ]
  },
  {
   "cell_type": "code",
   "execution_count": 69,
   "id": "f1bec52f",
   "metadata": {
    "execution": {
     "iopub.execute_input": "2023-04-07T18:06:45.367021Z",
     "iopub.status.busy": "2023-04-07T18:06:45.366525Z",
     "iopub.status.idle": "2023-04-07T18:06:45.391532Z",
     "shell.execute_reply": "2023-04-07T18:06:45.390434Z"
    },
    "papermill": {
     "duration": 0.070037,
     "end_time": "2023-04-07T18:06:45.394391",
     "exception": false,
     "start_time": "2023-04-07T18:06:45.324354",
     "status": "completed"
    },
    "tags": []
   },
   "outputs": [],
   "source": [
    "from sklearn.compose import ColumnTransformer\n",
    "from sklearn.pipeline import Pipeline\n",
    "from sklearn.preprocessing import OneHotEncoder"
   ]
  },
  {
   "cell_type": "code",
   "execution_count": 70,
   "id": "4c0f22e4",
   "metadata": {
    "execution": {
     "iopub.execute_input": "2023-04-07T18:06:45.476730Z",
     "iopub.status.busy": "2023-04-07T18:06:45.475897Z",
     "iopub.status.idle": "2023-04-07T18:06:45.961248Z",
     "shell.execute_reply": "2023-04-07T18:06:45.959794Z"
    },
    "papermill": {
     "duration": 0.530076,
     "end_time": "2023-04-07T18:06:45.964327",
     "exception": false,
     "start_time": "2023-04-07T18:06:45.434251",
     "status": "completed"
    },
    "tags": []
   },
   "outputs": [
    {
     "ename": "ModuleNotFoundError",
     "evalue": "No module named 'xgboost'",
     "output_type": "error",
     "traceback": [
      "\u001b[1;31m---------------------------------------------------------------------------\u001b[0m",
      "\u001b[1;31mModuleNotFoundError\u001b[0m                       Traceback (most recent call last)",
      "\u001b[1;32m~\\AppData\\Local\\Temp\\ipykernel_8912\\3550920195.py\u001b[0m in \u001b[0;36m<module>\u001b[1;34m\u001b[0m\n\u001b[0;32m      5\u001b[0m \u001b[1;32mfrom\u001b[0m \u001b[0msklearn\u001b[0m\u001b[1;33m.\u001b[0m\u001b[0msvm\u001b[0m \u001b[1;32mimport\u001b[0m \u001b[0mSVR\u001b[0m\u001b[1;33m\u001b[0m\u001b[1;33m\u001b[0m\u001b[0m\n\u001b[0;32m      6\u001b[0m \u001b[1;32mfrom\u001b[0m \u001b[0msklearn\u001b[0m\u001b[1;33m.\u001b[0m\u001b[0mmetrics\u001b[0m \u001b[1;32mimport\u001b[0m \u001b[0mr2_score\u001b[0m\u001b[1;33m,\u001b[0m \u001b[0mmean_absolute_error\u001b[0m\u001b[1;33m\u001b[0m\u001b[1;33m\u001b[0m\u001b[0m\n\u001b[1;32m----> 7\u001b[1;33m \u001b[1;32mfrom\u001b[0m \u001b[0mxgboost\u001b[0m \u001b[1;32mimport\u001b[0m \u001b[0mXGBRegressor\u001b[0m\u001b[1;33m\u001b[0m\u001b[1;33m\u001b[0m\u001b[0m\n\u001b[0m",
      "\u001b[1;31mModuleNotFoundError\u001b[0m: No module named 'xgboost'"
     ]
    }
   ],
   "source": [
    "from sklearn.linear_model import LinearRegression, Ridge, Lasso\n",
    "from sklearn.neighbors import KNeighborsRegressor\n",
    "from sklearn.tree import DecisionTreeRegressor\n",
    "from sklearn.ensemble import RandomForestRegressor, GradientBoostingRegressor, AdaBoostRegressor, ExtraTreesRegressor\n",
    "from sklearn.svm import SVR\n",
    "from sklearn.metrics import r2_score, mean_absolute_error\n",
    "from xgboost import XGBRegressor"
   ]
  },
  {
   "cell_type": "markdown",
   "id": "3cace8af",
   "metadata": {
    "papermill": {
     "duration": 0.038958,
     "end_time": "2023-04-07T18:06:46.042867",
     "exception": false,
     "start_time": "2023-04-07T18:06:46.003909",
     "status": "completed"
    },
    "tags": []
   },
   "source": [
    "## Linear Regression"
   ]
  },
  {
   "cell_type": "code",
   "execution_count": null,
   "id": "1b320d3c",
   "metadata": {
    "execution": {
     "iopub.execute_input": "2023-04-07T18:06:46.123976Z",
     "iopub.status.busy": "2023-04-07T18:06:46.123570Z",
     "iopub.status.idle": "2023-04-07T18:06:46.162283Z",
     "shell.execute_reply": "2023-04-07T18:06:46.160592Z"
    },
    "papermill": {
     "duration": 0.083343,
     "end_time": "2023-04-07T18:06:46.165772",
     "exception": false,
     "start_time": "2023-04-07T18:06:46.082429",
     "status": "completed"
    },
    "tags": []
   },
   "outputs": [
    {
     "name": "stdout",
     "output_type": "stream",
     "text": [
      "R2 Score 0.7929870169190781\n",
      "MAE 0.2091029857174764\n"
     ]
    }
   ],
   "source": [
    "s1 = ColumnTransformer(transformers=[('col_tnf',OneHotEncoder(sparse=False,drop='first'),[0,1,7,10,11])],remainder='passthrough')\n",
    "\n",
    "lreg = LinearRegression()\n",
    "pipe = Pipeline([\n",
    "     ('s1',s1),\n",
    "     ('lreg',lreg)\n",
    "])\n",
    "\n",
    "pipe.fit(x_train,y_train)\n",
    "\n",
    "y_pred = pipe.predict(x_test)\n",
    "\n",
    "print('R2 Score', r2_score(y_test,y_pred))\n",
    "print('MAE', mean_absolute_error(y_test,y_pred))"
   ]
  },
  {
   "cell_type": "markdown",
   "id": "a180bffd",
   "metadata": {
    "papermill": {
     "duration": 0.05292,
     "end_time": "2023-04-07T18:06:46.286565",
     "exception": false,
     "start_time": "2023-04-07T18:06:46.233645",
     "status": "completed"
    },
    "tags": []
   },
   "source": [
    "## Ridge Regression"
   ]
  },
  {
   "cell_type": "code",
   "execution_count": null,
   "id": "69e7a225",
   "metadata": {
    "execution": {
     "iopub.execute_input": "2023-04-07T18:06:46.369210Z",
     "iopub.status.busy": "2023-04-07T18:06:46.368763Z",
     "iopub.status.idle": "2023-04-07T18:06:46.402313Z",
     "shell.execute_reply": "2023-04-07T18:06:46.400894Z"
    },
    "papermill": {
     "duration": 0.07901,
     "end_time": "2023-04-07T18:06:46.406026",
     "exception": false,
     "start_time": "2023-04-07T18:06:46.327016",
     "status": "completed"
    },
    "tags": []
   },
   "outputs": [
    {
     "name": "stdout",
     "output_type": "stream",
     "text": [
      "R2 Score 0.7966089409399147\n",
      "MAE 0.21015240820761416\n"
     ]
    }
   ],
   "source": [
    "s1 = ColumnTransformer(transformers=[('col_tnf',OneHotEncoder(sparse=False,drop='first'),[0,1,7,10,11])],remainder='passthrough')\n",
    "\n",
    "rreg = Ridge(alpha=10)\n",
    "pipe = Pipeline([\n",
    "     ('s1',s1),\n",
    "     ('Ridge',rreg)\n",
    "])\n",
    "\n",
    "pipe.fit(x_train,y_train)\n",
    "\n",
    "y_pred = pipe.predict(x_test)\n",
    "\n",
    "print('R2 Score', r2_score(y_test,y_pred))\n",
    "print('MAE', mean_absolute_error(y_test,y_pred))"
   ]
  },
  {
   "cell_type": "markdown",
   "id": "3d78078b",
   "metadata": {
    "papermill": {
     "duration": 0.052427,
     "end_time": "2023-04-07T18:06:46.531390",
     "exception": false,
     "start_time": "2023-04-07T18:06:46.478963",
     "status": "completed"
    },
    "tags": []
   },
   "source": [
    "## Lasso Regression"
   ]
  },
  {
   "cell_type": "code",
   "execution_count": null,
   "id": "38427adb",
   "metadata": {
    "execution": {
     "iopub.execute_input": "2023-04-07T18:06:46.614186Z",
     "iopub.status.busy": "2023-04-07T18:06:46.613713Z",
     "iopub.status.idle": "2023-04-07T18:06:46.649480Z",
     "shell.execute_reply": "2023-04-07T18:06:46.647938Z"
    },
    "papermill": {
     "duration": 0.081257,
     "end_time": "2023-04-07T18:06:46.652985",
     "exception": false,
     "start_time": "2023-04-07T18:06:46.571728",
     "status": "completed"
    },
    "tags": []
   },
   "outputs": [
    {
     "name": "stdout",
     "output_type": "stream",
     "text": [
      "R2 Score 0.7930658599410685\n",
      "MAE 0.21232357801963422\n"
     ]
    }
   ],
   "source": [
    "s1 = ColumnTransformer(transformers=[('col_tnf',OneHotEncoder(sparse=False,drop='first'),[0,1,7,10,11])],remainder='passthrough')\n",
    "\n",
    "lreg = Lasso(alpha=0.001)\n",
    "pipe = Pipeline([\n",
    "     ('s1',s1),\n",
    "     ('s2',lreg)\n",
    "])\n",
    "\n",
    "pipe.fit(x_train,y_train)\n",
    "\n",
    "y_pred = pipe.predict(x_test)\n",
    "\n",
    "print('R2 Score', r2_score(y_test,y_pred))\n",
    "print('MAE', mean_absolute_error(y_test,y_pred))"
   ]
  },
  {
   "cell_type": "markdown",
   "id": "b0731f52",
   "metadata": {
    "papermill": {
     "duration": 0.054887,
     "end_time": "2023-04-07T18:06:46.776088",
     "exception": false,
     "start_time": "2023-04-07T18:06:46.721201",
     "status": "completed"
    },
    "tags": []
   },
   "source": [
    "## KNN"
   ]
  },
  {
   "cell_type": "code",
   "execution_count": null,
   "id": "0c23ce10",
   "metadata": {
    "execution": {
     "iopub.execute_input": "2023-04-07T18:06:46.858234Z",
     "iopub.status.busy": "2023-04-07T18:06:46.857818Z",
     "iopub.status.idle": "2023-04-07T18:06:46.892892Z",
     "shell.execute_reply": "2023-04-07T18:06:46.891479Z"
    },
    "papermill": {
     "duration": 0.079924,
     "end_time": "2023-04-07T18:06:46.896205",
     "exception": false,
     "start_time": "2023-04-07T18:06:46.816281",
     "status": "completed"
    },
    "tags": []
   },
   "outputs": [
    {
     "name": "stdout",
     "output_type": "stream",
     "text": [
      "R2 Score 0.8246454216667717\n",
      "MAE 0.19892585383908662\n"
     ]
    }
   ],
   "source": [
    "s1 = ColumnTransformer(transformers=[('col_tnf',OneHotEncoder(sparse=False,drop='first'),[0,1,7,10,11])],remainder='passthrough')\n",
    "\n",
    "knn = KNeighborsRegressor(n_neighbors=5)\n",
    "pipe = Pipeline([\n",
    "     ('s1',s1),\n",
    "     ('s2',knn)\n",
    "])\n",
    "\n",
    "pipe.fit(x_train,y_train)\n",
    "\n",
    "y_pred = pipe.predict(x_test)\n",
    "\n",
    "print('R2 Score', r2_score(y_test,y_pred))\n",
    "print('MAE', mean_absolute_error(y_test,y_pred))"
   ]
  },
  {
   "cell_type": "markdown",
   "id": "3c2fd57b",
   "metadata": {
    "papermill": {
     "duration": 0.056168,
     "end_time": "2023-04-07T18:06:47.023361",
     "exception": false,
     "start_time": "2023-04-07T18:06:46.967193",
     "status": "completed"
    },
    "tags": []
   },
   "source": [
    "## Decision Tree"
   ]
  },
  {
   "cell_type": "code",
   "execution_count": null,
   "id": "82997d23",
   "metadata": {
    "execution": {
     "iopub.execute_input": "2023-04-07T18:06:47.108648Z",
     "iopub.status.busy": "2023-04-07T18:06:47.108217Z",
     "iopub.status.idle": "2023-04-07T18:06:47.135912Z",
     "shell.execute_reply": "2023-04-07T18:06:47.134355Z"
    },
    "papermill": {
     "duration": 0.072441,
     "end_time": "2023-04-07T18:06:47.138959",
     "exception": false,
     "start_time": "2023-04-07T18:06:47.066518",
     "status": "completed"
    },
    "tags": []
   },
   "outputs": [
    {
     "name": "stdout",
     "output_type": "stream",
     "text": [
      "R2 Score 0.7900097582914927\n",
      "MAE 0.20922101174652677\n"
     ]
    }
   ],
   "source": [
    "s1 = ColumnTransformer(transformers=[('col_tnf',OneHotEncoder(sparse=False,drop='first'),[0,1,7,10,11])],remainder='passthrough')\n",
    "\n",
    "dtr = DecisionTreeRegressor(max_depth=8)\n",
    "pipe = Pipeline([\n",
    "     ('s1',s1),\n",
    "     ('s2',dtr)\n",
    "])\n",
    "\n",
    "pipe.fit(x_train,y_train)\n",
    "\n",
    "y_pred = pipe.predict(x_test)\n",
    "\n",
    "print('R2 Score', r2_score(y_test,y_pred))\n",
    "print('MAE', mean_absolute_error(y_test,y_pred))"
   ]
  },
  {
   "cell_type": "markdown",
   "id": "60d202d1",
   "metadata": {
    "papermill": {
     "duration": 0.039414,
     "end_time": "2023-04-07T18:06:47.218978",
     "exception": false,
     "start_time": "2023-04-07T18:06:47.179564",
     "status": "completed"
    },
    "tags": []
   },
   "source": [
    "## SVM"
   ]
  },
  {
   "cell_type": "code",
   "execution_count": null,
   "id": "7f12278e",
   "metadata": {
    "execution": {
     "iopub.execute_input": "2023-04-07T18:06:47.300955Z",
     "iopub.status.busy": "2023-04-07T18:06:47.300225Z",
     "iopub.status.idle": "2023-04-07T18:06:48.188848Z",
     "shell.execute_reply": "2023-04-07T18:06:48.187042Z"
    },
    "papermill": {
     "duration": 0.933815,
     "end_time": "2023-04-07T18:06:48.192586",
     "exception": false,
     "start_time": "2023-04-07T18:06:47.258771",
     "status": "completed"
    },
    "tags": []
   },
   "outputs": [
    {
     "name": "stdout",
     "output_type": "stream",
     "text": [
      "R2 Score 0.8241587402168392\n",
      "MAE 0.19195503094161084\n"
     ]
    }
   ],
   "source": [
    "s1 = ColumnTransformer(transformers=[('col_tnf',OneHotEncoder(sparse=False,drop='first'),[0,1,7,10,11])],remainder='passthrough')\n",
    "\n",
    "svm = SVR(kernel='rbf',C=10000,epsilon=0.1)\n",
    "pipe = Pipeline([\n",
    "     ('s1',s1),\n",
    "     ('s2',svm)\n",
    "])\n",
    "\n",
    "pipe.fit(x_train,y_train)\n",
    "\n",
    "y_pred = pipe.predict(x_test)\n",
    "\n",
    "print('R2 Score', r2_score(y_test,y_pred))\n",
    "print('MAE', mean_absolute_error(y_test,y_pred))"
   ]
  },
  {
   "cell_type": "markdown",
   "id": "7e940bb8",
   "metadata": {
    "papermill": {
     "duration": 0.040038,
     "end_time": "2023-04-07T18:06:48.272860",
     "exception": false,
     "start_time": "2023-04-07T18:06:48.232822",
     "status": "completed"
    },
    "tags": []
   },
   "source": [
    "## Random Forest Regression"
   ]
  },
  {
   "cell_type": "code",
   "execution_count": null,
   "id": "3b131416",
   "metadata": {
    "execution": {
     "iopub.execute_input": "2023-04-07T18:06:48.355955Z",
     "iopub.status.busy": "2023-04-07T18:06:48.354992Z",
     "iopub.status.idle": "2023-04-07T18:06:49.880944Z",
     "shell.execute_reply": "2023-04-07T18:06:49.879251Z"
    },
    "papermill": {
     "duration": 1.570754,
     "end_time": "2023-04-07T18:06:49.883842",
     "exception": false,
     "start_time": "2023-04-07T18:06:48.313088",
     "status": "completed"
    },
    "tags": []
   },
   "outputs": [
    {
     "name": "stdout",
     "output_type": "stream",
     "text": [
      "R2 Score 0.8721173515306412\n",
      "MAE 0.16095865673360596\n"
     ]
    }
   ],
   "source": [
    "s1 = ColumnTransformer(transformers=[('col_tnf',OneHotEncoder(sparse=False,drop='first'),[0,1,7,10,11])],remainder='passthrough')\n",
    "\n",
    "rrr = RandomForestRegressor(n_estimators=500,\n",
    "                            random_state=3,\n",
    "                            max_samples=0.7,\n",
    "                            max_features=0.5,\n",
    "                            max_depth=15)\n",
    "pipe = Pipeline([\n",
    "     ('s1',s1),\n",
    "     ('s2',rrr)\n",
    "])\n",
    "\n",
    "pipe.fit(x_train,y_train)\n",
    "\n",
    "y_pred = pipe.predict(x_test)\n",
    "\n",
    "print('R2 Score', r2_score(y_test,y_pred))\n",
    "print('MAE', mean_absolute_error(y_test,y_pred))"
   ]
  },
  {
   "cell_type": "markdown",
   "id": "db8cefff",
   "metadata": {
    "papermill": {
     "duration": 0.040931,
     "end_time": "2023-04-07T18:06:49.965065",
     "exception": false,
     "start_time": "2023-04-07T18:06:49.924134",
     "status": "completed"
    },
    "tags": []
   },
   "source": [
    "## Extra Trees"
   ]
  },
  {
   "cell_type": "code",
   "execution_count": null,
   "id": "3ec99427",
   "metadata": {
    "execution": {
     "iopub.execute_input": "2023-04-07T18:06:50.047754Z",
     "iopub.status.busy": "2023-04-07T18:06:50.047331Z",
     "iopub.status.idle": "2023-04-07T18:06:50.335986Z",
     "shell.execute_reply": "2023-04-07T18:06:50.334459Z"
    },
    "papermill": {
     "duration": 0.333221,
     "end_time": "2023-04-07T18:06:50.338762",
     "exception": false,
     "start_time": "2023-04-07T18:06:50.005541",
     "status": "completed"
    },
    "tags": []
   },
   "outputs": [
    {
     "name": "stdout",
     "output_type": "stream",
     "text": [
      "R2 Score 0.873538807628862\n",
      "MAE 0.1619504861924597\n"
     ]
    }
   ],
   "source": [
    "s1 = ColumnTransformer(transformers=[('col_tnf',OneHotEncoder(sparse=False,drop='first'),[0,1,7,10,11])],remainder='passthrough')\n",
    "\n",
    "xt = ExtraTreesRegressor(n_estimators=100,\n",
    "                            random_state=3,\n",
    "                            max_samples=0.7,\n",
    "                            bootstrap=True,\n",
    "                            max_features=0.5,\n",
    "                            max_depth=15)\n",
    "pipe = Pipeline([\n",
    "     ('s1',s1),\n",
    "     ('s2',xt)\n",
    "])\n",
    "\n",
    "pipe.fit(x_train,y_train)\n",
    "\n",
    "y_pred = pipe.predict(x_test)\n",
    "\n",
    "print('R2 Score', r2_score(y_test,y_pred))\n",
    "print('MAE', mean_absolute_error(y_test,y_pred))"
   ]
  },
  {
   "cell_type": "markdown",
   "id": "464ec19f",
   "metadata": {
    "papermill": {
     "duration": 0.043837,
     "end_time": "2023-04-07T18:06:50.423944",
     "exception": false,
     "start_time": "2023-04-07T18:06:50.380107",
     "status": "completed"
    },
    "tags": []
   },
   "source": [
    "## Ada Boost"
   ]
  },
  {
   "cell_type": "code",
   "execution_count": null,
   "id": "0939a9b7",
   "metadata": {
    "execution": {
     "iopub.execute_input": "2023-04-07T18:06:50.510297Z",
     "iopub.status.busy": "2023-04-07T18:06:50.509553Z",
     "iopub.status.idle": "2023-04-07T18:06:50.580054Z",
     "shell.execute_reply": "2023-04-07T18:06:50.578585Z"
    },
    "papermill": {
     "duration": 0.117006,
     "end_time": "2023-04-07T18:06:50.583057",
     "exception": false,
     "start_time": "2023-04-07T18:06:50.466051",
     "status": "completed"
    },
    "tags": []
   },
   "outputs": [
    {
     "name": "stdout",
     "output_type": "stream",
     "text": [
      "R2 Score 0.7815017080097169\n",
      "MAE 0.23276009152367186\n"
     ]
    }
   ],
   "source": [
    "s1 = ColumnTransformer(transformers=[('col_tnf',OneHotEncoder(sparse=False,drop='first'),[0,1,7,10,11])],remainder='passthrough')\n",
    "\n",
    "s2 = AdaBoostRegressor(n_estimators=15,learning_rate=1.0)\n",
    "pipe = Pipeline([\n",
    "     ('s1',s1),\n",
    "     ('s2',s2)\n",
    "])\n",
    "\n",
    "pipe.fit(x_train,y_train)\n",
    "\n",
    "y_pred = pipe.predict(x_test)\n",
    "\n",
    "print('R2 Score', r2_score(y_test,y_pred))\n",
    "print('MAE', mean_absolute_error(y_test,y_pred))"
   ]
  },
  {
   "cell_type": "markdown",
   "id": "48abbf77",
   "metadata": {
    "papermill": {
     "duration": 0.040056,
     "end_time": "2023-04-07T18:06:50.665460",
     "exception": false,
     "start_time": "2023-04-07T18:06:50.625404",
     "status": "completed"
    },
    "tags": []
   },
   "source": [
    "## Gradient Boost"
   ]
  },
  {
   "cell_type": "code",
   "execution_count": null,
   "id": "719b267d",
   "metadata": {
    "execution": {
     "iopub.execute_input": "2023-04-07T18:06:50.749496Z",
     "iopub.status.busy": "2023-04-07T18:06:50.748160Z",
     "iopub.status.idle": "2023-04-07T18:06:51.105732Z",
     "shell.execute_reply": "2023-04-07T18:06:51.103743Z"
    },
    "papermill": {
     "duration": 0.402895,
     "end_time": "2023-04-07T18:06:51.108496",
     "exception": false,
     "start_time": "2023-04-07T18:06:50.705601",
     "status": "completed"
    },
    "tags": []
   },
   "outputs": [
    {
     "name": "stdout",
     "output_type": "stream",
     "text": [
      "R2 Score 0.8503895247650752\n",
      "MAE 0.17404258585098806\n"
     ]
    }
   ],
   "source": [
    "s1 = ColumnTransformer(transformers=[('col_tnf',OneHotEncoder(sparse=False,drop='first'),[0,1,7,10,11])],remainder='passthrough')\n",
    "\n",
    "s2 = GradientBoostingRegressor(n_estimators=250)\n",
    "pipe = Pipeline([\n",
    "     ('s1',s1),\n",
    "     ('s2',s2)\n",
    "])\n",
    "\n",
    "pipe.fit(x_train,y_train)\n",
    "\n",
    "y_pred = pipe.predict(x_test)\n",
    "\n",
    "print('R2 Score', r2_score(y_test,y_pred))\n",
    "print('MAE', mean_absolute_error(y_test,y_pred))"
   ]
  },
  {
   "cell_type": "markdown",
   "id": "24b21129",
   "metadata": {
    "papermill": {
     "duration": 0.042375,
     "end_time": "2023-04-07T18:06:51.191640",
     "exception": false,
     "start_time": "2023-04-07T18:06:51.149265",
     "status": "completed"
    },
    "tags": []
   },
   "source": [
    "## Xgboost"
   ]
  },
  {
   "cell_type": "code",
   "execution_count": null,
   "id": "1a69266c",
   "metadata": {
    "execution": {
     "iopub.execute_input": "2023-04-07T18:06:51.275386Z",
     "iopub.status.busy": "2023-04-07T18:06:51.274740Z",
     "iopub.status.idle": "2023-04-07T18:06:51.881951Z",
     "shell.execute_reply": "2023-04-07T18:06:51.880857Z"
    },
    "papermill": {
     "duration": 0.652381,
     "end_time": "2023-04-07T18:06:51.884825",
     "exception": false,
     "start_time": "2023-04-07T18:06:51.232444",
     "status": "completed"
    },
    "tags": []
   },
   "outputs": [
    {
     "name": "stdout",
     "output_type": "stream",
     "text": [
      "R2 Score 0.8673979584464678\n",
      "MAE 0.16671179513820483\n"
     ]
    }
   ],
   "source": [
    "s1 = ColumnTransformer(transformers=[('col_tnf',OneHotEncoder(sparse=False,drop='first'),[0,1,7,10,11])],remainder='passthrough')\n",
    "\n",
    "s2 = XGBRegressor(n_estimators=100,max_depth=3,learning_rate=0.5)\n",
    "pipe = Pipeline([\n",
    "('s1',s1),\n",
    "('s2',s2)\n",
    "])\n",
    "\n",
    "pipe.fit(x_train,y_train)\n",
    "\n",
    "y_pred = pipe.predict(x_test)\n",
    "\n",
    "print('R2 Score', r2_score(y_test,y_pred))\n",
    "print('MAE', mean_absolute_error(y_test,y_pred))"
   ]
  },
  {
   "cell_type": "markdown",
   "id": "df05eee0",
   "metadata": {
    "papermill": {
     "duration": 0.041297,
     "end_time": "2023-04-07T18:06:51.966577",
     "exception": false,
     "start_time": "2023-04-07T18:06:51.925280",
     "status": "completed"
    },
    "tags": []
   },
   "source": [
    "## Voting Regressor"
   ]
  },
  {
   "cell_type": "code",
   "execution_count": null,
   "id": "d5ec5da6",
   "metadata": {
    "execution": {
     "iopub.execute_input": "2023-04-07T18:06:52.051445Z",
     "iopub.status.busy": "2023-04-07T18:06:52.049966Z",
     "iopub.status.idle": "2023-04-07T18:06:52.056675Z",
     "shell.execute_reply": "2023-04-07T18:06:52.055293Z"
    },
    "papermill": {
     "duration": 0.051679,
     "end_time": "2023-04-07T18:06:52.059228",
     "exception": false,
     "start_time": "2023-04-07T18:06:52.007549",
     "status": "completed"
    },
    "tags": []
   },
   "outputs": [],
   "source": [
    "from sklearn.ensemble import VotingRegressor, StackingRegressor"
   ]
  },
  {
   "cell_type": "code",
   "execution_count": null,
   "id": "0c287b3a",
   "metadata": {
    "execution": {
     "iopub.execute_input": "2023-04-07T18:06:52.144329Z",
     "iopub.status.busy": "2023-04-07T18:06:52.143446Z",
     "iopub.status.idle": "2023-04-07T18:06:54.600684Z",
     "shell.execute_reply": "2023-04-07T18:06:54.597875Z"
    },
    "papermill": {
     "duration": 2.506241,
     "end_time": "2023-04-07T18:06:54.605961",
     "exception": false,
     "start_time": "2023-04-07T18:06:52.099720",
     "status": "completed"
    },
    "tags": []
   },
   "outputs": [
    {
     "name": "stdout",
     "output_type": "stream",
     "text": [
      "R2 Score 0.8795042919907405\n",
      "MAE 0.15761714815231906\n"
     ]
    }
   ],
   "source": [
    "s1 = ColumnTransformer(transformers=[('col_tnf',OneHotEncoder(sparse=False,drop='first'),[0,1,7,10,11])],remainder='passthrough')\n",
    "\n",
    "rf = RandomForestRegressor(n_estimators=500,random_state=3,max_samples=0.7,max_features=0.5,max_depth=15)\n",
    "gbdt = GradientBoostingRegressor(n_estimators=250,max_features=0.5)\n",
    "xgb = XGBRegressor(n_estimators=100,learning_rate=0.5,max_depth=3)\n",
    "et = ExtraTreesRegressor(n_estimators=100,random_state=3,bootstrap=True,max_samples=0.7,max_features=0.5,max_depth=15)\n",
    "\n",
    "s2 = VotingRegressor([('et',et),('rf',rf),('xgb',xgb),('gbdt',gbdt)],weights=[100,50,25,10])\n",
    "pipe = Pipeline([\n",
    "     ('s1',s1),\n",
    "     ('s2',s2)\n",
    "])\n",
    "\n",
    "pipe.fit(x_train,y_train)\n",
    "\n",
    "y_pred = pipe.predict(x_test)\n",
    "\n",
    "print('R2 Score', r2_score(y_test,y_pred))\n",
    "print('MAE', mean_absolute_error(y_test,y_pred))"
   ]
  },
  {
   "cell_type": "markdown",
   "id": "a65611aa",
   "metadata": {
    "papermill": {
     "duration": 0.040876,
     "end_time": "2023-04-07T18:06:54.695820",
     "exception": false,
     "start_time": "2023-04-07T18:06:54.654944",
     "status": "completed"
    },
    "tags": []
   },
   "source": [
    "## Stacking"
   ]
  },
  {
   "cell_type": "code",
   "execution_count": null,
   "id": "241babf4",
   "metadata": {
    "execution": {
     "iopub.execute_input": "2023-04-07T18:06:54.780258Z",
     "iopub.status.busy": "2023-04-07T18:06:54.778894Z",
     "iopub.status.idle": "2023-04-07T18:07:06.987239Z",
     "shell.execute_reply": "2023-04-07T18:07:06.985839Z"
    },
    "papermill": {
     "duration": 12.253151,
     "end_time": "2023-04-07T18:07:06.990103",
     "exception": false,
     "start_time": "2023-04-07T18:06:54.736952",
     "status": "completed"
    },
    "tags": []
   },
   "outputs": [
    {
     "name": "stdout",
     "output_type": "stream",
     "text": [
      "R2 Score 0.8786299046117996\n",
      "MAE 0.1609628204502735\n"
     ]
    }
   ],
   "source": [
    "s1 = ColumnTransformer(transformers=[('col_tnf',OneHotEncoder(sparse=False,drop='first'),[0,1,7,10,11])],remainder='passthrough')\n",
    "\n",
    "estms = [\n",
    "    ('rf',RandomForestRegressor(n_estimators=500,random_state=3,max_samples=0.7,max_features=0.5,max_depth=15)),\n",
    "    ('xgb',XGBRegressor(n_estimators=100,learning_rate=0.5,max_depth=3)),\n",
    "    ('et',ExtraTreesRegressor(n_estimators=100,random_state=3,bootstrap=True,max_samples=0.7,max_features=0.5,max_depth=15))    \n",
    "]\n",
    "\n",
    "s2 = StackingRegressor(estimators=estms,final_estimator=Ridge(alpha=100))\n",
    "pipe = Pipeline([\n",
    "     ('s1',s1),\n",
    "     ('s2',s2)\n",
    "])\n",
    "\n",
    "pipe.fit(x_train,y_train)\n",
    "\n",
    "y_pred = pipe.predict(x_test)\n",
    "\n",
    "print('R2 Score', r2_score(y_test,y_pred))\n",
    "print('MAE', mean_absolute_error(y_test,y_pred))"
   ]
  }
 ],
 "metadata": {
  "kernelspec": {
   "display_name": "Python 3",
   "language": "python",
   "name": "python3"
  },
  "language_info": {
   "codemirror_mode": {
    "name": "ipython",
    "version": 3
   },
   "file_extension": ".py",
   "mimetype": "text/x-python",
   "name": "python",
   "nbconvert_exporter": "python",
   "pygments_lexer": "ipython3",
   "version": "3.9.13"
  },
  "papermill": {
   "default_parameters": {},
   "duration": 47.900561,
   "end_time": "2023-04-07T18:07:07.955044",
   "environment_variables": {},
   "exception": null,
   "input_path": "__notebook__.ipynb",
   "output_path": "__notebook__.ipynb",
   "parameters": {},
   "start_time": "2023-04-07T18:06:20.054483",
   "version": "2.4.0"
  }
 },
 "nbformat": 4,
 "nbformat_minor": 5
}
